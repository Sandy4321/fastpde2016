{
 "cells": [
  {
   "cell_type": "markdown",
   "metadata": {},
   "source": [
    "# Fast PDE/IE course, Skoltech, Spring 2015"
   ]
  },
  {
   "cell_type": "markdown",
   "metadata": {},
   "source": [
    "## Problem (80 pts). High-Frequency Magnetic Resonance Imaging\n",
    "\n",
    "\n",
    "Magnetic resonance imaging (MRI) is a non-invasive medical diagnostic technique, in which the atomic nuclei in the body are excited by a radio-frequency magnetic field.\n",
    "\n",
    "In search of higher imaging resolutions, many research institutions are now developing MRI with high magnetic fields and resonant frequencies. For example, modern MRI systems built with $7$ Tesla superconducting magnets operate at $298.3$ MHz.\n",
    "\n",
    "Understanding the effects that high-frequency MRI have on the human body begins with a model of the underlying physics. To demonstrate these principles, several simplifying assumptions and approximations are made that reduce the governing equations to the Helmholtz equation in non-conductive media:\n",
    "$$\n",
    "\\Delta u({\\bf r}) + k^2({\\bf r}) u({\\bf r}) = v({\\bf r}) \n",
    "$$\n",
    "where $u({\\bf r})$ is the electric ﬁeld strength in volts per meter, $v({\\bf r})$ is the electric excitation, $k({\\bf r})$ is the wave\n",
    "number, and ${\\bf r} = (x,y,z)$ is the vector deﬁning the location of the observation point. \n",
    "Note that $k({\\bf r})$ has the\n",
    "following relationship with the other constants of electromagnetics:\n",
    "$$\n",
    "k^2({\\bf r}) = \\omega^2 \\mu \\epsilon({\\bf r})\n",
    "$$\n",
    "where $\\omega = 2\\pi f$ is the angular frequency in radians per second, $\\mu$ is the magnetic permeability in henries per\n",
    "meter, and $\\epsilon({\\bf r})$ is the electric permittivity in farads per meter, as a function of the location vector ${\\bf r}$.\n",
    "\n",
    "Let us simulate the scattering of EM waves by the presence of a human head. Human tissue is slightly capacitive, but non-magnetic. We can model it as a material with magnetic permeability in the freespace $\\mu = \\mu_0 = 4\\pi \\cdot 10^{-7}$ H/m, and a location-dependent electric permittivity $\\epsilon({\\bf r}) = \\epsilon_r \\epsilon_0$. $u({\\bf r})$ can be approximately chosen as zero on boundaries. \n",
    "\n",
    "Here is the $\\epsilon_r$:"
   ]
  },
  {
   "cell_type": "code",
   "execution_count": 1,
   "metadata": {
    "collapsed": false
   },
   "outputs": [
    {
     "data": {
      "text/plain": [
       "<matplotlib.text.Text at 0x10be94b10>"
      ]
     },
     "execution_count": 1,
     "metadata": {},
     "output_type": "execute_result"
    },
    {
     "data": {
      "image/png": "[encoded data removed]",
      "text/plain": [
       "<matplotlib.figure.Figure at 0x10bc9c350>"
      ]
     },
     "metadata": {},
     "output_type": "display_data"
    }
   ],
   "source": [
    "import scipy.io\n",
    "import numpy as np\n",
    "import matplotlib.pyplot as plt\n",
    "%matplotlib inline\n",
    "mat = scipy.io.loadmat('MRI_DATA.mat')\n",
    "e_r = mat['e_r']\n",
    "plt.subplot(1, 2, 1)\n",
    "plt.imshow(np.real(e_r))\n",
    "plt.subplot(1, 2, 2)\n",
    "plt.imshow(np.imag(e_r))\n",
    "plt.suptitle('A plot of the $\\epsilon_r = \\epsilon(r)/\\epsilon_0$. Real and imaginary parts')"
   ]
  },
  {
   "cell_type": "markdown",
   "metadata": {},
   "source": [
    "### An Integral Equation formulation\n",
    "* (10 pts) Show that the Helmholtz equation can be represented in the integral equation formulation\n",
    "$$\n",
    "u({\\bf r}) + \\int \\chi ({\\bf r'}) u({\\bf r'}) G({\\bf r}-{\\bf r'}) d{\\bf r'} = \n",
    "\\int v({\\bf r'})G({\\bf r}-{\\bf r'}) d{\\bf r'},\n",
    "$$\n",
    "where \n",
    "$$\n",
    "G({\\bf r}-{\\bf r'}) = \\frac{e^{ik_0\\|{\\bf r}-{\\bf r'}\\|}}{4\\pi\\|{\\bf r}-{\\bf r'}\\|}\n",
    "$$\n",
    "is the Green’s function to the 3D Helmholtz operator and $\\chi({\\bf r}) = k^2({\\bf r}) - k_0^2$, where $k^2_0 = \\omega^2 \\mu_0 \\epsilon_0$. \n",
    "What kind of integral equation is this?\n",
    "**Note:** if this task seems to be too challaging for you, skip it until the whole problem set will be solved\n",
    "\n",
    "\n",
    "* (5 pts) Explain why the itegral formulation is more preferrable here as compared to the differential formulation"
   ]
  },
  {
   "cell_type": "code",
   "execution_count": null,
   "metadata": {
    "collapsed": true
   },
   "outputs": [],
   "source": []
  },
  {
   "cell_type": "markdown",
   "metadata": {},
   "source": [
    "### Discretization\n",
    "Let us consider system of linear equations obtained from a Galerkin discretization scheme of the integral formulation:\n",
    "$$\n",
    "A_h u_h = f_h\n",
    "$$\n",
    "where $u_h\\in \\mathbb{R}^{N\\times 1}$ is the vector of unknowns, $f_h\\in \\mathbb{R}^{N\\times 1}$ is the vector of excitations and $A_h\\in \\mathbb{R}^{N\\times N}$ is the dense coupling coeﬃcient matrix.\n",
    "To model the head, use the MRI data for $\\epsilon_r ({\\bf r}) = \\epsilon ({\\bf r})/\\epsilon_0$\n",
    "```MRI_DATA.mat```.\n",
    "\n",
    "Consider the grid created by importing ``` MRI_DATA.mat```, which contains $N = 256^2$ ﬂat, square and\n",
    "constant-value \"pixels\", with each side having a length $h = 1/256$ meters. Each pixel can be used as the\n",
    "basis and testing functions in a Galerkin discretization.\n",
    "\n",
    "* (5 pts) Write down an integral that can be used to evaluate $A_{ij}$, the element in the $i$-th row and $j$-th column of the coeﬃcient matrix $A$. Specify $A_{ij}$ where $\\chi = 0$ (out of head regions). \n",
    "\n",
    "Let $f({\\bf r})$ denote the excitation on the right-hand side:\n",
    "$$\n",
    "f({\\bf r}) = \\int v({\\bf r'})G({\\bf r}-{\\bf r'}) d{\\bf r'}.\n",
    "$$\n",
    "Let us set $v({\\bf r})$ to an impulse (delta-function) located at $x = 0.6$ m and $y = 0.7$ m.\n",
    "\n",
    "* (5 pts) How does $f({\\bf r})$ look like in this case? Write down an integral that can be used to evaluate $f_i$, the element in the i-th row of the excitation matrix. \n",
    "\n",
    "It is worth mentioning the ease with which integral equations can handle impulses and singularities."
   ]
  },
  {
   "cell_type": "code",
   "execution_count": null,
   "metadata": {
    "collapsed": true
   },
   "outputs": [],
   "source": []
  },
  {
   "cell_type": "markdown",
   "metadata": {
    "collapsed": true
   },
   "source": [
    "It is time to form a matrix. You are given two functions:\n",
    "\n",
    "1. ```DEMCEM_ST``` (Athanasios G. Polimeridis, Direct Evaluation Method in Computational ElectroMagnetics http://web.mit.edu/thanos_p/www/DEMCEM.html). It calculates\n",
    "$$\n",
    "\\text{DEMCEM_ST} = \\int_0^h \\int_0^h \\int_0^h \\int_0^h \n",
    "G\\left(k, \\sqrt{(x-x')^2 + (y - y')^2} \\ \\right) dx' dy' dx \\, dy.\n",
    "$$\n",
    "```\n",
    "k0 = 2*pi*f/299792458;\n",
    "st = DEMCEM_ST(k0,h);\n",
    "```\n",
    "\n",
    "2. ```nwspgr```. It implements sparse grid quadrature, and was authored by Florian Heiss, Viktor Winschel at http://sparse-grids.de/. \n",
    "It generates multidimensional quadrature points via the sparse grid method. As the grid is really sparse, the calculations are done very fast. \n",
    "\n",
    "The ```nwspgr``` is a MATLAB function. Fortunately, you need fixed weights and quadrature points for all integrals. Demo code how to generate weights and nodes is shown below:\n",
    "\n",
    "```\n",
    "% 4-dimensional quadrature nodes and weights of order 3\n",
    "[nodes, weights] = nwspgr('KPU', 4, 3); \n",
    "```\n",
    "Given nodes and weights you can simply write in Python\n",
    "```\n",
    "% Quadrature for some 4-dimensional function \"func\"\n",
    "integral = weights.dot(func(nodes[:, 1], nodes[:, 2],\n",
    "                            nodes[:, 3], nodes[:, 4]))\n",
    "```\n",
    "to calculate a 4-dimensional integral of a function ```func```.\n",
    "\n",
    "* (3 pt) Describe which matrix elements of $A$ can be computed via ```DEMCEM_ST```\n",
    "\n",
    "\n",
    "* (12 pts) Using the coeﬃcients generated by ```DEMCEM_ST``` and ```nwspgr```, produce code that will compute any\n",
    "element $A_{ij}$ in the coeﬃcient matrix $A$ for given $i$ and $j$. Measure the time it takes to ﬁll a single\n",
    "column of the coeﬃcient matrix $A$. Notice that $A$ has a translation-invariant structure; estimate\n",
    "the time it would take the ﬁll the entire matrix $A$ in case this structure goes unnoticed."
   ]
  },
  {
   "cell_type": "code",
   "execution_count": null,
   "metadata": {
    "collapsed": true
   },
   "outputs": [],
   "source": []
  },
  {
   "cell_type": "markdown",
   "metadata": {},
   "source": [
    "### A Fast Integral Equation Solver\n",
    "Without noting the translation-invariant structure, forming the coeﬃcient matrix along requires the\n",
    "evaluation of $N^2$ 4-dimensional integrals using quadrature. Then, invertion of the matrix directly with Gaussian elimination costs $\\mathcal{O}(N^3)$.\n",
    "Fortunately, a part of matrix $A$ has a block-Toeplitz structure that can be exploited to\n",
    "solve the linear system using an iterative method with $\\mathcal{O}(K_\\text{iter}N \\log N)$ complexity by embedding $A$ into a block-circulant matrix with circulant blocks.\n",
    "\n",
    "\n",
    "* (10 pts) Check that $A= h^2  I + T  \\text{diag}(\\chi)$, where $T$  has block-Toeplitz with Toeplitz blocks structure. Describe the steps required to implement the matvec by $A$ using the FFT.\n",
    "\n",
    "\n",
    "* (15 pts) Implement a fast matrix-vector (matvec) product function that will quickly evaluate the product $Ax$ for\n",
    "a given $x$.\n",
    "\n",
    "\n",
    "* (15 pts) Embed the matvec function from the bullet above into ```GMRES``` to \n",
    "solve the integral equation without explicitly forming the dense coupling matrix.  Solve the scattering problem using ```GMRES``` for $f = 21.3$ MHz and $f = 298.3$ MHz, corresponding\n",
    "to the older $0.5$ T permanent magnet MRI and the modern $7$ T superconductor magnet MRI\n",
    "respectively. Produce iteration-residual plots at both frequencies, and the scattered image. "
   ]
  },
  {
   "cell_type": "code",
   "execution_count": null,
   "metadata": {
    "collapsed": true
   },
   "outputs": [],
   "source": []
  },
  {
   "cell_type": "code",
   "execution_count": 2,
   "metadata": {
    "collapsed": false
   },
   "outputs": [
    {
     "data": {
      "text/html": [
       "<link href='http://fonts.googleapis.com/css?family=Fenix' rel='stylesheet' type='text/css'>\n",
       "<link href='http://fonts.googleapis.com/css?family=Alegreya+Sans:100,300,400,500,700,800,900,100italic,300italic,400italic,500italic,700italic,800italic,900italic' rel='stylesheet' type='text/css'>\n",
       "<link href='http://fonts.googleapis.com/css?family=Source+Code+Pro:300,400' rel='stylesheet' type='text/css'>\n",
       "<style>\n",
       "    @font-face {\n",
       "        font-family: \"Computer Modern\";\n",
       "        src: url('http://mirrors.ctan.org/fonts/cm-unicode/fonts/otf/cmunss.otf');\n",
       "    }\n",
       "    div.cell{\n",
       "        /*width:80%;*/\n",
       "        /*margin-left:auto !important;\n",
       "        margin-right:auto;*/\n",
       "    }\n",
       "    h1 {\n",
       "        font-family: 'Alegreya Sans', sans-serif;\n",
       "    }\n",
       "    h2 {\n",
       "        font-family: 'Fenix', serif;\n",
       "    }\n",
       "    h3{\n",
       "\t\tfont-family: 'Fenix', serif;\n",
       "        margin-top:12px;\n",
       "        margin-bottom: 3px;\n",
       "       }\n",
       "\th4{\n",
       "\t\tfont-family: 'Fenix', serif;\n",
       "       }\n",
       "    h5 {\n",
       "        font-family: 'Alegreya Sans', sans-serif;\n",
       "    }\t   \n",
       "    div.text_cell_render{\n",
       "        font-family: 'Alegreya Sans',Computer Modern, \"Helvetica Neue\", Arial, Helvetica, Geneva, sans-serif;\n",
       "        line-height: 1.2;\n",
       "        font-size: 120%;\n",
       "        /*width:70%;*/\n",
       "        /*margin-left:auto;*/\n",
       "        margin-right:auto;\n",
       "    }\n",
       "    .CodeMirror{\n",
       "            font-family: \"Source Code Pro\";\n",
       "\t\t\tfont-size: 90%;\n",
       "    }\n",
       "/*    .prompt{\n",
       "        display: None;\n",
       "    }*/\n",
       "    .text_cell_render h1 {\n",
       "        font-weight: 200;\n",
       "        font-size: 50pt;\n",
       "\t\tline-height: 110%;\n",
       "        color:#CD2305;\n",
       "        margin-bottom: 0.5em;\n",
       "        margin-top: 0.5em;\n",
       "        display: block;\n",
       "    }\t\n",
       "    .text_cell_render h5 {\n",
       "        font-weight: 300;\n",
       "        font-size: 16pt;\n",
       "        color: #CD2305;\n",
       "        font-style: italic;\n",
       "        margin-bottom: .5em;\n",
       "        margin-top: 0.5em;\n",
       "        display: block;\n",
       "    }\n",
       "    \n",
       "    li {\n",
       "        line-height: 110%;\n",
       "    }\n",
       "    .warning{\n",
       "        color: rgb( 240, 20, 20 )\n",
       "        }  \n",
       "</style>\n",
       "<script>\n",
       "    MathJax.Hub.Config({\n",
       "                        TeX: {\n",
       "                           extensions: [\"AMSmath.js\"]\n",
       "                           },\n",
       "                tex2jax: {\n",
       "                    inlineMath: [ ['$','$'], [\"\\\\(\",\"\\\\)\"] ],\n",
       "                    displayMath: [ ['$$','$$'], [\"\\\\[\",\"\\\\]\"] ]\n",
       "                },\n",
       "                displayAlign: 'center', // Change this to 'center' to center equations.\n",
       "                \"HTML-CSS\": {\n",
       "                    styles: {'.MathJax_Display': {\"margin\": 4}}\n",
       "                }\n",
       "        });\n",
       "</script>\n"
      ],
      "text/plain": [
       "<IPython.core.display.HTML object>"
      ]
     },
     "execution_count": 2,
     "metadata": {},
     "output_type": "execute_result"
    }
   ],
   "source": [
    "from IPython.core.display import HTML\n",
    "def css_styling():\n",
    "    styles = open(\"./styles/custom.css\", \"r\").read()\n",
    "    return HTML(styles)\n",
    "css_styling()"
   ]
  }
 ],
 "metadata": {
  "kernelspec": {
   "display_name": "Python 2",
   "language": "python",
   "name": "python2"
  },
  "language_info": {
   "codemirror_mode": {
    "name": "ipython",
    "version": 2
   },
   "file_extension": ".py",
   "mimetype": "text/x-python",
   "name": "python",
   "nbconvert_exporter": "python",
   "pygments_lexer": "ipython2",
   "version": "2.7.11"
  }
 },
 "nbformat": 4,
 "nbformat_minor": 0
}
