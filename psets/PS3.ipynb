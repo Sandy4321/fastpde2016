{
 "cells": [
  {
   "cell_type": "markdown",
   "metadata": {},
   "source": [
    "# Problem 1 (MRI in the differential form) 40 pts\n",
    "\n",
    "In this problem we will build a finite difference solver for an MRI problem reduced to the Helmholtz equation\n",
    "$$\n",
    "\\Delta u({\\bf r}) + k^2({\\bf r}) u({\\bf r}) = v({\\bf r}).\n",
    "$$\n",
    "\n",
    "### 1. Free space solver\n",
    "\n",
    "As a first attempt, let us construct a finite differences method simulation tool for the general electromagnetic\n",
    "scattering problem in free-space. In this case $k({\\bf r}) \\equiv k_0$\n",
    "Discretize the equation on a box $[0,1]^2$ box using second order finite difference scheme and zero Dirichlet boundary conditions. Let $v$ be an impulse, located at $x = 0.5$ m and $y = 0.5$ m, discretized to a vector of zeros with a single element of $1/h^2$ at the appropriate row.\n",
    "\n",
    "* (**5 pts**) Solve the scattering problem using the $\\verb|scipy.sparse.linalg.solve|$ direct solver for $f = 21.3$ MHz and $f = 298.3$ MHz,\n",
    "corresponding to the older $0.5$ T permanent magnet MRI and the modern $7$ T superconductor\n",
    "magnet MRI respectively. Show your results as 2D images. (do not forget to use sparse arithmetics in python, e.g. $\\verb|scipy.sparse.kron|$ or $\\verb|scipy.sparse.spdiags|$ functions\n",
    "\n",
    "\n",
    "* (**10 pts**) Using the discrete sine transform, implement two fast solvers for the Dirichlet problem: a\n",
    "second-order accurate solver, and a spectral solver. Using your two fast solvers and your\n",
    "direct $\\verb|scipy.sparse.linalg.solve|$ solver, simulate scattering for $f = 298.3$ MHz. Using $\\verb|pandas|$ dataframe produce a table with times to solve a system using these 3 solvers. Using exact solution of the equation produce a table with relative errors of all these solvers. **Notes:** Both tables should contain results for $n=128$, $n=256$ and $n=512$. To obtain the right results, you must\n",
    "use *nested grids*, i.e. a grid at some scale should contain all the points of a grid at some coarser\n",
    "scale.\n",
    "\n",
    "### 2. EM Scattering of a head\n",
    "\n",
    "* (**5 pts**) Upload MRI data files of a head with $257^2$ and $1025^2$ points. Solve the scattering problem using a second-order accurate scheme with the $\\verb|scipy.sparse.linalg.solve|$ solver\n",
    "for $f = 21.3$ MHz and $f = 298.3$ MHz, corresponding to the $0.5$ T and the $7$ T MRI systems\n",
    "respectively. Show your results as 2D images **cropped to the head**.\n",
    "\n",
    "\n",
    "* (**2 pts**) Can fast DST solver be used in case of nonconstant $k$? Explain the answer.\n",
    "\n",
    "\n",
    "* (**8 pts**) The backslash operator becomes very computationally intensive for big $n$, and\n",
    "iterative methods are generally used instead. Here is a simple iterative scheme that makes use\n",
    "of our DST solver is the following equation:\n",
    "$$\n",
    "    \\Delta u^{(m+1)} + k_0^2 u^{(m+1)} = v - (k^2 - k_0^2) u^{(m)}.\n",
    "$$\n",
    "Implement this iterative method with the starting vector set to a vector of zeros, and with the inversion performed using your second-order accurate DST solver. Plot error with resepct to iteration number for $f = 21.3$ MHz and $f = 298.3$ MHz for different $n$. Does the rate of convergence depend on the frequency\n",
    "of excitation?\n",
    "\n",
    "\n",
    "* (**10 pts**) Represent the latter iterative process in the form\n",
    "$$\n",
    "u^{(m+1)} = u^{(m)} - \\tau B^{-1} (v - A u^{(m)}),\n",
    "$$\n",
    "where $A = \\Delta + k^2 \\mathcal{I}$. Specify relaxation parametr $\\tau$ and preconditioner $B$.\n",
    "Give a condition on $k({\\bf r})$, given a discretization spacing $h$, that guarantees the iterations will converge. Does this condition hold for both $f = 21.3$ MHz and $f = 298.3$ MHz and both grid sizes?"
   ]
  },
  {
   "cell_type": "code",
   "execution_count": null,
   "metadata": {
    "collapsed": true
   },
   "outputs": [],
   "source": []
  },
  {
   "cell_type": "markdown",
   "metadata": {},
   "source": [
    "# Problem 2 (Multigrid) (40 pts)\n",
    "\n",
    "Consider a Poisson equation\n",
    "\\\\[\n",
    "\\begin{align*}\n",
    "-\\Delta u &= f, \\\\\n",
    "u|_\\Gamma &= 0,\n",
    "\\end{align*}\n",
    "\\\\]\n",
    "where $\\Omega = [0,1]^d$, $d = 2, 3$ and $\\Gamma=\\partial\\Omega$.\n",
    "\n",
    "Although the multigrid method has optimal complexity, there are some precomputations to be done. Therefore, it may have a bigger constant than, for instance, the spectral method or even sparse LU. In this problem you will be asked to find out in which case (2D, 3D, grid sizes) multigrid method is more appropriate.\n",
    "\n",
    "* (**20 pts**) Implement V- and W-cycles of multigrid method for $d=2$ and $d=3$. Assume that the equations are discretized with finite differences with the second order scheme.\n",
    "**Note:** all operations should be done with linear grid size complexity. Take a smoother of your choice.\n",
    "\n",
    "\n",
    "* (**10 pts**) Set $N=128$. Choose $f$ such that you know analytical solution. Plot errors as a function of the cycle number for the implemented V-,W-cycles of GMG and for AMG (from PyAMG), $d=2$ and $d=3$. Which approach requires fewer number of iterations? Which approach is faster? **Note:** when doing plottings do not forget to inculde title and axes names\n",
    "\n",
    "<!---\n",
    "* How many iteration for your smoother are required to reach the same accuracy as for multigrid?\n",
    "-->\n",
    "\n",
    "* (**10 pts**) Set $f\\equiv1$. Investigate when (for what cases) GMG is more appropriate than the sparse LU, the spectral method or the DST solver. To do so compare timings for different $N$, $d$ and accuracies. Make conclusions."
   ]
  },
  {
   "cell_type": "code",
   "execution_count": null,
   "metadata": {
    "collapsed": true
   },
   "outputs": [],
   "source": []
  }
 ],
 "metadata": {
  "kernelspec": {
   "display_name": "Python 2",
   "language": "python",
   "name": "python2"
  },
  "language_info": {
   "codemirror_mode": {
    "name": "ipython",
    "version": 2
   },
   "file_extension": ".py",
   "mimetype": "text/x-python",
   "name": "python",
   "nbconvert_exporter": "python",
   "pygments_lexer": "ipython2",
   "version": "2.7.11"
  }
 },
 "nbformat": 4,
 "nbformat_minor": 0
}
