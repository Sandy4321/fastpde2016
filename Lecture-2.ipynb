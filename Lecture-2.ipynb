{
 "cells": [
  {
   "cell_type": "markdown",
   "metadata": {
    "slideshow": {
     "slide_type": "slide"
    }
   },
   "source": [
    "# Lecture 2: Integral equations"
   ]
  },
  {
   "cell_type": "markdown",
   "metadata": {
    "slideshow": {
     "slide_type": "slide"
    }
   },
   "source": [
    "## Previous lecture\n",
    "- Intro\n",
    "- IE for external problems"
   ]
  },
  {
   "cell_type": "markdown",
   "metadata": {
    "slideshow": {
     "slide_type": "slide"
    }
   },
   "source": [
    "## Todays lecture\n",
    "- IE discretization\n",
    "- Nystrom, collocation, Galerkin method"
   ]
  },
  {
   "cell_type": "markdown",
   "metadata": {
    "slideshow": {
     "slide_type": "slide"
    }
   },
   "source": [
    "## Simplest integral equation\n",
    "\n",
    "The simplest integral equation we talked about reads\n",
    "\n",
    "$$\\int_{\\partial \\Omega} \\frac{q(y)}{\\Vert x - y \\Vert} dy = f(x), \\quad x \\in \\partial \\Omega,$$\n",
    "where $\\Omega$ is a certain domain in 3D.\n",
    "\n",
    "The general form of a first-kind integral equation is\n",
    "\n",
    "$$\n",
    "\\int_{\\partial \\Omega} q(y) G(x, y) dy = f(x), \\quad x \\in \\partial \\Omega,\n",
    "$$\n",
    "where $$G(x, y)$$ is a **Green function** of the PDE."
   ]
  },
  {
   "cell_type": "markdown",
   "metadata": {
    "slideshow": {
     "slide_type": "slide"
    }
   },
   "source": [
    "## Typical Green functions\n",
    "The Green function of a PDE operator A satisfies\n",
    "$$A G(x, y) = \\delta(y), $$\n",
    "i.e. it plays the role of the \"inverse\" of the operator without boundaty conditions.  \n",
    "\n",
    "It is also called **free-space** Green function. The Green function can also incorporate the boundary condition."
   ]
  },
  {
   "cell_type": "markdown",
   "metadata": {
    "slideshow": {
     "slide_type": "slide"
    }
   },
   "source": [
    "## Green functions with boundary conditions and reflection method\n",
    "\n",
    "Suppose we want to find a function $G(x, y)$ such that\n",
    "\n",
    "$$\\Delta_x G(x, y) = \\delta (y), G(x, y) \\mid_{x \\in \\partial \\Omega} = 0. $$\n",
    "\n",
    "If we found such a function, solution to\n",
    "\n",
    "$$\\Delta u = f,$$\n",
    "\n",
    "is given by the **explicit integral**\n",
    "\n",
    "$$u(x) = \\in_{\\Omega} G(x, y) f(y)  dy.$$"
   ]
  },
  {
   "cell_type": "markdown",
   "metadata": {
    "slideshow": {
     "slide_type": "slide"
    }
   },
   "source": [
    "## Reflection method\n",
    "\n",
    "In a few cases, you can write down such a Green function, typically based on the **method of reflections**.\n",
    "\n",
    "For a Dirictlet bouundary conditions, we can use not only charge located at $y$, but also many other charges that lie outside $\\Omega$ and give the required b.c.\n",
    "\n",
    "- A plane - two charges are ok.\n",
    "- A cube - many reflections, infinite series"
   ]
  },
  {
   "cell_type": "markdown",
   "metadata": {
    "slideshow": {
     "slide_type": "slide"
    }
   },
   "source": [
    "## Discretization\n",
    "Now to discretization of the equation\n",
    "$$\\int_{\\partial \\Omega} \\frac{q(y)}{\\Vert x - y \\Vert} dy = f(x), \\quad x \\in \\partial \\Omega,$$\n",
    "\n",
    "Steps of discretization:\n",
    "1. Select a finite-dimensional subspace, spanned by basis function $\\phi_i, i = 1, N$. Typically, $\\phi_i$ are **local basis functions** defined on a certain mesh $\\mathcal{T}$ over the surface.\n",
    "2. Look for the solution in the form\n",
    "   $$q(y) \\approx \\sum_{i=1}^N q_i \\phi_i(y)$$\n",
    "\n",
    "Note, that the basis functions can be even **piecewise-constant**, compared to PDEs, where **generally** they have to be at least piecewise-linear for Finite Element Method (they can be piecewise-constant for **Diccontinious Galerkin**, but that is more an exception"
   ]
  },
  {
   "cell_type": "markdown",
   "metadata": {
    "slideshow": {
     "slide_type": "slide"
    }
   },
   "source": [
    "## Discretization (2)\n",
    "$$\\int_{\\partial \\Omega} \\frac{q(y)}{\\Vert x - y \\Vert} dy = f(x), \\quad x \\in \\partial \\Omega,$$\n",
    "\n",
    "Suppose that $\\mathrm{supp}(\\phi_i) = T_i$ (i.e., local support). Then, \n",
    "\n",
    "$$ \\sum_{i=1}^N q_i \\int_{T_i} \\frac{\\phi_i(y)}{\\Vert x - y \\Vert} dy = f(x).$$\n",
    "\n",
    "This has to hold for all $x$, i.e. it is **infinite amount** of equations. There are two ways of dealing with this situation:\n",
    "\n",
    "1. Galerkin method\n",
    "2. Collocation method."
   ]
  },
  {
   "cell_type": "markdown",
   "metadata": {
    "slideshow": {
     "slide_type": "slide"
    }
   },
   "source": [
    "## Galerkin method\n",
    "The Galerkin method takes  the equation\n",
    "$$ \\sum_{i=1}^N q_i \\int_{T_i} \\frac{\\phi_i(y)}{\\Vert x - y \\Vert} dy = f(x),$$\n",
    "and multiplies it by $\\phi_j(x)$ and integrates over $T_j$. Then we get\n",
    "\n",
    "$$ \\sum_{i=1}^N q_i \\int_{T_j} \\int_{T_i} \\frac{\\phi_j(x) \\phi_i(x)}{\\Vert x - y \\Vert} dx dy = \\int_{T_j} f(x) \\phi_j(x) dx.$$\n",
    ", \n",
    "This is a **square system** of linear equations of the form\n",
    "$$\n",
    "   A q = f,\n",
    "$$\n",
    "where $$A = \\int_{T_j} \\int_{T_i} \\frac{\\phi_j(x) \\phi_i(x)}{\\Vert x - y \\Vert} dx dy.$$  Everything is fine, the matrix is symmetric (it can be also shown that it is positive definite, let us do that), but the evaluation of the element requires \n",
    "**6D** integral to be evaluated. That is main computational problem, thus engineers often use a much more simple collocation method,"
   ]
  },
  {
   "cell_type": "markdown",
   "metadata": {
    "slideshow": {
     "slide_type": "slide"
    }
   },
   "source": [
    "## Collocation method\n",
    "Collocation method consists of taking the equation\n",
    "$$ \\sum_{i=1}^N q_i \\int_{T_i} \\frac{\\phi_i(y)}{\\Vert x - y \\Vert} dy = f(x),$$\n",
    "at some **collocation points** $x_j$. \n",
    "\n",
    "Consider **piecewise-constant case**, i.e. $\\phi_i(y) = 1$ on $T_i$ and $0$ otherwise. Then the most natural choice for collocation points are **centers of the triangles**,\n",
    "\n",
    "and we again get a **square** linear system\n",
    "\n",
    "$$A q = f,$$\n",
    "\n",
    "but now me\n",
    "\n",
    "$$A_{ij} = \\int_{T_i} \\frac{dy}{\\Vert x_j - y \\Vert},$$\n",
    "i.e. it has the meaning of **uniformly charged** triangle.\n",
    "\n",
    "Note that this matrix is **non-symmetric**, so you can not use symmetric-oriented methods."
   ]
  },
  {
   "cell_type": "markdown",
   "metadata": {
    "slideshow": {
     "slide_type": "slide"
    }
   },
   "source": [
    "## Nystrom method\n",
    "\n",
    "The Nystrom method is just another simplication of the collocation method (as collocation method can be considered as a quadrature applied to the Galerkin method).\n",
    "\n",
    "We just approximate\n",
    "\n",
    "$$\n",
    "    A_{ij}  = \\int_{T_i} \\frac{dy}{\\Vert x_j - y \\Vert} dy \\approx S_i \\frac{1}{x_i - y_j}.\n",
    "$$ \n",
    "\n",
    "If the **source triangle** $T_i$ is sufficiently far from the **receiver** $y_j$, indeed, this can be a v bery good approximaation.\n",
    "\n",
    "If $y_j$ lies inside the triangle, then the approximation can be  really bad.\n",
    "\n"
   ]
  },
  {
   "cell_type": "markdown",
   "metadata": {
    "slideshow": {
     "slide_type": "slide"
    }
   },
   "source": [
    "## Locally corrected Nystrom\n",
    "\n",
    "Typically, a **locally corrected Nystrom** is used: much more advanced quadratures are used in the **close zone**, where the singularity of the integrals appears. The concept is as follows:\n",
    "\n",
    "- To evaluate the matrix-by-vector product $Aq$ it is split into the **far part** and **close part**. \n",
    "- Close part is evaluated separately, far is evaluated using a simple quadrature\n",
    "\n",
    "**Far-close** splitting is the key to **fast methods**"
   ]
  },
  {
   "cell_type": "markdown",
   "metadata": {
    "slideshow": {
     "slide_type": "slide"
    }
   },
   "source": [
    "## Computing the integrals\n",
    "The main art about Galerkin/collocation methods is **computation of singular integrals**, which can not be handled by standard Gauss quadratures in the close zone.\n",
    "\n",
    "There are several ways\n",
    "\n",
    "- Analytic evaluation\n",
    "- Subtraction of singularity, singularity is integrated analytically, remainder by Gauss\n",
    "- Gauss-Duffy quadrature \n",
    "- Schwab-Sauter quadrature\n",
    "- Rokhlin generalized quadratures"
   ]
  },
  {
   "cell_type": "markdown",
   "metadata": {
    "slideshow": {
     "slide_type": "slide"
    }
   },
   "source": [
    "## Computing the simplest integral\n",
    "We can actually compute the anti-derivative of the integral in question, by taking successive integrals\n",
    "\n",
    "$$\n",
    "   \\frac{1}{\\sqrt{x^2 + y^2}}\n",
    "$$\n",
    "\\begin{equation}\n",
    "\\begin{split}\n",
    "F(x, y) = \\int \\int \\frac{1}{\\sqrt{x^2 + y^2}} dx dy = \\\\\n",
    "-y + \n",
    "y \\log(x + \\sqrt{x^2 + y^2}) + x \\log(y + \\sqrt{x^2 + y^2}),\n",
    "\\end{split}\n",
    "\\end{equation}\n",
    "\n",
    "and the final integral is just \n",
    "$$\n",
    "   I(x_0, y_0, x_1, y_1) = F(x_0, y_0) + F(x_1, y_1) - F(x_0, y_1) - F(x_1, y_0),\n",
    "$$\n",
    "\n",
    "(generalization of the Newton-Leibniz formula)"
   ]
  },
  {
   "cell_type": "code",
   "execution_count": 2,
   "metadata": {
    "collapsed": false,
    "slideshow": {
     "slide_type": "skip"
    }
   },
   "outputs": [
    {
     "data": {
      "text/html": [
       "<link href='http://fonts.googleapis.com/css?family=Fenix' rel='stylesheet' type='text/css'>\n",
       "<link href='http://fonts.googleapis.com/css?family=Alegreya+Sans:100,300,400,500,700,800,900,100italic,300italic,400italic,500italic,700italic,800italic,900italic' rel='stylesheet' type='text/css'>\n",
       "<link href='http://fonts.googleapis.com/css?family=Source+Code+Pro:300,400' rel='stylesheet' type='text/css'>\n",
       "<style>\n",
       "    @font-face {\n",
       "        font-family: \"Computer Modern\";\n",
       "        src: url('http://mirrors.ctan.org/fonts/cm-unicode/fonts/otf/cmunss.otf');\n",
       "    }\n",
       "    div.cell{\n",
       "        /*width:80%;*/\n",
       "        /*margin-left:auto !important;\n",
       "        margin-right:auto;*/\n",
       "    }\n",
       "    h1 {\n",
       "        font-family: 'Alegreya Sans', sans-serif;\n",
       "    }\n",
       "    h2 {\n",
       "        font-family: 'Fenix', serif;\n",
       "    }\n",
       "    h3{\n",
       "\t\tfont-family: 'Fenix', serif;\n",
       "        margin-top:12px;\n",
       "        margin-bottom: 3px;\n",
       "       }\n",
       "\th4{\n",
       "\t\tfont-family: 'Fenix', serif;\n",
       "       }\n",
       "    h5 {\n",
       "        font-family: 'Alegreya Sans', sans-serif;\n",
       "    }\t   \n",
       "    div.text_cell_render{\n",
       "        font-family: 'Alegreya Sans',Computer Modern, \"Helvetica Neue\", Arial, Helvetica, Geneva, sans-serif;\n",
       "        line-height: 1.2;\n",
       "        font-size: 120%;\n",
       "        /*width:70%;*/\n",
       "        /*margin-left:auto;*/\n",
       "        margin-right:auto;\n",
       "    }\n",
       "    .CodeMirror{\n",
       "            font-family: \"Source Code Pro\";\n",
       "\t\t\tfont-size: 90%;\n",
       "    }\n",
       "/*    .prompt{\n",
       "        display: None;\n",
       "    }*/\n",
       "    .text_cell_render h1 {\n",
       "        font-weight: 200;\n",
       "        font-size: 50pt;\n",
       "\t\tline-height: 110%;\n",
       "        color:#CD2305;\n",
       "        margin-bottom: 0.5em;\n",
       "        margin-top: 0.5em;\n",
       "        display: block;\n",
       "    }\t\n",
       "    .text_cell_render h5 {\n",
       "        font-weight: 300;\n",
       "        font-size: 16pt;\n",
       "        color: #CD2305;\n",
       "        font-style: italic;\n",
       "        margin-bottom: .5em;\n",
       "        margin-top: 0.5em;\n",
       "        display: block;\n",
       "    }\n",
       "    \n",
       "    li {\n",
       "        line-height: 110%;\n",
       "    }\n",
       "    .warning{\n",
       "        color: rgb( 240, 20, 20 )\n",
       "        }  \n",
       "</style>\n",
       "<script>\n",
       "    MathJax.Hub.Config({\n",
       "                        TeX: {\n",
       "                           extensions: [\"AMSmath.js\"]\n",
       "                           },\n",
       "                tex2jax: {\n",
       "                    inlineMath: [ ['$','$'], [\"\\\\(\",\"\\\\)\"] ],\n",
       "                    displayMath: [ ['$$','$$'], [\"\\\\[\",\"\\\\]\"] ]\n",
       "                },\n",
       "                displayAlign: 'center', // Change this to 'center' to center equations.\n",
       "                \"HTML-CSS\": {\n",
       "                    styles: {'.MathJax_Display': {\"margin\": 4}}\n",
       "                }\n",
       "        });\n",
       "</script>\n"
      ],
      "text/plain": [
       "<IPython.core.display.HTML object>"
      ]
     },
     "execution_count": 2,
     "metadata": {},
     "output_type": "execute_result"
    }
   ],
   "source": [
    "from IPython.core.display import HTML\n",
    "def css_styling():\n",
    "    styles = open(\"./styles/custom.css\", \"r\").read()\n",
    "    return HTML(styles)\n",
    "css_styling()"
   ]
  }
 ],
 "metadata": {
  "celltoolbar": "Slideshow",
  "kernelspec": {
   "display_name": "Python 2",
   "language": "python",
   "name": "python2"
  },
  "language_info": {
   "codemirror_mode": {
    "name": "ipython",
    "version": 2
   },
   "file_extension": ".py",
   "mimetype": "text/x-python",
   "name": "python",
   "nbconvert_exporter": "python",
   "pygments_lexer": "ipython2",
   "version": "2.7.11"
  }
 },
 "nbformat": 4,
 "nbformat_minor": 0
}
