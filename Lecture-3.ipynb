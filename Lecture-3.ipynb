{
 "cells": [
  {
   "cell_type": "markdown",
   "metadata": {
    "slideshow": {
     "slide_type": "slide"
    }
   },
   "source": [
    "# Lecture 3: FFT"
   ]
  },
  {
   "cell_type": "markdown",
   "metadata": {
    "slideshow": {
     "slide_type": "slide"
    }
   },
   "source": [
    "## Previous lecture\n",
    "- Basic discretization schemes (Galerkin, collocation, Nystrom)\n",
    "- Some approaches to compute singular integrals"
   ]
  },
  {
   "cell_type": "markdown",
   "metadata": {
    "slideshow": {
     "slide_type": "slide"
    }
   },
   "source": [
    "## Todays lecture\n",
    "- Fast methods: computation of the convolution via FFT, idea of precorrected FFT.\n",
    "- More integral equation kernels"
   ]
  },
  {
   "cell_type": "markdown",
   "metadata": {
    "slideshow": {
     "slide_type": "slide"
    }
   },
   "source": [
    "## Integral equations and non-local interactions\n",
    "\n",
    "The main problem with integral equation methods (we talked about boundary integral equations, but there are also **volume** integral equations is that we have to deal with **non-local interactions**:\n",
    "\n",
    "After discretization, we have to compute the sum \n",
    "\n",
    "$$v_i = \\sum_{j=1}^N A_{ij} q_j,$$\n",
    "\n",
    "and all $A_{ij}$ are not **small** (i.e., they can not be approximated by sparse matrices)."
   ]
  },
  {
   "cell_type": "markdown",
   "metadata": {
    "slideshow": {
     "slide_type": "slide"
    }
   },
   "source": [
    "## Storage and complexity \n",
    "\n",
    "- The **naive** approach is to compute all matrix elements $A_{ij}$ and store them in a matrix.\n",
    "- The storage complexity is $N^2$ elements\n",
    "- The LU-complexity is $\\mathcal{O}(N^3)$, but we can also go with **iterative methods**, and have $\\mathcal{O}(N_{it} N^2)$ complexity."
   ]
  },
  {
   "cell_type": "markdown",
   "metadata": {
    "slideshow": {
     "slide_type": "slide"
    }
   },
   "source": [
    "## Do we need fast methods?\n",
    "\n",
    "If we have two-dimensional PDE, the integral equation will be defined on a **curve**. \n",
    "\n",
    "For a second-order discretization, **1000** elements are needed, i.e. the matrix will be\n",
    "\n",
    "$10^{3} \\times 10^{3}$, and storage is just 8 megabytes, i.e. fast methods are not very needed.\n",
    "\n",
    "\n",
    "For **3D problems** and **surface integral equations**, the storage problem becomes much more complicated:\n",
    "\n",
    "For $h = 10^{-3}$ we have $10^6$ unknowns and the matrix is $10^6 \\times 10^6$, more than 8 Terabytes."
   ]
  },
  {
   "cell_type": "markdown",
   "metadata": {
    "slideshow": {
     "slide_type": "slide"
    }
   },
   "source": [
    "## Solving the storage problem\n",
    "One of the ways to deal with the storage problem is to solve the system using **matrix-by-vector product.**\n",
    "\n",
    "Apply iterative method,  and compute\n",
    "\n",
    "$$v_i = \\sum_{j=1}^N A_{ij} y_j $$\n",
    "\n",
    "**on the fly**, \n",
    "\n",
    "The complexity, however, stays $\\mathcal{O}(N^2)$ as well.\n",
    "\n",
    "Moreover, the evaluation of matrix elements can be **expensive**, especially if Galerkin/collocation methods are used.\n"
   ]
  },
  {
   "cell_type": "markdown",
   "metadata": {
    "slideshow": {
     "slide_type": "slide"
    }
   },
   "source": [
    "## Translation-invariant case\n",
    "One of the way to solve this problem is to use **translation-invariance** of many popular integral equation kernels.\n",
    "\n",
    "This, however, requires the **special properties** of the geometry and basis functions."
   ]
  },
  {
   "cell_type": "markdown",
   "metadata": {
    "slideshow": {
     "slide_type": "slide"
    }
   },
   "source": [
    "## Boundary integral equations with translation-invariant kernels\n",
    "\n",
    "The first kind integral equation reads\n",
    "\n",
    "$$\\int_{\\partial \\Omega} \\frac{q(y)}{\\Vert x - y \\Vert} dy = f(x), \\quad x \\in \\partial \\Omega,$$\n",
    "where $\\Omega$ is a certain domain in 3D.\n",
    "\n"
   ]
  },
  {
   "cell_type": "markdown",
   "metadata": {
    "slideshow": {
     "slide_type": "slide"
    }
   },
   "source": [
    "## Model problem\n",
    "\n",
    "Consider the integral equation an a square:\n",
    "\n",
    "$$\\int_{\\Omega} \\frac{q(y)}{\\Vert x - y \\Vert} dy = f(x), $$ \n",
    "\n",
    "Let us discretize using **shifts** of the same basis functions, \n",
    "\n",
    "$$q(y) = \\sum_{ij} \\phi_{ij} q_{ij}, $$\n",
    "\n",
    "where $$\\phi_{ij}(y_1, y_2) = \\phi( y_1 - h i, y_2 - h j).$$\n",
    "\n",
    "**What would be the structure of the matrix** ?"
   ]
  },
  {
   "cell_type": "markdown",
   "metadata": {
    "slideshow": {
     "slide_type": "slide"
    }
   },
   "source": [
    "## Block Toeplitz with Toeplitz blocks\n",
    "\n",
    "The matrix will have two-level block Toeplitz with Toeplitz blocks BTTB structure,\n",
    "\n",
    "$$A_{ij} = A(i_1 i_2, j_1 j_2) = A(i_1 - j_1, i_2 - j_2),$$\n",
    "\n",
    "i.e. it is defined by $(2 n - 1) \\times (2n - 1) \\approx 4 n^2 = 4 N$ parameters."
   ]
  },
  {
   "cell_type": "markdown",
   "metadata": {
    "slideshow": {
     "slide_type": "slide"
    }
   },
   "source": [
    "## BTTB matrix by vector multiplication\n",
    "\n",
    "Recall from numerical linear algebra, that BTTB matrix can be multiplied by a vector in $\\mathcal{O}(N \\log N)$ operations.\n",
    "\n",
    "The idea is a generalization of the idea for **one level** Toeplitz matrix:\n",
    "\n",
    "Any $N \\times N$ matrix can be embedded into a $2N \\times 2N$ **circulant** matrix."
   ]
  },
  {
   "cell_type": "markdown",
   "metadata": {
    "slideshow": {
     "slide_type": "slide"
    }
   },
   "source": [
    "## Circulant matrices and spectral theorem\n",
    "\n",
    "** Circulant matrix **\n",
    "\n",
    "A matrix is called circulant, if \n",
    "\n",
    "$$A_{ij} = A( (i -j)\\mod N),$$\n",
    "\n",
    "i.e. it wraps **periodically**"
   ]
  },
  {
   "cell_type": "markdown",
   "metadata": {
    "slideshow": {
     "slide_type": "slide"
    }
   },
   "source": [
    "## Spectral theorem\n",
    "\n",
    "Any circulant matrix can be represented as\n",
    "\n",
    "$$C = F D F^*,$$\n",
    "\n",
    "where \n",
    "$$ D = \\mathrm{diag}(d), \\quad d = F c, $$\n",
    "\n",
    "and $c$ is the the **first column** of a circulant matrix, \n",
    "\n",
    "and $F$ is a DFT matrix,\n",
    "\n",
    "$$F_{kl} = w^{kl}, \\quad w = \\exp( \\frac{2 \\pi i}{n}).$$`"
   ]
  },
  {
   "cell_type": "markdown",
   "metadata": {
    "slideshow": {
     "slide_type": "slide"
    }
   },
   "source": [
    "## Fast Toeplitz matrix-by-vector product\n",
    "\n",
    "- Embed a Toeplitz matrix into a circulant one\n",
    "- Pad the vector by zeros\n",
    "- Use the fact that\n",
    "  $$C \\begin{bmatrix} q \\\\ 0 \\end{bmatrix} = \\begin{bmatrix} Tq \\\\ * \\end{bmatrix}.$$\n",
    "- Compute circulant matrix-by-vector product using 2 FFT.\n",
    "\n"
   ]
  },
  {
   "cell_type": "markdown",
   "metadata": {
    "slideshow": {
     "slide_type": "slide"
    }
   },
   "source": [
    "## Two-level (BTTB) case\n",
    "\n",
    "For two-level model problem on a square, the matrix is not **Toeplitz**,\n",
    "\n",
    "but **block Toeplitz** with **Toeplitz blocks**.\n",
    "\n",
    "It can be embedded into **block circulant** with **circulant blocks**, \n",
    "\n",
    "which can be diagonalized in $\\mathcal{O}(N)$ operations using two-dimensional FFT,\n",
    "\n",
    "$$F_2 = F \\otimes F.$$"
   ]
  },
  {
   "cell_type": "markdown",
   "metadata": {
    "slideshow": {
     "slide_type": "slide"
    }
   },
   "source": [
    "## Putting it all together\n",
    "\n",
    "For a translation-invariant case with a square uniform grid we have a matrix with BTTB structure, \n",
    "\n",
    "which can be:\n",
    "- Stored with $\\mathcal{O}(N)$ memory\n",
    "- Multiplied with $\\mathcal{O}(N \\log N)$ complexity\n",
    "\n",
    "But if the domain is not  a square (i.e., a sphere, or a complicated domain) using Toeplitz structure becomes very difficult.\n",
    "\n",
    "What to do?  The idea of **precorrected FFT** comes to mind, where 2D structure is **embedded** into a regular 3D grid."
   ]
  },
  {
   "cell_type": "markdown",
   "metadata": {
    "slideshow": {
     "slide_type": "slide"
    }
   },
   "source": [
    "## Precorrected FFT\n",
    "\n",
    "Suppose we are given a set of conducting surfaces, each surface is discretized into **panels**,\n",
    "\n",
    "and piecewise-constant basis functions are used.\n",
    "\n",
    "We solve our favourite first kind integral equation \n",
    "\n",
    "$$\\psi(x) = \\int_{surfaces} \\frac{q(y)}{\\Vert x - y \\Vert} dy.$$"
   ]
  },
  {
   "cell_type": "markdown",
   "metadata": {
    "slideshow": {
     "slide_type": "slide"
    }
   },
   "source": [
    "## Embedding the panels into a parallelepiped\n",
    "\n",
    "Consider a 3D parallelepiped splitted into $k \\times l \\times m$ array of small cubes in such a way that each cube contains only a small number of panels.\n",
    "\n",
    "The **key idea** is that for all evaluation points, distant for the particular cell, it can be represented as a weighted sum of **point charges** located on a uniform mesh."
   ]
  },
  {
   "cell_type": "markdown",
   "metadata": {
    "slideshow": {
     "slide_type": "slide"
    }
   },
   "source": [
    "## pFFT approach\n",
    "\n",
    "1) project the panel charges onto a uniform grid of point\n",
    "charges  \n",
    "2) compute the grid potentials due to grid charges using an\n",
    "FFT;  \n",
    "3) interpolate the grid potentials onto the panels;  \n",
    "4) directly compute nearby interactions.  \n",
    "\n",
    "The name **precorrected** comes from the exact evaluation of **close interactions**"
   ]
  },
  {
   "cell_type": "markdown",
   "metadata": {
    "slideshow": {
     "slide_type": "slide"
    }
   },
   "source": [
    "## Step 1; projection\n",
    "\n",
    "In a cell, we want to match the potential, created by $m$ panels, by a uniform grid of $p \\times p \\times p$\n",
    "\n",
    "**point charges**. Then, we just select a **test surface** of radius $r_c$, select **test points** and require that\n",
    "\n",
    "$$\\psi_{uniform} \\approx \\psi_{panels}$$ on the test points.\n",
    "\n",
    "We have $p^3$ unknowns and $N_{test}$ equations, and it is solved as a **least squares**.\n",
    "\n"
   ]
  },
  {
   "cell_type": "markdown",
   "metadata": {
    "slideshow": {
     "slide_type": "slide"
    }
   },
   "source": [
    "## Computing grid potentials\n",
    "\n",
    "Once the uniform grid charges have been evaluation, \n",
    "\n",
    "we compute \n",
    "\n",
    "$$V(i, j, k) = \\sum_{i'j'k'} H(i-i', j-j',k-k') \\widehat{q}(i', j', k'),$$\n",
    "\n",
    "using 3D FFT.\n",
    "\n",
    "The main benefit is that highly optimized FFT code (including parallel versions) has been developed."
   ]
  },
  {
   "cell_type": "markdown",
   "metadata": {
    "slideshow": {
     "slide_type": "slide"
    }
   },
   "source": [
    "## Interpolation grid potentials\n",
    "\n",
    "To get the value at evaluation point, it is sufficient to use the transpose matrix to the matrix that interpolates the charges from a non-uniform grid to a uniform grid.\n",
    "\n",
    "The projection/interpolation have similar accuracy.\n",
    "\n",
    "For collocation, the result can be written as\n",
    "\n",
    "$$\\psi_{g} = V^{|top} H W q, $$\n",
    "\n",
    "and for **Galerkin method:**\n",
    "\n",
    "$$\\psi_{g} = W^{\\top} H W q,$$\n",
    "\n",
    "i.e. pFFT preserves the symmetry of the Galerkin method."
   ]
  },
  {
   "cell_type": "markdown",
   "metadata": {
    "slideshow": {
     "slide_type": "slide"
    }
   },
   "source": [
    "## Final step: precorrecting\n",
    "\n",
    "The main diffuculty is that the projection-FFT-interpolation step does not accurately represent the nearby interactions.\n",
    "\n",
    "Let (k, l) be a pair of **nearby cells**.\n",
    "\n",
    "Then, \n",
    "\n",
    "$$\\psi_{G, (k, l)} = V^{\\top}(k) H(k, l) W(l) q_l,$$\n",
    "\n",
    "adding and subtracting the wrong contribution we have\n",
    "\n",
    "$$\\psi_{(k, l)} = \\psi_{G, (k, l)} - V^{\\top}(k) H(k, l) W(l) q_l + P_{k, l} q_l.$$"
   ]
  },
  {
   "cell_type": "markdown",
   "metadata": {
    "slideshow": {
     "slide_type": "slide"
    }
   },
   "source": [
    "## Precorrected grid operator\n",
    "\n",
    "This can be effectively achieved by introduction of **corrected** operator\n",
    "\n",
    "$$\\widetilde{P}_{k,l} = P_{k, l} - V^{\\top}(k) H(k, l) W(l).$$"
   ]
  },
  {
   "cell_type": "markdown",
   "metadata": {
    "slideshow": {
     "slide_type": "slide"
    }
   },
   "source": [
    "## Final algorithm\n",
    "\n",
    "- Precomputation: for all **close cells** (k, l) compute **sparse** precorrected matrix $\\widehat{P}$.\n",
    "- $\\psi = \\widehat{P} q + V^{\\top} H W q,$\n",
    "as a product of 3 matrices: sparse $V$ and $W$, 3D Toeplitz matrix $H$."
   ]
  },
  {
   "cell_type": "markdown",
   "metadata": {
    "slideshow": {
     "slide_type": "slide"
    }
   },
   "source": [
    "## Reading\n",
    "\n",
    "[A Precorrected-FFT Method for Electrostatic\n",
    "Analysis of Complicated 3-D Structures, Phillips, White](http://www.cadence.com/cn/cadence/cadence_labs/Documents/jrp_TCAD_1997_fft.pdf)"
   ]
  },
  {
   "cell_type": "markdown",
   "metadata": {
    "slideshow": {
     "slide_type": "slide"
    }
   },
   "source": [
    "## More integral equations kernels\n",
    "\n",
    "The simplicity of pFFT is that it can be applied very easily to other integral equation kernels with a similar efficiency, and few additional programming.\n",
    "\n",
    "A disadvantage is that for **simple sufraces** many of the panel charges will be zero, i.e. the representation can be redundant. \n",
    "\n",
    "Finally, let us present some other integral equation kernels that are often used."
   ]
  },
  {
   "cell_type": "markdown",
   "metadata": {
    "slideshow": {
     "slide_type": "slide"
    }
   },
   "source": [
    "## Stokes problem\n",
    "Stokes equation define the laminar flow in low Reynolds number regime:\n",
    "\n",
    "\\begin{equation}\n",
    "\\begin{split}\n",
    "- \\nabla p + \\mu \\Delta v = -F \\delta(r) \\\\\n",
    " \\nabla \\cdot p = 0\n",
    "\\end{split}\n",
    "\\end{equation}\n",
    "\n",
    "Here $p$ is pressure, $v$ is velocity. \n",
    "\n",
    "The solution is so-called **Stokeslet**, and it is a **matrix**:\n",
    "\n",
    "$$\\mathbb{J}(r) = \\frac{1}{8 \\pi \\mu} \\left( \\frac{I}{r} + \\frac{r_i r_j}{r^3} \\right), \\quad u = F J , \\quad p = \\frac{(F, \\mathbf{r})}{r^3}.$$"
   ]
  },
  {
   "cell_type": "markdown",
   "metadata": {
    "slideshow": {
     "slide_type": "slide"
    }
   },
   "source": [
    "## instationary Maxwell equations\n",
    "\n",
    "$$\n",
    "\\begin{split}\n",
    "\\nabla \\times H = \\frac{\\partial D}{\\partial t} + J, \\\\\\quad \\nabla \\times E = -\\frac{\\partial B}{\\partial t}, \\quad \\nabla \\cdot D =  \\rho, \\quad \\nabla \\cdot B = 0. \\\\\n",
    "D = \\varepsilon E, \\quad H = \\mu B.\n",
    "\\end{split}\n",
    "$$\n",
    "\n",
    "If we consider **time-harmonic case**, i.e. the dependence from time is $e^{i w t}$, we get **time-harmonic Maxwell** equations.\n",
    "\n",
    "However, for Maxwell equations the most natural setting is **scattering** from inhomogenious media, \n",
    "and **volume integral** equations (or volume integro-differential) equations are used instead."
   ]
  },
  {
   "cell_type": "markdown",
   "metadata": {
    "slideshow": {
     "slide_type": "slide"
    }
   },
   "source": [
    "## Demo\n",
    "\n",
    "We will illustrate how the [BEM++](www.bempp.org) package works, which is quite general package for solving boundary integral equations (unfortunately, installation can be painful).\n",
    "\n",
    "\n",
    "[Interior Laplace](laplace_interior_dirichlet.ipynb)\n",
    "\n",
    "[Maxwell scattering](maxwell_screen.ipynb)\n"
   ]
  },
  {
   "cell_type": "markdown",
   "metadata": {
    "slideshow": {
     "slide_type": "slide"
    }
   },
   "source": [
    "## Summary\n",
    "\n",
    "- Precorrected FFT\n",
    "- Demo of BEM++"
   ]
  },
  {
   "cell_type": "markdown",
   "metadata": {
    "slideshow": {
     "slide_type": "slide"
    }
   },
   "source": [
    "## Next lecture\n",
    "- Elaborate on the idea of close/fast once more, Barnes-Hut method"
   ]
  },
  {
   "cell_type": "code",
   "execution_count": 2,
   "metadata": {
    "collapsed": false,
    "slideshow": {
     "slide_type": "skip"
    }
   },
   "outputs": [
    {
     "data": {
      "text/html": [
       "<link href='http://fonts.googleapis.com/css?family=Fenix' rel='stylesheet' type='text/css'>\n",
       "<link href='http://fonts.googleapis.com/css?family=Alegreya+Sans:100,300,400,500,700,800,900,100italic,300italic,400italic,500italic,700italic,800italic,900italic' rel='stylesheet' type='text/css'>\n",
       "<link href='http://fonts.googleapis.com/css?family=Source+Code+Pro:300,400' rel='stylesheet' type='text/css'>\n",
       "<style>\n",
       "    @font-face {\n",
       "        font-family: \"Computer Modern\";\n",
       "        src: url('http://mirrors.ctan.org/fonts/cm-unicode/fonts/otf/cmunss.otf');\n",
       "    }\n",
       "    div.cell{\n",
       "        /*width:80%;*/\n",
       "        /*margin-left:auto !important;\n",
       "        margin-right:auto;*/\n",
       "    }\n",
       "    h1 {\n",
       "        font-family: 'Alegreya Sans', sans-serif;\n",
       "    }\n",
       "    h2 {\n",
       "        font-family: 'Fenix', serif;\n",
       "    }\n",
       "    h3{\n",
       "\t\tfont-family: 'Fenix', serif;\n",
       "        margin-top:12px;\n",
       "        margin-bottom: 3px;\n",
       "       }\n",
       "\th4{\n",
       "\t\tfont-family: 'Fenix', serif;\n",
       "       }\n",
       "    h5 {\n",
       "        font-family: 'Alegreya Sans', sans-serif;\n",
       "    }\t   \n",
       "    div.text_cell_render{\n",
       "        font-family: 'Alegreya Sans',Computer Modern, \"Helvetica Neue\", Arial, Helvetica, Geneva, sans-serif;\n",
       "        line-height: 1.2;\n",
       "        font-size: 120%;\n",
       "        /*width:70%;*/\n",
       "        /*margin-left:auto;*/\n",
       "        margin-right:auto;\n",
       "    }\n",
       "    .CodeMirror{\n",
       "            font-family: \"Source Code Pro\";\n",
       "\t\t\tfont-size: 90%;\n",
       "    }\n",
       "/*    .prompt{\n",
       "        display: None;\n",
       "    }*/\n",
       "    .text_cell_render h1 {\n",
       "        font-weight: 200;\n",
       "        font-size: 50pt;\n",
       "\t\tline-height: 110%;\n",
       "        color:#CD2305;\n",
       "        margin-bottom: 0.5em;\n",
       "        margin-top: 0.5em;\n",
       "        display: block;\n",
       "    }\t\n",
       "    .text_cell_render h5 {\n",
       "        font-weight: 300;\n",
       "        font-size: 16pt;\n",
       "        color: #CD2305;\n",
       "        font-style: italic;\n",
       "        margin-bottom: .5em;\n",
       "        margin-top: 0.5em;\n",
       "        display: block;\n",
       "    }\n",
       "    \n",
       "    li {\n",
       "        line-height: 110%;\n",
       "    }\n",
       "    .warning{\n",
       "        color: rgb( 240, 20, 20 )\n",
       "        }  \n",
       "</style>\n",
       "<script>\n",
       "    MathJax.Hub.Config({\n",
       "                        TeX: {\n",
       "                           extensions: [\"AMSmath.js\"]\n",
       "                           },\n",
       "                tex2jax: {\n",
       "                    inlineMath: [ ['$','$'], [\"\\\\(\",\"\\\\)\"] ],\n",
       "                    displayMath: [ ['$$','$$'], [\"\\\\[\",\"\\\\]\"] ]\n",
       "                },\n",
       "                displayAlign: 'center', // Change this to 'center' to center equations.\n",
       "                \"HTML-CSS\": {\n",
       "                    styles: {'.MathJax_Display': {\"margin\": 4}}\n",
       "                }\n",
       "        });\n",
       "</script>\n"
      ],
      "text/plain": [
       "<IPython.core.display.HTML object>"
      ]
     },
     "execution_count": 2,
     "metadata": {},
     "output_type": "execute_result"
    }
   ],
   "source": [
    "from IPython.core.display import HTML\n",
    "def css_styling():\n",
    "    styles = open(\"./styles/custom.css\", \"r\").read()\n",
    "    return HTML(styles)\n",
    "css_styling()"
   ]
  }
 ],
 "metadata": {
  "celltoolbar": "Slideshow",
  "kernelspec": {
   "display_name": "Python 2",
   "language": "python",
   "name": "python2"
  },
  "language_info": {
   "codemirror_mode": {
    "name": "ipython",
    "version": 2
   },
   "file_extension": ".py",
   "mimetype": "text/x-python",
   "name": "python",
   "nbconvert_exporter": "python",
   "pygments_lexer": "ipython2",
   "version": "2.7.11"
  }
 },
 "nbformat": 4,
 "nbformat_minor": 0
}
