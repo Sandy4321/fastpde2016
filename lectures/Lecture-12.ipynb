{
 "cells": [
  {
   "cell_type": "code",
   "execution_count": null,
   "metadata": {
    "collapsed": false,
    "slideshow": {
     "slide_type": "skip"
    }
   },
   "outputs": [],
   "source": [
    "from IPython.html.services.config import ConfigManager\n",
    "from IPython.utils.path import locate_profile\n",
    "cm = ConfigManager(profile_dir=locate_profile(get_ipython().profile))\n",
    "cm.update('livereveal', {\n",
    "              'theme': 'sky',\n",
    "              'transition': 'zoom',\n",
    "              'start_slideshow_at': 'selected',\n",
    "})"
   ]
  },
  {
   "cell_type": "markdown",
   "metadata": {
    "slideshow": {
     "slide_type": "slide"
    }
   },
   "source": [
    "# Lecture 12. Fast direct solvers; domain decomposition"
   ]
  },
  {
   "cell_type": "markdown",
   "metadata": {
    "slideshow": {
     "slide_type": "slide"
    }
   },
   "source": [
    "## (Approximate) Syllabus\n",
    "- **Week 1:** Intro & basic integral equations (turning PDEs into IEs, typical kernels, Nystrom, collocation, Galerkin, quadrature for singular/hypersingular integrals).\n",
    "- **Week 2:** Translation-invariant kernels and convolutions, FFT. Concept of close and far interactions precorrected FFT. Barnes-Hut method\n",
    "- **Week 3:**  Fast multipole methods. Algebraic analogue of fast multipole method, hierarchical matrices\n",
    "- **Week 4:**  Multigrid methods, domain decomposition"
   ]
  },
  {
   "cell_type": "markdown",
   "metadata": {
    "slideshow": {
     "slide_type": "slide"
    }
   },
   "source": [
    "## Previous lecture: \n",
    "\n",
    "- Advanced iterative method (Anderson Acceleration; geometric & algebraic GMRES)"
   ]
  },
  {
   "cell_type": "markdown",
   "metadata": {
    "slideshow": {
     "slide_type": "slide"
    }
   },
   "source": [
    "## Todays lecture\n",
    "- Finalize fast direct solvers\n",
    "- Basics of Domain decomposition\n"
   ]
  },
  {
   "cell_type": "markdown",
   "metadata": {
    "slideshow": {
     "slide_type": "slide"
    }
   },
   "source": [
    "## Literature\n",
    "\n",
    "This text is based on the book by Yu. Vasillesvki & M. Olshanskii Краткий курс многосеточных методов и методов декомпозоции области."
   ]
  },
  {
   "cell_type": "markdown",
   "metadata": {
    "slideshow": {
     "slide_type": "slide"
    }
   },
   "source": [
    "## Domain decomposition\n",
    "\n",
    "The concept of domain decomposition.\n",
    "\n",
    "Given a domain $\\Omega$ we represent it is as a union of two domain $\\Omega_1$ and $\\Omega_2$ with intersection $\\Gamma$.\n",
    "\n",
    "\n",
    "\n",
    "Then, the problem \n",
    "\n",
    "$$\\Delta u = f, \\quad u_{\\partial \\Omega} = g.$$\n",
    "\n",
    "is equivalent to solving \n",
    "\n",
    "$$\n",
    "   \\Delta u_1 = f_1, \\quad \\Delta u_2 = f_2, \n",
    "$$\n",
    "\n",
    "with additional constraints \n",
    "\n",
    "$$u_1 \\mid_{\\Gamma} = u_2  \\mid_\\Gamma,$$\n",
    "\n",
    "and also **continuity** of the solution:\n",
    "\n",
    "$$\\frac{\\partial u_1}{\\partial n} \\mid_{\\Gamma} = \\frac{\\partial u_2}{\\partial n} \\mid_{\\Gamma}.$$"
   ]
  },
  {
   "cell_type": "markdown",
   "metadata": {
    "slideshow": {
     "slide_type": "slide"
    }
   },
   "source": [
    "## \"Simplest\" iterative method: differential form\n",
    "\n",
    "The simplest iterative method for the DD is the so-called **Neumann-Dirichlet** iteration method.\n",
    "\n",
    "We successively solve the subproblems:\n",
    "    $$-\\Delta u^{(k+1)}_1 = f, \\quad \\mbox{in } \\Omega_1, \\quad u^{(k+1)}_1 = 0, \\quad \\mbox{in } \\partial \\Omega_1 \\setminus \\Gamma, \\quad u^{(k+1)}_1 = \\lambda^k \\quad \\mbox{in } \\Gamma.$$\n",
    "\n",
    "And then\n",
    "    $$\n",
    "        -\\Delta u^{(k+1)}_2 = f, \\quad \\mbox{in } \\Omega_2, \\quad u^{(k+1)}_1 = 0, \\quad \\mbox{in } \\partial \\Omega_2 \\setminus \\Gamma, \\quad \\frac{\\partial u^{(k+1)}_2}{\\partial n_2} = -\\frac{\\partial u^{(k+1)}_1}{\\partial n_1}, \\quad \\mbox{in } \\Gamma.\n",
    "    $$"
   ]
  },
  {
   "cell_type": "markdown",
   "metadata": {
    "slideshow": {
     "slide_type": "slide"
    }
   },
   "source": [
    "## Why do we need domain decomposition methods\n",
    "\n",
    "- The domains can be simpler.\n",
    "- Many elimination methods scale non-linearly with $N$, thus splitting is advantageous\n",
    "- Parallel implementation (with asyncrohonous interface update) is possible."
   ]
  },
  {
   "cell_type": "markdown",
   "metadata": {
    "slideshow": {
     "slide_type": "slide"
    }
   },
   "source": [
    "## Algebraic formulation\n",
    "\n",
    "Domain decomposition methods are understood in the best way when treated algebraically.\n",
    "\n",
    "In the matrix form, the system has the form\n",
    "\n",
    "$$ \\begin{bmatrix} A_{11} & A_{1 \\Gamma} & 0 \\\\\n",
    "A_{\\Gamma 1} & A_{\\Gamma}  & A_{\\Gamma 2} \\\\\n",
    "0 & A_{2 \\Gamma} & A_{22} \n",
    "\\end{bmatrix}\\begin{bmatrix} u_1 \\\\ u_{\\Gamma} \\\\ u_2 \\end{bmatrix} = \\begin{bmatrix} f_1 \\\\ f_{\\Gamma} \\\\ f_2 \\end{bmatrix}.\n",
    "$$"
   ]
  },
  {
   "cell_type": "markdown",
   "metadata": {
    "slideshow": {
     "slide_type": "fragment"
    }
   },
   "source": [
    "In FEM, the interface matrix $A_{\\Gamma}$ is formed from the contributions from two domains:\n",
    "\n",
    "$$A_{\\Gamma} = A^{(1)}_{\\Gamma} + A^{(2)}_{\\Gamma}.$$"
   ]
  },
  {
   "cell_type": "markdown",
   "metadata": {
    "slideshow": {
     "slide_type": "slide"
    }
   },
   "source": [
    "## Algebraic Poincare-Steklov equation\n",
    "\n",
    "If we eliminate $u_1$ and $u_2$ using standard block Gaussian elimination, we have the following equation on the interface:\n",
    "\n",
    "$$\\left(A_{\\Gamma} - A_{\\Gamma 1} A_{11}^{-1} A_{1 \\Gamma} - A_{\\Gamma 2} A_{22}^{-1} A_{2 \\Gamma}\\right) u_{\\Gamma} = f_{\\Gamma} - A_{\\Gamma} A^{-1}_{11} f_1 - A_{\\Gamma 2} A^{-1}_{22} f_2. $$\n",
    "\n",
    "The **Schur complement** in the continuous form the is **Poincare-Steklov** operator."
   ]
  },
  {
   "cell_type": "markdown",
   "metadata": {
    "slideshow": {
     "slide_type": "slide"
    }
   },
   "source": [
    "## Rewriting the PS equation\n",
    "\n",
    "We can write it down as\n",
    "\n",
    "$$S \\lambda = \\chi, \\quad S = S_1 + S_2, \\quad \\chi = \\chi_1 + \\chi_2, \\quad S_i = A^{(i)}_{\\Gamma} - A_{\\Gamma i} A_{ii}^{-1} A_{i \\Gamma}, \\quad \\chi_i = f^{(i)}_{\\Gamma} - A_{\\Gamma i} A^{-1}_{ii} f_i.$$"
   ]
  },
  {
   "cell_type": "markdown",
   "metadata": {
    "slideshow": {
     "slide_type": "fragment"
    }
   },
   "source": [
    "The **Neumann-Dirichlet** iteration is the simple iteration (Richardson method) applied to the Schur complement:\n",
    "\n",
    "$$\\lambda^{k+1} = \\lambda^k + \\theta S^{-1}_2 (- S \\lambda^k + \\chi).$$"
   ]
  },
  {
   "cell_type": "markdown",
   "metadata": {
    "slideshow": {
     "slide_type": "fragment"
    }
   },
   "source": [
    "It order to multiply $S^{-1}_2$ by vector, it is sufficient to solve linear system \n",
    "\n",
    "$$\n",
    "   \\begin{bmatrix} A^{(2)}_{\\Gamma} & A_{\\Gamma 2} \\\\\n",
    "    A_{2 \\Gamma} & A_{22}\n",
    "    \\end{bmatrix}\n",
    "    \\begin{bmatrix} \\eta_{\\Gamma} \\\\\n",
    "    \\eta_2 \n",
    "    \\end{bmatrix}  = \\begin{bmatrix} \\chi_{\\Gamma} \\\\ 0 \\end{bmatrix}.\n",
    "$$\n",
    "\n",
    "And that is a Laplace equation with **Neumann boundary condition!**"
   ]
  },
  {
   "cell_type": "markdown",
   "metadata": {
    "slideshow": {
     "slide_type": "slide"
    }
   },
   "source": [
    "## Computational summary\n",
    "\n",
    "Solving \n",
    "\n",
    "$$S u_{\\gamma} = (S_1 + S_2) u_{\\gamma} = \\chi$$\n",
    "\n",
    "by iterative method.\n",
    "\n",
    "Multiplication by $S$ requires solutions of linear systems with $A_{11}$ and $A_{22}$ (Dirichlet solvers).\n",
    "\n",
    "The solvers with $S_1$ and $S_2$ require the solution of **Neumann problems**."
   ]
  },
  {
   "cell_type": "markdown",
   "metadata": {
    "slideshow": {
     "slide_type": "slide"
    }
   },
   "source": [
    "## Multiple domain case\n",
    "\n",
    "In case multiple domain, similar construct can be written down, especially for the case of **strips**.\n",
    "\n",
    "The Schur complement will be the sum of $S_i$, where $S_i$ is the interface matrix of the form\n",
    "\n",
    "$$S_i = N_i (A^{(i)}_{\\Gamma} - A_{\\Gamma i} A_{ii}^{-1} A_{i \\Gamma}) N^{\\top}_i.$$"
   ]
  },
  {
   "cell_type": "markdown",
   "metadata": {
    "slideshow": {
     "slide_type": "slide"
    }
   },
   "source": [
    "## Other ways to precondition of the interface equation: non-symmetric Neumann-Dirichlet\n",
    "\n",
    "Consider the matrix $B_u$ of the form\n",
    "\n",
    "$$B_u = \\begin{bmatrix} A_{11} & A_{1 \\Gamma} & 0 \\\\\n",
    "A_{\\Gamma 1} & A^{(1)}_{\\Gamma} & 0 \\\\\n",
    "0 & A_{2 \\Gamma} & A_{22}\n",
    "\\end{bmatrix}\n",
    "$$\n",
    "This is a non-symmetric matrix, however on the specific subspace\n",
    "\n",
    "$$U = \\{ A_{2 \\Gamma} x_{\\Gamma} + A_{22} x_2 = 0 \\}$$\n",
    "\n",
    "it is a symmetric-positive definite and spectrally equvalent to $A$.\n",
    "\n",
    "Therefore, if at each iteration step the error belongs to the subspace $U$, then $B_u$ can be an efficient preconditioner.\n",
    "\n"
   ]
  },
  {
   "cell_type": "markdown",
   "metadata": {
    "slideshow": {
     "slide_type": "slide"
    }
   },
   "source": [
    "## Symmetric Neumann-Dirichlet\n",
    "\n",
    "\n",
    "The symmetric variant has the form\n",
    "\n",
    "$$B_s = \\begin{bmatrix} A_{11} & A_{1 \\Gamma} & 0 \\\\\n",
    "A_{\\Gamma 1} & A^{(1)}_{\\Gamma}+ A_{\\Gamma 2} A^{-1}_{22} A_{2 \\Gamma} & A_{\\Gamma 2} \\\\\n",
    "0 & A_{2 \\Gamma} & A_{22} \n",
    "\\end{bmatrix}\n",
    "$$\n",
    "The solution of a linear system with the matrix $B_s$ requires the soliution of linear systems with matrices $A_{22}$, $B_1$, $A_{22}$.\n",
    "\n",
    "Moreover, $B_s$ is spectrally equivalent to the matrix $A$, if $A = A^{\\top}$.\n",
    "\n",
    "i.e.\n",
    "\n",
    "$$C_{21} A \\leq B_s \\leq A.$$\n",
    "\n",
    "The main disadvantage of $B_s$ is that the subdomain problems have to be solverd **exactly**."
   ]
  },
  {
   "cell_type": "markdown",
   "metadata": {
    "slideshow": {
     "slide_type": "slide"
    }
   },
   "source": [
    "## Neumann-Neumann iterative\n",
    "\n",
    "For solving a linear system of the form\n",
    "\n",
    "$$S u_{\\Gamma} = \\chi, \\quad S = S_1 + S_2,$$\n",
    "\n",
    "we can use $\\frac{1}{2} S^{-1}_1 + \\frac{1}{2} S^{-1}_2.$ as a preconditioner.\n",
    "\n",
    "Recall that $S^{-1}_1$ and $S^{-1}_2$ can be solved by solving Neumann boundary problems.\n",
    "\n"
   ]
  },
  {
   "cell_type": "markdown",
   "metadata": {
    "slideshow": {
     "slide_type": "slide"
    }
   },
   "source": [
    "## Multiple domain case\n",
    "Neumann-Neumann method can be generalized to the multiple-domain case.\n",
    "\n",
    "The preconditioner has the form\n",
    "\n",
    "$$B_s = \\sum_{i=1}^m N_i D_i S^{-1}_i D_i N^{\\top}_i,$$\n",
    "\n",
    "where $D_i$ is a diagonal matrix that contains the inverse numbers of the domains, containing the particular node, $N_i$ is the local assembly matrix\n",
    "\n",
    "(i.e. $\\sum_{i=1}^m N_i D_i N^{\\top}_i  = I.$).\n",
    "\n",
    "The convergence estimate by Mandel given \n",
    "\n",
    "$$\\mathrm{cond}(B_S S) \\leq C\\left(1 + \\log \\frac{d}{h} \\right)\\max\\{\\frac{C}{d^2}; \\log \\frac{d}{h} \\}.$$\n",
    "\n",
    "In practice, the dependence on the number of subdomains is smaller, and can be removed by solving an additional problem on the grid that is created by the subdomain subdivision."
   ]
  },
  {
   "cell_type": "markdown",
   "metadata": {
    "slideshow": {
     "slide_type": "slide"
    }
   },
   "source": [
    "## Dirichlet-Dirichlet iteration method\n",
    "\n",
    "Another method is the Dirichlet-Dirichlet iteration method, and comes from a very natural setting.\n",
    "\n",
    "In the weak formulation we have\n",
    "\n",
    "$$\\int_{\\Omega_1} \\nabla u_1 \\cdot \\nabla v_1 dx + \\int_{\\Gamma} \\lambda v_1 ds = \\int_{\\Omega_1} f v_1 dx, \\quad v_1 \\in V_1,$$\n",
    "\n",
    "$$\\int_{\\Omega_2} \\nabla u_2 \\cdot \\nabla v_2 dx - \\int_{\\Gamma} \\lambda v_2 ds = \\int_{\\Omega_2} f v_2 dx, \\quad v_2 \\in V_2,$$\n",
    "\n",
    "where\n",
    "\n",
    "$$\\lambda = \\frac{\\partial u}{\\partial n},$$\n",
    "\n",
    "and also the equality connection\n",
    "\n",
    "$$\\int_{\\Gamma} (U_1 - u_2) \\mu ds = 0, \\quad \\mu \\in \\Lambda.$$"
   ]
  },
  {
   "cell_type": "markdown",
   "metadata": {
    "slideshow": {
     "slide_type": "slide"
    }
   },
   "source": [
    "## Saddle point form\n",
    "\n",
    "After discretization we have the **saddle point system** (which arises in many other places)\n",
    "\n",
    "$$\\begin{bmatrix} B_1 & 0 & C^{\\top}_1\\\\\n",
    "0 & B_2 & -C^{\\top}_2 \\\\\n",
    "C_1 & -C_2 & 0 \n",
    "\\end{bmatrix}\n",
    "\\begin{bmatrix} \n",
    "u_1 \\\\\n",
    "u_2 \\\\\n",
    "\\lambda\n",
    "\\end{bmatrix} = \n",
    "\\begin{bmatrix}\n",
    "f_1 \\\\\n",
    "f_2 \\\\\n",
    "0\n",
    "\\end{bmatrix}\n",
    "$$\n",
    "\n",
    "The **Schur complement gives**\n",
    "\n",
    "$$C_1 B^{-1}_1 C^{\\top}_1 + C_2 B^{-1}_2 C^{\\top}_2 = C_1 B^{-1}_1 f_1 - C_2 B^{-1}_2 f_2.$$\n",
    "\n",
    "\n",
    "It can be written as\n",
    "\n",
    "$$S_d = C_{1 \\Gamma} S^{-1}_1 C^{\\top}_{1 \\Gamma} + C_{2 \\Gamma} S^{-1}_2 C^{\\top}_{2 \\Gamma}.$$\n",
    "As a preconditioner, one can use \n",
    "\n",
    "$$S_F = C_{1 \\Gamma} S_1 C^{\\top}_{1 \\Gamma} + C_{2 \\Gamma} S_2 C^{\\top}_{2 \\Gamma}.$$\n"
   ]
  },
  {
   "cell_type": "markdown",
   "metadata": {
    "slideshow": {
     "slide_type": "slide"
    }
   },
   "source": [
    "## Overlapping domain decomposition (Schwartz method)\n",
    "\n",
    "Much more robust (and scalable) variant can be obtained by splitting the domain into the overlapping patches:\n",
    "\n",
    "$$\\Omega = \\cup^m _1 \\Omega_i,$$\n",
    "\n",
    "in such a way that for every $\\Omega_i$ there exist $j$ such that \n",
    "\n",
    "$$\\Omega_i \\cap \\Omega_j \\ne 0.$$"
   ]
  },
  {
   "cell_type": "markdown",
   "metadata": {
    "slideshow": {
     "slide_type": "slide"
    }
   },
   "source": [
    "## Schwartz method\n",
    "\n",
    "We solve\n",
    "\n",
    "$$-\\Delta u^{n + \\frac{i}{m}} = f \\quad \\mbox{in } \\Omega_i,$$\n",
    "\n",
    "$$u^{n + \\frac{i}{m}} = u^{n + \\frac{i-1}{m}}, \\quad \\mbox{in } \\overline{\\Omega} \\setminus \\Omega_i \\quad i = 1, \\ldots, m.$$"
   ]
  },
  {
   "cell_type": "markdown",
   "metadata": {
    "slideshow": {
     "slide_type": "slide"
    }
   },
   "source": [
    "## Multiplicative Schwartz method\n",
    "\n",
    "Let $R_i$ be the projection matrix onto the indices, corresponding to the domain (remember the subspace correction algorithm).\n",
    "\n",
    "Then, \n",
    "\n",
    "$$A_i = R_i A R^{\\top}_i,$$\n",
    "\n",
    "and one step can be written as\n",
    "\n",
    "$$A_i z_i = R_i (f - Au), \\quad u := u + R_i z_i, \\quad i = 1, \\ldots, m.$$\n",
    "\n",
    "Then the transition matrix has the form\n",
    "\n",
    "\n",
    "$$e^{n+1} = (I - P_m)\\ldots (I - P_1) e^n,$$\n",
    "where\n",
    "$$P_i = R_i A^{-1}_i R_i^{\\top}.$$\n",
    "The matrix $P_i$ is a projector (let us show that!)."
   ]
  },
  {
   "cell_type": "markdown",
   "metadata": {
    "slideshow": {
     "slide_type": "slide"
    }
   },
   "source": [
    "## Additive Schwartz method\n",
    "\n",
    "In the additive Schwartz method the iteration matrix is given as\n",
    "\n",
    "$$(I - P_m) \\ldots (I - P_1) \\approx I - P_1 -  \\ldots - P_m.$$\n",
    "\n",
    "The main benefit is that it is embarassingly parallel: subproblems are solved independently, then\n",
    "the information through the borders is exchanged."
   ]
  },
  {
   "cell_type": "markdown",
   "metadata": {
    "slideshow": {
     "slide_type": "slide"
    }
   },
   "source": [
    "## Additive Schwartz method & Block Jacobi\n",
    "\n",
    "Additive Schwartz method for non-overlapping case is just the **Block Jacobi method**."
   ]
  },
  {
   "cell_type": "markdown",
   "metadata": {
    "slideshow": {
     "slide_type": "slide"
    }
   },
   "source": [
    "## Multiplicative Schwartz & Block Gauss-Seidel\n",
    "\n",
    "One iteration of the multiplicative Schwartz is equivalent to the Block Gauss-Seidel method."
   ]
  },
  {
   "cell_type": "markdown",
   "metadata": {
    "slideshow": {
     "slide_type": "slide"
    }
   },
   "source": [
    "## Next lecture\n",
    "- Start the advanced topics (brief overview of wavelets, sparse grids, etc.)"
   ]
  },
  {
   "cell_type": "code",
   "execution_count": 40,
   "metadata": {
    "collapsed": false,
    "slideshow": {
     "slide_type": "skip"
    }
   },
   "outputs": [
    {
     "data": {
      "text/html": [
       "<link href='http://fonts.googleapis.com/css?family=Fenix' rel='stylesheet' type='text/css'>\n",
       "<link href='http://fonts.googleapis.com/css?family=Alegreya+Sans:100,300,400,500,700,800,900,100italic,300italic,400italic,500italic,700italic,800italic,900italic' rel='stylesheet' type='text/css'>\n",
       "<link href='http://fonts.googleapis.com/css?family=Source+Code+Pro:300,400' rel='stylesheet' type='text/css'>\n",
       "<style>\n",
       "    @font-face {\n",
       "        font-family: \"Computer Modern\";\n",
       "        src: url('http://mirrors.ctan.org/fonts/cm-unicode/fonts/otf/cmunss.otf');\n",
       "    }\n",
       "    div.cell{\n",
       "        /*width:80%;*/\n",
       "        /*margin-left:auto !important;\n",
       "        margin-right:auto;*/\n",
       "    }\n",
       "    h1 {\n",
       "        font-family: 'Alegreya Sans', sans-serif;\n",
       "    }\n",
       "    h2 {\n",
       "        font-family: 'Fenix', serif;\n",
       "    }\n",
       "    h3{\n",
       "\t\tfont-family: 'Fenix', serif;\n",
       "        margin-top:12px;\n",
       "        margin-bottom: 3px;\n",
       "       }\n",
       "\th4{\n",
       "\t\tfont-family: 'Fenix', serif;\n",
       "       }\n",
       "    h5 {\n",
       "        font-family: 'Alegreya Sans', sans-serif;\n",
       "    }\t   \n",
       "    div.text_cell_render{\n",
       "        font-family: 'Alegreya Sans',Computer Modern, \"Helvetica Neue\", Arial, Helvetica, Geneva, sans-serif;\n",
       "        line-height: 1.2;\n",
       "        font-size: 120%;\n",
       "        /*width:70%;*/\n",
       "        /*margin-left:auto;*/\n",
       "        margin-right:auto;\n",
       "    }\n",
       "    .CodeMirror{\n",
       "            font-family: \"Source Code Pro\";\n",
       "\t\t\tfont-size: 90%;\n",
       "    }\n",
       "/*    .prompt{\n",
       "        display: None;\n",
       "    }*/\n",
       "    .text_cell_render h1 {\n",
       "        font-weight: 200;\n",
       "        font-size: 50pt;\n",
       "\t\tline-height: 110%;\n",
       "        color:#CD2305;\n",
       "        margin-bottom: 0.5em;\n",
       "        margin-top: 0.5em;\n",
       "        display: block;\n",
       "    }\t\n",
       "    .text_cell_render h5 {\n",
       "        font-weight: 300;\n",
       "        font-size: 16pt;\n",
       "        color: #CD2305;\n",
       "        font-style: italic;\n",
       "        margin-bottom: .5em;\n",
       "        margin-top: 0.5em;\n",
       "        display: block;\n",
       "    }\n",
       "    \n",
       "    li {\n",
       "        line-height: 110%;\n",
       "    }\n",
       "    .warning{\n",
       "        color: rgb( 240, 20, 20 )\n",
       "        }  \n",
       "</style>\n",
       "<script>\n",
       "    MathJax.Hub.Config({\n",
       "                        TeX: {\n",
       "                           extensions: [\"AMSmath.js\"]\n",
       "                           },\n",
       "                tex2jax: {\n",
       "                    inlineMath: [ ['$','$'], [\"\\\\(\",\"\\\\)\"] ],\n",
       "                    displayMath: [ ['$$','$$'], [\"\\\\[\",\"\\\\]\"] ]\n",
       "                },\n",
       "                displayAlign: 'center', // Change this to 'center' to center equations.\n",
       "                \"HTML-CSS\": {\n",
       "                    styles: {'.MathJax_Display': {\"margin\": 4}}\n",
       "                }\n",
       "        });\n",
       "</script>\n"
      ],
      "text/plain": [
       "<IPython.core.display.HTML object>"
      ]
     },
     "execution_count": 40,
     "metadata": {},
     "output_type": "execute_result"
    }
   ],
   "source": [
    "from IPython.core.display import HTML\n",
    "def css_styling():\n",
    "    styles = open(\"./styles/custom.css\", \"r\").read()\n",
    "    return HTML(styles)\n",
    "css_styling()"
   ]
  }
 ],
 "metadata": {
  "celltoolbar": "Slideshow",
  "kernelspec": {
   "display_name": "Python 2",
   "language": "python",
   "name": "python2"
  },
  "language_info": {
   "codemirror_mode": {
    "name": "ipython",
    "version": 2
   },
   "file_extension": ".py",
   "mimetype": "text/x-python",
   "name": "python",
   "nbconvert_exporter": "python",
   "pygments_lexer": "ipython2",
   "version": "2.7.11"
  }
 },
 "nbformat": 4,
 "nbformat_minor": 0
}
