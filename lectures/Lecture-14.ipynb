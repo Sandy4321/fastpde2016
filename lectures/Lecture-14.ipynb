{
 "cells": [
  {
   "cell_type": "code",
   "execution_count": 3,
   "metadata": {
    "collapsed": false,
    "slideshow": {
     "slide_type": "skip"
    }
   },
   "outputs": [
    {
     "name": "stderr",
     "output_type": "stream",
     "text": [
      "/home/ivan/miniconda2/lib/python2.7/site-packages/IPython/html.py:14: ShimWarning: The `IPython.html` package has been deprecated. You should import from `notebook` instead. `IPython.html.widgets` has moved to `ipywidgets`.\n",
      "  \"`IPython.html.widgets` has moved to `ipywidgets`.\", ShimWarning)\n",
      "/home/ivan/miniconda2/lib/python2.7/site-packages/IPython/utils/path.py:282: UserWarning: locate_profile has moved to the IPython.paths module\n",
      "  warn(\"locate_profile has moved to the IPython.paths module\")\n"
     ]
    },
    {
     "data": {
      "text/plain": [
       "{u'scroll': True,\n",
       " u'start_slideshow_at': 'selected',\n",
       " u'theme': 'sky',\n",
       " u'transition': 'zoom'}"
      ]
     },
     "execution_count": 3,
     "metadata": {},
     "output_type": "execute_result"
    }
   ],
   "source": [
    "from IPython.html.services.config import ConfigManager\n",
    "from IPython.utils.path import locate_profile\n",
    "cm = ConfigManager(profile_dir=locate_profile(get_ipython().profile))\n",
    "cm.update('livereveal', {\n",
    "              'theme': 'sky',\n",
    "              'transition': 'zoom',\n",
    "              'start_slideshow_at': 'selected',\n",
    "})"
   ]
  },
  {
   "cell_type": "markdown",
   "metadata": {
    "slideshow": {
     "slide_type": "slide"
    }
   },
   "source": [
    "# Lecture 14. Wavelets"
   ]
  },
  {
   "cell_type": "markdown",
   "metadata": {
    "slideshow": {
     "slide_type": "slide"
    }
   },
   "source": [
    "## (Approximate) Syllabus\n",
    "- **Week 1:** Intro & basic integral equations (turning PDEs into IEs, typical kernels, Nystrom, collocation, Galerkin, quadrature for singular/hypersingular integrals).\n",
    "- **Week 2:** Translation-invariant kernels and convolutions, FFT. Concept of close and far interactions precorrected FFT. Barnes-Hut method\n",
    "- **Week 3:**  Fast multipole methods. Algebraic analogue of fast multipole method, hierarchical matrices\n",
    "- **Week 4:**  Multigrid methods, domain decomposition, sparse grids\n",
    "- **Week 5:** Wavelets & Tensors"
   ]
  },
  {
   "cell_type": "markdown",
   "metadata": {
    "slideshow": {
     "slide_type": "slide"
    }
   },
   "source": [
    "## Previous lecture\n",
    "- Sparse grids"
   ]
  },
  {
   "cell_type": "markdown",
   "metadata": {
    "slideshow": {
     "slide_type": "slide"
    }
   },
   "source": [
    "## Todays lecture\n",
    "\n",
    "- Wavelets"
   ]
  },
  {
   "cell_type": "markdown",
   "metadata": {
    "slideshow": {
     "slide_type": "slide"
    }
   },
   "source": [
    "## Standard basis functions\n",
    "\n",
    "Standard basis functions are local, and if we have a global function (for example, $f(x) = 1)$ the coefficients in the expansion\n",
    "\n",
    "$$f(x) = \\sum_{i=1}^N c_i \\phi_i(x).$$\n",
    "\n",
    "No coefficients can be omittied, i.e. $c_i = f(x_i) = 1$, and the vector is non-sparse.\n",
    "\n",
    "The idea of **wavelets** is to find a right basis (instead of piecewise-linears) where the coefficients will be **pseudo-sparse**."
   ]
  },
  {
   "cell_type": "markdown",
   "metadata": {
    "slideshow": {
     "slide_type": "slide"
    }
   },
   "source": [
    "## Nested subspaces\n",
    "\n",
    "Let  $V_k = \\{ \\mathrm{Span}(\\phi^{(k)}_1, \\ldots, \\phi^{(k)}_{N_k}) \\}$ - be the subspace of piecewise-linear functions on a grid.\n",
    "\n",
    "\n",
    "We have obvious connection\n",
    "\n",
    "$$V_1 \\subset V_2 \\subset \\ldots \\subset V_k.$$\n",
    "\n",
    "\n",
    "For example, constant and linear functions are in $V_1$, i.e. defined by $2$ coefficients.\n",
    "\n",
    "But the vector in $V_k$ does not feel it!"
   ]
  },
  {
   "cell_type": "markdown",
   "metadata": {
    "slideshow": {
     "slide_type": "slide"
    }
   },
   "source": [
    "## Separation into \"good\" and \"bad\" subspaces\n",
    "\n",
    "The **key idea** is to separate the subspace into \"fine\" and coarse part:\n",
    "\n",
    "$$V_k = V_{k-1} \\oplus W_k,$$\n",
    "\n",
    "where $W_k$ is called **wavelet space**. The subspace $W_k$ is selected in a way that coefficients in the expansion \n",
    "\n",
    "$$v_k = v_{k-1} + w_{k}$$\n",
    "\n",
    "the vector $w_k$ is small for **good** functions (i.e. polynomials),\n",
    "\n",
    "for example, \n",
    "\n",
    "$$w_k \\perp \\mathcal{P}.$$\n",
    "\n",
    "Another option is to require orthogonality:\n",
    "\n",
    "$$V_{k-1} \\perp W_k,$$\n",
    "\n",
    "but this can not be done for arbitrary nested subspaces (special subspaces have to be designed)."
   ]
  },
  {
   "cell_type": "markdown",
   "metadata": {
    "slideshow": {
     "slide_type": "slide"
    }
   },
   "source": [
    "## Haar wavelets\n",
    "\n",
    "The simplest and the oldest (but yet quite effective) wavelet spaces are **Haar wavelets**.\n",
    "\n",
    "They are based on piecewise-constant functions."
   ]
  },
  {
   "cell_type": "code",
   "execution_count": 7,
   "metadata": {
    "collapsed": false,
    "slideshow": {
     "slide_type": "slide"
    }
   },
   "outputs": [
    {
     "data": {
      "text/plain": [
       "<matplotlib.text.Text at 0x7f0d974e0dd0>"
      ]
     },
     "execution_count": 7,
     "metadata": {},
     "output_type": "execute_result"
    },
    {
     "data": {
      "image/png": "[encoded data removed]",
      "text/plain": [
       "<matplotlib.figure.Figure at 0x7f0d974d46d0>"
      ]
     },
     "metadata": {},
     "output_type": "display_data"
    }
   ],
   "source": [
    "%matplotlib inline\n",
    "import numpy as np\n",
    "import pywt\n",
    "import matplotlib.pyplot as plt\n",
    "\n",
    "w = pywt.Wavelet('Haar')\n",
    "phi, psi, x = w.wavefun(level=10)\n",
    "\n",
    "fig, ax = plt.subplots()\n",
    "ax.set_xlim(0,1)\n",
    "ax.plot(x, psi)\n",
    "ax.set_title('Haar wavelet')"
   ]
  },
  {
   "cell_type": "markdown",
   "metadata": {
    "slideshow": {
     "slide_type": "slide"
    }
   },
   "source": [
    "## General scheme\n",
    "\n",
    "So, we represent the function instead of two constant functions on $[0, 0.5]$ and $[0.5, 1.0]$,\n",
    "\n",
    "by a single constant function on $[0, 1]$ and one Haar wavelet."
   ]
  },
  {
   "cell_type": "markdown",
   "metadata": {
    "slideshow": {
     "slide_type": "slide"
    }
   },
   "source": [
    "## Multilevel scheme\n",
    "\n",
    "$$V_k = V_{k-1} + W_k = V_{k-2} + W_{k-1} + W_k = W_1 + W_2 + \\ldots W_k.$$\n",
    "\n",
    "We only store the **details** coefficients. \n",
    "\n",
    "At this step, no information is lost. However, the details coefficient is **pseudo-sparse**, i.e. many of the entries can be replaced by the small entries."
   ]
  },
  {
   "cell_type": "markdown",
   "metadata": {
    "slideshow": {
     "slide_type": "slide"
    }
   },
   "source": [
    "## Discrete wavelet transform\n",
    "\n",
    "The discrete wavelet transform comes from the transformation of the **coefficients** of the vector with respect to $V_k$ and the set of wavelet spaces:\n",
    "\n",
    "$$f = V_k p, \\quad g = W p.$$\n",
    "\n",
    "In the simplest Haar wavelet case this also has a very simple look:"
   ]
  },
  {
   "cell_type": "markdown",
   "metadata": {
    "slideshow": {
     "slide_type": "slide"
    }
   },
   "source": [
    "## Discrete Haar wavelet transform\n",
    "\n",
    "Given a vector $x$, we split it into \"odd\" and \"even\" components and have\n",
    "\n",
    "$$x'_{2i} = \\frac{1}{\\sqrt{2}} \\left(x_{2i} + x_{2i-1}\\right), \\quad x'_{2i-1} = \\frac{1}{\\sqrt{2}}\\left(x_{2i} - x_{2i-1}\\right).$$\n",
    "\n",
    "Note what happens: we compute differents and sums of nearby points. The **wavelet coefficients** are correction coefficients, but no information is lost."
   ]
  },
  {
   "cell_type": "markdown",
   "metadata": {
    "slideshow": {
     "slide_type": "slide"
    }
   },
   "source": [
    "## Multilevel transform\n",
    "\n",
    "The Haar wavelet transform is then applied recursively:\n",
    "\n",
    "- We compute sums and differences\n",
    "- Arrange sums as the first $n/2$ entries of the vector\n",
    "- We apply Haar transform to the first $n/2$ entries\n"
   ]
  },
  {
   "cell_type": "markdown",
   "metadata": {
    "slideshow": {
     "slide_type": "slide"
    }
   },
   "source": [
    "## Properties of the Haar wavelet transform\n",
    "\n",
    "$$y = W c, $$\n",
    "\n",
    "$W$ is an orthogonal matrix, and it transforms \"smooth functions\" to \"pseudo-sparse\".\n",
    "\n",
    "I.e., if $c$ is constant, it will contain only $1$ non-zero element.\n",
    "\n",
    "(it is also known as one **zero moment**)."
   ]
  },
  {
   "cell_type": "markdown",
   "metadata": {
    "slideshow": {
     "slide_type": "slide"
    }
   },
   "source": [
    "## Constructing wavelets\n",
    "\n",
    "There are two basic constructions of discrete wavelet transforms:\n",
    "\n",
    "- Based on continious wavelet representation \n",
    "- Based on the discrete construction and so-called \"lifting schemes\".\n",
    "\n",
    "Another question is, how this can be used in fast solvers. Again, several options:\n",
    "\n",
    "- Using wavelet basis (to be defined in a second) to represent solution\n",
    "- Using Discrete Wavelet Transform to sparsify solution and/or the matrix (in case of integral equations)."
   ]
  },
  {
   "cell_type": "markdown",
   "metadata": {
    "slideshow": {
     "slide_type": "slide"
    }
   },
   "source": [
    "## Classical wavelet basis construction\n",
    "\n",
    "Classica wavelet basis construction is based on **shifts** and **scaling** of a single function.\n",
    "\n",
    "Indeed, the Fourier expansion is based on the expression of a signal as a linear combination of complex exponents:\n",
    "\n",
    "$$f(x) = \\sum_{k} c_k e^{ikx},$$\n",
    "\n",
    "i.e. all the basis functions are **scales** of the same mother function $$e^{ix}$$.\n",
    "\n",
    "The problem with it is well-known: it has **global support** and if we add a noise or singularity at $1$ point, the decay of the coefficients will be bad.\n",
    "\n",
    "A nice introduction is given by [G. Strang](http://www4.ncsu.edu/~gremaud/REU/strang.pdf)"
   ]
  },
  {
   "cell_type": "code",
   "execution_count": 21,
   "metadata": {
    "collapsed": false,
    "slideshow": {
     "slide_type": "slide"
    }
   },
   "outputs": [
    {
     "data": {
      "text/plain": [
       "array([  1.00000000e+00,   3.18621539e-01,   3.18621539e-01, ...,\n",
       "         9.77521707e-04,   9.77521707e-04,   9.77517107e-04])"
      ]
     },
     "execution_count": 21,
     "metadata": {},
     "output_type": "execute_result"
    },
    {
     "data": {
      "image/png": "[encoded data removed]",
      "text/plain": [
       "<matplotlib.figure.Figure at 0x7f0d96efba10>"
      ]
     },
     "metadata": {},
     "output_type": "display_data"
    },
    {
     "data": {
      "image/png": "[encoded data removed]",
      "text/plain": [
       "<matplotlib.figure.Figure at 0x7f0d968eb490>"
      ]
     },
     "metadata": {},
     "output_type": "display_data"
    }
   ],
   "source": [
    "import numpy as np\n",
    "\n",
    "n = 1024\n",
    "\n",
    "t = np.linspace(0, np.pi, n)\n",
    "\n",
    "f = np.sin(t)\n",
    "plt.plot(np.abs(np.fft.fft(f)))\n",
    "f = t\n",
    "plt.figure()\n",
    "\n",
    "q1 = np.abs(np.fft.fft(f))\n",
    "plt.plot(np.abs(np.fft.fft(f)))\n",
    "q2 = np.sort(q1)[::-1]\n",
    "q2 / q2[0]"
   ]
  },
  {
   "cell_type": "markdown",
   "metadata": {
    "slideshow": {
     "slide_type": "slide"
    }
   },
   "source": [
    "## Dilatation and translation\n",
    "\n",
    "The idea of wavelet basis is to use **local support** basis functions. Then, scaling-only is not enough, and **shifting** is required as well. This is called **dilatation** and **translation**.\n",
    "\n",
    "The basis set is then defined as the set of all functions of the form\n",
    "\n",
    "$$W_{kl} = W(2^k x - l),$$\n",
    "\n",
    "where $W$ is called **mother function**\n",
    "\n",
    "This is not yet the wavelet basis: it only allows us to generate the sequence of nested subspaces.\n",
    "\n",
    "The orthogonality of the basis is not easy to fullfil (and we need orthogonal basis).\n",
    "\n"
   ]
  },
  {
   "cell_type": "markdown",
   "metadata": {
    "slideshow": {
     "slide_type": "slide"
    }
   },
   "source": [
    "## Orthogonality\n",
    "\n",
    "To ensure orthogonality, the function $W$ has to be selected in such a way that it is orthogonal to all its dilatation and transalations:\n",
    "\n",
    "$$\\int W(x) W(2^k x - l) dx = 0.$$"
   ]
  },
  {
   "cell_type": "markdown",
   "metadata": {
    "slideshow": {
     "slide_type": "slide"
    }
   },
   "source": [
    "## Scaling function\n",
    "\n",
    "The wavelets give a multiresolution basis for a sequence of nested subspaces. How they are defined?\n",
    "\n",
    "This subspaces are typically generated by the dilatation (which is a transform $\\phi \\rightarrow \\phi(2x)$0 and translation of a scaling function $\\phi(x)$.\n",
    "\n",
    "To make the subspaces nested, we have the equation\n",
    "\n",
    "$$\\phi(x) = \\sum_k c_k \\phi(2x -k),$$\n",
    "\n",
    "which is called **dilatation equation**\n",
    "\n",
    "The sufficient condition comes from the integration of both parts and has the form\n",
    "\n",
    "$$\\sum_k c_k = 2.$$"
   ]
  },
  {
   "cell_type": "markdown",
   "metadata": {
    "slideshow": {
     "slide_type": "slide"
    }
   },
   "source": [
    "## Examples of dilatation equations\n",
    "\n",
    "Delta function has $c_0 = 2$, $\\delta(2x) = 2 \\delta(x)$.\n",
    "\n",
    "The hat function has $c_0 = 1, c_1 = c_{-1} = \\frac{1}{2}.$"
   ]
  },
  {
   "cell_type": "markdown",
   "metadata": {
    "slideshow": {
     "slide_type": "slide"
    }
   },
   "source": [
    "## Important example: Daubechies wavelet\n",
    "One of the most important examples has\n",
    "\n",
    "$$c = \\left(\\frac{1}{4}(1 + \\sqrt{3}), \\frac{1}{4}(3 + \\sqrt{3}), \\frac{1}{4}(3 - \\sqrt{3}), \\frac{1}{4}(1 - \\sqrt{3})\\right).$$\n",
    "\n",
    "Note, not very smooth!"
   ]
  },
  {
   "cell_type": "code",
   "execution_count": 31,
   "metadata": {
    "collapsed": false,
    "slideshow": {
     "slide_type": "fragment"
    }
   },
   "outputs": [
    {
     "data": {
      "text/plain": [
       "<matplotlib.text.Text at 0x7f0d968b50d0>"
      ]
     },
     "execution_count": 31,
     "metadata": {},
     "output_type": "execute_result"
    },
    {
     "data": {
      "image/png": "[encoded data removed]",
      "text/plain": [
       "<matplotlib.figure.Figure at 0x7f0d96981e90>"
      ]
     },
     "metadata": {},
     "output_type": "display_data"
    }
   ],
   "source": [
    "%matplotlib inline\n",
    "import numpy as np\n",
    "import pywt\n",
    "import matplotlib.pyplot as plt\n",
    "pywt.wavelist()\n",
    "w = pywt.Wavelet('db2')\n",
    "phi, psi, x = w.wavefun(level=10)\n",
    "\n",
    "fig, ax = plt.subplots()\n",
    "#ax.set_xlim(0,1)\n",
    "ax.plot(x, psi)\n",
    "ax.set_title('Daubechies 2')"
   ]
  },
  {
   "cell_type": "markdown",
   "metadata": {
    "slideshow": {
     "slide_type": "slide"
    }
   },
   "source": [
    "## Solving dilatation equation\n",
    "\n",
    "The scaling function is uniquely defined by the coefficients.\n",
    "\n",
    "A popular construction is taking the Fourier Transform of both sides, which gives\n",
    "\n",
    "$$\\widehat{\\psi}(\\xi) = P\\left(\\frac{\\xi}{2}\\right) \\widehat{\\psi}\\left(\\frac{\\xi}{2}\\right),$$\n",
    "\n",
    "where \n",
    "\n",
    "$$P(\\xi) = \\frac{1}{2} \\sum_k c_k e^{i k \\xi}.$$\n",
    "\n",
    "Applying this recursively, we get a product representatation of $\\psi$."
   ]
  },
  {
   "cell_type": "markdown",
   "metadata": {
    "slideshow": {
     "slide_type": "slide"
    }
   },
   "source": [
    "## Conditions on coefficients\n",
    "\n",
    "The whole analysis is defined by the coefficients $c_k$.\n",
    "\n",
    "The crucial points are:\n",
    "\n",
    "1. Polynomials $1, \\ldots, x^p$ are linear combination of translates $\\phi(x - k)$. \n",
    "2. $$\\sum_{k} (-1)^k k^m c_k = 0, \\quad m = 0, \\ldots, p-1$$\n",
    "3. Wavelet function $W(x)$, defined as $W(x) = \\sum_k (-1)^k c_{1-k} \\phi(2x -k)$, has first $p$ moments zero.\n",
    "4. (Condition O.) Orthogonality of the wavelets is $\\sum_k c_k c_{k - 2m} = 2 \\delta_{0m}.$\n",
    "\n",
    "Construction of orthogonal bases is non-trivail, and D2 wavelets are the prominent example.\n",
    "\n",
    "I would even consider this as a \"miracle\" as well."
   ]
  },
  {
   "cell_type": "markdown",
   "metadata": {
    "slideshow": {
     "slide_type": "slide"
    }
   },
   "source": [
    "## Multidimensional construction\n",
    "\n",
    "So far, we have considered only one-dimensional case.\n",
    "\n",
    "In two dimensions, the standard approach is to use tensor product basis functions of one-dimensional basis functions."
   ]
  },
  {
   "cell_type": "markdown",
   "metadata": {
    "slideshow": {
     "slide_type": "slide"
    }
   },
   "source": [
    "## Finite domains\n",
    "\n",
    "The theory of Daubechies is based on the infinite domain, and translations are for the whole domain.\n",
    "\n",
    "Typically, we work on fixed intervals, and we will have to introduce \"boundary conditions\" which are often done using **periodization**. A simpler approach (also applicable for much more complicated domains) was proposed by W. Sweldens and is called **lifting scheme**."
   ]
  },
  {
   "cell_type": "markdown",
   "metadata": {
    "slideshow": {
     "slide_type": "slide"
    }
   },
   "source": [
    "## Lifting scheme\n",
    "\n",
    "The idea of the lifting scheme starts from a given **coarse** $\\widetilde{\\phi}_i$ and **fine** $\\phi_i$ basis functions.\n",
    "\n",
    "Suppose there are **twice many** fine functions rather than coarse functions. \n",
    "\n",
    "Then,\n",
    "\n",
    "we can introduce a subset of the fine functions that complement the coarse space, and **correct them** for arbitrary coarse functions,\n",
    "\n",
    "$$\\phi'_{2i} = \\phi_{2i} - \\sum_{j \\in N(i)} \\alpha_j \\widetilde{\\phi}_j,$$\n",
    "\n",
    "and to maintain locality, we require the the sum goes near the given basis function.\n",
    "\n",
    "This still gives the basis for the \"wavelet space\".\n",
    "\n",
    "The coefficients $\\alpha_j$ are then selected either to make the \"wavelet space\" more orthogonal to the coarse space, \n",
    "\n",
    "or to make it have the required number of zero moments."
   ]
  },
  {
   "cell_type": "markdown",
   "metadata": {
    "slideshow": {
     "slide_type": "slide"
    }
   },
   "source": [
    "## Wavelet methods for PDE\n",
    "\n",
    "Wavelet methods can produce optimal discretizations for PDEs, see\n",
    "\n",
    "[Wavelet methods for PDEs — some recent developments by \n",
    "Wolfgang Dahmen](http://www.sciencedirect.com/science/article/pii/S0377042700005112/pdfft?md5=4899ddde2303b2f1129537a6d59a6a4f&pid=1-s2.0-S0377042700005112-main.pdf)\n",
    "\n",
    "Just one result: the Laplace operator in the wavelet basis is equivalent to the diagonal matrix.\n",
    "\n",
    "Why: in the Fourier basis it is a diagonal matrix, in the wavelet basis it is \"diagonal\" on each multiresolution level."
   ]
  },
  {
   "cell_type": "markdown",
   "metadata": {
    "slideshow": {
     "slide_type": "slide"
    }
   },
   "source": [
    "## Wavelet methods for integral equations\n",
    "\n",
    "For integral equations, wavelet methods are often used to compress the matrix:\n",
    "\n",
    "$$\\widehat{A} = W A W^{\\top},$$\n",
    "\n",
    "and $\\widehat{A}$ is **pseudosparse*."
   ]
  },
  {
   "cell_type": "markdown",
   "metadata": {
    "slideshow": {
     "slide_type": "slide"
    }
   },
   "source": [
    "## Reading\n",
    "\n",
    "There is an extremely simple & nice book [Wavelets for computer graphics, by Eric Stollnitz, Tony DeRose, David Salesin](http://grail.cs.washington.edu/projects/wavelets/) with a Russian  translation, \n",
    "\n",
    "which gives a very gentle introduction to the concept of multiresolution analysis and discrete wavelet transforms."
   ]
  },
  {
   "cell_type": "markdown",
   "metadata": {
    "slideshow": {
     "slide_type": "slide"
    }
   },
   "source": [
    "## Summary\n",
    "- Idea of multiresolution analysis\n",
    "- Haar wavelet transform\n",
    "- Dilatation equation\n",
    "- Lifting scheme"
   ]
  },
  {
   "cell_type": "markdown",
   "metadata": {
    "slideshow": {
     "slide_type": "slide"
    }
   },
   "source": [
    "## Next lecture\n",
    "- Tensors"
   ]
  },
  {
   "cell_type": "code",
   "execution_count": 40,
   "metadata": {
    "collapsed": false,
    "slideshow": {
     "slide_type": "skip"
    }
   },
   "outputs": [
    {
     "data": {
      "text/html": [
       "<link href='http://fonts.googleapis.com/css?family=Fenix' rel='stylesheet' type='text/css'>\n",
       "<link href='http://fonts.googleapis.com/css?family=Alegreya+Sans:100,300,400,500,700,800,900,100italic,300italic,400italic,500italic,700italic,800italic,900italic' rel='stylesheet' type='text/css'>\n",
       "<link href='http://fonts.googleapis.com/css?family=Source+Code+Pro:300,400' rel='stylesheet' type='text/css'>\n",
       "<style>\n",
       "    @font-face {\n",
       "        font-family: \"Computer Modern\";\n",
       "        src: url('http://mirrors.ctan.org/fonts/cm-unicode/fonts/otf/cmunss.otf');\n",
       "    }\n",
       "    div.cell{\n",
       "        /*width:80%;*/\n",
       "        /*margin-left:auto !important;\n",
       "        margin-right:auto;*/\n",
       "    }\n",
       "    h1 {\n",
       "        font-family: 'Alegreya Sans', sans-serif;\n",
       "    }\n",
       "    h2 {\n",
       "        font-family: 'Fenix', serif;\n",
       "    }\n",
       "    h3{\n",
       "\t\tfont-family: 'Fenix', serif;\n",
       "        margin-top:12px;\n",
       "        margin-bottom: 3px;\n",
       "       }\n",
       "\th4{\n",
       "\t\tfont-family: 'Fenix', serif;\n",
       "       }\n",
       "    h5 {\n",
       "        font-family: 'Alegreya Sans', sans-serif;\n",
       "    }\t   \n",
       "    div.text_cell_render{\n",
       "        font-family: 'Alegreya Sans',Computer Modern, \"Helvetica Neue\", Arial, Helvetica, Geneva, sans-serif;\n",
       "        line-height: 1.2;\n",
       "        font-size: 120%;\n",
       "        /*width:70%;*/\n",
       "        /*margin-left:auto;*/\n",
       "        margin-right:auto;\n",
       "    }\n",
       "    .CodeMirror{\n",
       "            font-family: \"Source Code Pro\";\n",
       "\t\t\tfont-size: 90%;\n",
       "    }\n",
       "/*    .prompt{\n",
       "        display: None;\n",
       "    }*/\n",
       "    .text_cell_render h1 {\n",
       "        font-weight: 200;\n",
       "        font-size: 50pt;\n",
       "\t\tline-height: 110%;\n",
       "        color:#CD2305;\n",
       "        margin-bottom: 0.5em;\n",
       "        margin-top: 0.5em;\n",
       "        display: block;\n",
       "    }\t\n",
       "    .text_cell_render h5 {\n",
       "        font-weight: 300;\n",
       "        font-size: 16pt;\n",
       "        color: #CD2305;\n",
       "        font-style: italic;\n",
       "        margin-bottom: .5em;\n",
       "        margin-top: 0.5em;\n",
       "        display: block;\n",
       "    }\n",
       "    \n",
       "    li {\n",
       "        line-height: 110%;\n",
       "    }\n",
       "    .warning{\n",
       "        color: rgb( 240, 20, 20 )\n",
       "        }  \n",
       "</style>\n",
       "<script>\n",
       "    MathJax.Hub.Config({\n",
       "                        TeX: {\n",
       "                           extensions: [\"AMSmath.js\"]\n",
       "                           },\n",
       "                tex2jax: {\n",
       "                    inlineMath: [ ['$','$'], [\"\\\\(\",\"\\\\)\"] ],\n",
       "                    displayMath: [ ['$$','$$'], [\"\\\\[\",\"\\\\]\"] ]\n",
       "                },\n",
       "                displayAlign: 'center', // Change this to 'center' to center equations.\n",
       "                \"HTML-CSS\": {\n",
       "                    styles: {'.MathJax_Display': {\"margin\": 4}}\n",
       "                }\n",
       "        });\n",
       "</script>\n"
      ],
      "text/plain": [
       "<IPython.core.display.HTML object>"
      ]
     },
     "execution_count": 40,
     "metadata": {},
     "output_type": "execute_result"
    }
   ],
   "source": [
    "from IPython.core.display import HTML\n",
    "def css_styling():\n",
    "    styles = open(\"./styles/custom.css\", \"r\").read()b\n",
    "    return HTML(styles)\n",
    "css_styling()"
   ]
  }
 ],
 "metadata": {
  "celltoolbar": "Slideshow",
  "kernelspec": {
   "display_name": "Python 2",
   "language": "python",
   "name": "python2"
  },
  "language_info": {
   "codemirror_mode": {
    "name": "ipython",
    "version": 2
   },
   "file_extension": ".py",
   "mimetype": "text/x-python",
   "name": "python",
   "nbconvert_exporter": "python",
   "pygments_lexer": "ipython2",
   "version": "2.7.11"
  }
 },
 "nbformat": 4,
 "nbformat_minor": 0
}
