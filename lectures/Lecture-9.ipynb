{
 "cells": [
  {
   "cell_type": "code",
   "execution_count": null,
   "metadata": {
    "collapsed": false,
    "slideshow": {
     "slide_type": "skip"
    }
   },
   "outputs": [],
   "source": [
    "from IPython.html.services.config import ConfigManager\n",
    "from IPython.utils.path import locate_profile\n",
    "cm = ConfigManager(profile_dir=locate_profile(get_ipython().profile))\n",
    "cm.update('livereveal', {\n",
    "              'theme': 'sky',\n",
    "              'transition': 'zoom',\n",
    "              'start_slideshow_at': 'selected',\n",
    "})"
   ]
  },
  {
   "cell_type": "markdown",
   "metadata": {
    "slideshow": {
     "slide_type": "slide"
    }
   },
   "source": [
    "# Lecture 9. Poisson and beyond."
   ]
  },
  {
   "cell_type": "markdown",
   "metadata": {
    "slideshow": {
     "slide_type": "slide"
    }
   },
   "source": [
    "## Previous lecture\n",
    "- Reminder about sparse matrices\n",
    "- About fast direct solvers for sparse solvers"
   ]
  },
  {
   "cell_type": "markdown",
   "metadata": {
    "slideshow": {
     "slide_type": "slide"
    }
   },
   "source": [
    "## Todays lecture\n",
    "- More on elimination and graphs\n",
    "- FFT method for a Poisson equation\n",
    "- Sylvester equation"
   ]
  },
  {
   "cell_type": "markdown",
   "metadata": {
    "slideshow": {
     "slide_type": "slide"
    }
   },
   "source": [
    "## Model problem\n",
    "\n",
    "Consider a uniform grid in $\\mathbb{R}^d$, \n",
    "\n",
    "and the equation \n",
    "\n",
    "$$\\nabla \\cdot k \\nabla u = f, \\quad u_{\\partial \\Omega} = 0,$$\n",
    "\n",
    "$$\\Omega = [0, 1]^ d.$$\n",
    "\n",
    "What is the simplest discretization scheme?"
   ]
  },
  {
   "cell_type": "markdown",
   "metadata": {
    "slideshow": {
     "slide_type": "slide"
    }
   },
   "source": [
    "## 1D case\n",
    "\n",
    "Consider 1D case.\n",
    "\n",
    "The simple finite-difference approximation is to define $u(x)$ in **integer grid points**, and coefficient $k$ in **half-points**.\n",
    "\n",
    "Then, \n",
    "\n",
    "$$\\frac{\\partial u}{\\partial x}_{i - \\frac{1}{2}} \\approx \\frac{u_{i} - u_{i-1}}{h} + \\mathcal{O}(h^2), \\quad i = 1, \\ldots, N-1,$$\n",
    "\n",
    "and\n",
    "\n",
    "$$\\left(\\frac{\\partial}{\\partial x} k \\frac{\\partial u} {\\partial x}\\right)_i \\approx \\frac{k_{i+\\frac{1}{2}}\\frac{\\partial u}{\\partial x}_{i + \\frac{1}{2}} - k_{i-\\frac{1}{2}}\\frac{\\partial u}{\\partial x}_{i - \\frac{1}{2}}}{h} + \\mathcal{O}(h^2)$$\n",
    "\n",
    "which leads to the final discretization\n",
    "\n",
    "$$\\left(\\frac{\\partial}{\\partial x} k \\frac{\\partial u} {\\partial x}\\right)_i \\\n",
    "\\approx \\frac{k_{i+\\frac{1}{2}}\\left(u_{i+1} - u_{i}\\right) - k_{i-\\frac{1}{2}}\\left(u_{i} - u_{i-1}\\right)}{h^2} + \\mathcal{O}(h^2), \\quad i = 1, \\ldots, n-1, \\quad u_0 = u_n = 0.$$"
   ]
  },
  {
   "cell_type": "markdown",
   "metadata": {
    "slideshow": {
     "slide_type": "slide"
    }
   },
   "source": [
    "## Matrix form\n",
    "\n",
    "In the matrix form we get a symmetric, positive-definite tridiagonal matrix $T$ \n",
    "\n",
    "with $-k_{i-\\frac{1}{2}}$ on subdiagonals, and $\\left(k_{i-\\frac{1}{2}} + k_{i + \\frac{1}{2}}\\right)$ on the diagonal."
   ]
  },
  {
   "cell_type": "markdown",
   "metadata": {
    "slideshow": {
     "slide_type": "slide"
    }
   },
   "source": [
    "## Two-dimensional case\n",
    "In two dimensions,\n",
    "\n",
    "$$\\nabla \\cdot k \\nabla u = f,$$\n",
    "\n",
    "for a **diagonal diffusion tensor $k$** \n",
    "\n",
    "we have\n",
    "\n",
    "$$\\nabla \\cdot k \\nabla u = \\frac{\\partial}{\\partial x} K_x \\frac{\\partial u}{\\partial x} + \\frac{\\partial}{\\partial y} K_y \\frac{\\partial u}{\\partial y}, $$\n",
    "\n",
    "and we discretize each term and get **block tridiagonal matrix with tridiagonal blocks.**\n",
    "\n",
    "For the simplest $K_x = K_y = I$ we get **2D Poisson problem**,\n",
    "\n",
    "and the matrix can be written \n",
    "\n",
    "$$\\Delta_2 = \\Delta_1 \\otimes I + I \\otimes \\Delta_1,$$\n",
    "\n",
    "where $\\Delta_1$ is a **one-dimensional** Laplace operator.\n"
   ]
  },
  {
   "cell_type": "markdown",
   "metadata": {
    "slideshow": {
     "slide_type": "slide"
    }
   },
   "source": [
    "## Kronecker product\n",
    "\n",
    "If $K_x(x, y) = K_x(x)$, and $K_y(x, y) = K_y(y)$, then the div-k-grad operator can be also written in a Kronecker product form\n",
    "\n",
    "$$A = \\Delta_1 \\otimes D_1 + D_2 \\otimes \\Delta_1, $$\n",
    "\n",
    "where $D_1$ and $D_2$ are diagonal matrices. This happens, for example, in **stratified media**.\n",
    "\n",
    "In the case when $K_x = K_y = K_1(x) K_2(y)$ the matrix also has the form\n",
    "\n",
    "$$A = C_1 \\otimes D_1 + C_2 \\otimes D_2,$$\n",
    "\n",
    "but now $C_1$ and $C_2$ are (some) tridiagonal matrices."
   ]
  },
  {
   "cell_type": "markdown",
   "metadata": {
    "slideshow": {
     "slide_type": "slide"
    }
   },
   "source": [
    "## Kronecker product\n",
    "\n",
    "Forgot to give the definition of the Kronecker product, which is an important matrix operation!\n",
    "\n",
    "Given two matrices $A$ and $B$ of sizes $n_a \\times m_a$ and $n_b \\times m_n$ their Kronecker product\n",
    "\n",
    "$$C = A \\otimes B$$ is defined as  a matrix of size $(n_a m_a) \\times (n_b m_b),$\n",
    "\n",
    "with a block structure\n",
    "\n",
    "$$C = [a_{ij} B].$$"
   ]
  },
  {
   "cell_type": "markdown",
   "metadata": {
    "slideshow": {
     "slide_type": "slide"
    }
   },
   "source": [
    "## Some properties of the Kronecker product\n",
    "\n",
    "Kronecker product has many nice properties:\n",
    "\n",
    "1. $(A \\otimes B) (C \\otimes D)  = (A C) \\otimes (B D)$\n",
    "2. $(A \\otimes B) v = A V B^{\\top}$,\n",
    "if $v = \\mathrm{vec}(V)$ (column-by-column vectorization of a matrix)."
   ]
  },
  {
   "cell_type": "markdown",
   "metadata": {
    "slideshow": {
     "slide_type": "slide"
    }
   },
   "source": [
    "## Sparse matrices elimination and graphs\n",
    "\n",
    "In the previous lectures we discussed the connection between graphs and sparse matrices.\n",
    "\n",
    "Did you get it?\n",
    "\n"
   ]
  },
  {
   "cell_type": "code",
   "execution_count": 9,
   "metadata": {
    "collapsed": false
   },
   "outputs": [
    {
     "data": {
      "text/plain": [
       "<module 'scipy.sparse' from '/home/ivan/miniconda2/lib/python2.7/site-packages/scipy/sparse/__init__.pyc'>"
      ]
     },
     "execution_count": 9,
     "metadata": {},
     "output_type": "execute_result"
    }
   ],
   "source": [
    "scipy.sparse"
   ]
  },
  {
   "cell_type": "code",
   "execution_count": 75,
   "metadata": {
    "collapsed": true
   },
   "outputs": [],
   "source": [
    "import numpy as np\n",
    "import scipy\n",
    "import scipy.sparse\n",
    "import matplotlib.pyplot as plt\n",
    "import seaborn as sns\n",
    "import time\n",
    "%matplotlib inline\n",
    "def get_system(n):\n",
    "    ex = np.ones(n);\n",
    "    a = scipy.sparse.spdiags(np.vstack((ex,  -2*ex, ex)), [-1, 0, 1], n, n, 'csr'); \n",
    "    e1 = scipy.sparse.eye(n)\n",
    "    lp2 = scipy.sparse.kron(e1, a) + scipy.sparse.kron(a, e1)\n",
    "    lp2 = lp2 * (n + 1) ** 2 #Do not forget.\n",
    "    return lp2, np.ones(n*n)\n",
    "\n",
    "n = 6\n",
    "\n",
    "mat, rhs = get_system(n)\n",
    "\n",
    "gr = nx.Graph(mat)\n",
    "mat1 = mat.copy()"
   ]
  },
  {
   "cell_type": "code",
   "execution_count": 88,
   "metadata": {
    "collapsed": false,
    "slideshow": {
     "slide_type": "fragment"
    }
   },
   "outputs": [
    {
     "data": {
      "image/png": "[encoded data removed]",
      "text/plain": [
       "<matplotlib.figure.Figure at 0x7f8472d82c10>"
      ]
     },
     "metadata": {},
     "output_type": "display_data"
    }
   ],
   "source": [
    "#nx.draw(gr)\n",
    "\n",
    "mat1 = mat1 - mat1[:, 0:1].dot(mat1[0:1, :])/mat1[0, 0]\n",
    "mat1 = mat1[1:, :][:, 1:]\n",
    "nx.draw(nx.Graph(mat1))"
   ]
  },
  {
   "cell_type": "markdown",
   "metadata": {
    "slideshow": {
     "slide_type": "slide"
    }
   },
   "source": [
    "## Another permutation\n",
    "\n",
    "As you see, you get a fully-connected layer during the elimination in the natural order.\n",
    "\n",
    "Let us take a random permutation.."
   ]
  },
  {
   "cell_type": "code",
   "execution_count": 89,
   "metadata": {
    "collapsed": true,
    "slideshow": {
     "slide_type": "slide"
    }
   },
   "outputs": [],
   "source": [
    "import numpy as np\n",
    "import scipy\n",
    "import scipy.sparse\n",
    "import matplotlib.pyplot as plt\n",
    "import seaborn as sns\n",
    "import time\n",
    "%matplotlib inline\n",
    "def get_system(n):\n",
    "    ex = np.ones(n);\n",
    "    a = scipy.sparse.spdiags(np.vstack((ex,  -2*ex, ex)), [-1, 0, 1], n, n, 'csr'); \n",
    "    e1 = scipy.sparse.eye(n)\n",
    "    lp2 = scipy.sparse.kron(e1, a) + scipy.sparse.kron(a, e1)\n",
    "    lp2 = lp2 * (n + 1) ** 2 #Do not forget.\n",
    "    return lp2, np.ones(n*n)\n",
    "\n",
    "n = 6\n",
    "\n",
    "mat, rhs = get_system(n)\n",
    "\n",
    "gr = nx.Graph(mat)\n",
    "prm = np.arange(n*n, dtype=np.int)\n",
    "np.random.shuffle(prm)\n",
    "mat1 = mat.copy()\n",
    "mat1 = mat1[:, prm][prm, :]"
   ]
  },
  {
   "cell_type": "code",
   "execution_count": 107,
   "metadata": {
    "collapsed": false,
    "slideshow": {
     "slide_type": "fragment"
    }
   },
   "outputs": [
    {
     "data": {
      "image/png": "[encoded data removed]",
      "text/plain": [
       "<matplotlib.figure.Figure at 0x7f8472bf5510>"
      ]
     },
     "metadata": {},
     "output_type": "display_data"
    }
   ],
   "source": [
    "#nx.draw(gr)\n",
    "\n",
    "mat1 = mat1 - mat1[:, 0:1].dot(mat1[0:1, :])/mat1[0, 0]\n",
    "mat1 = mat1[1:, :][:, 1:]\n",
    "mat1[np.abs(mat1) <= 1e-12] = 0.0\n",
    "mat1.eliminate_zeros()\n",
    "nx.draw(nx.Graph(mat1))"
   ]
  },
  {
   "cell_type": "markdown",
   "metadata": {
    "slideshow": {
     "slide_type": "slide"
    }
   },
   "source": [
    "## Kronecker-based solver\n",
    "\n",
    "Now let us get back to the Poisson solver.\n",
    "\n",
    "$$ \\Delta_2 = \\Delta_1 \\otimes I + I \\otimes \\Delta_1,$$\n",
    "\n",
    "and we need to solve\n",
    "\n",
    "$$\\Delta_2 u = f.$$\n",
    "\n",
    "How we can do that? One of the most efficient solvers is the **diagonalization method**."
   ]
  },
  {
   "cell_type": "markdown",
   "metadata": {},
   "source": [
    "## Diagonalization method\n",
    "\n",
    "We have\n",
    "\n",
    "$$\\Delta_2 = \\Delta_1 \\otimes I + I \\otimes \\Delta_1.$$\n",
    "\n",
    "Then, if we decompose\n",
    "\n",
    "$$\\Delta_1 = S \\Lambda S^*,$$\n",
    "\n",
    "where $\\Lambda$ is the diagonal matrix, and $SS^* = I$, we have\n",
    "\n",
    "$$\\Delta_2 = S \\Lambda S^* \\otimes I + I \\otimes S \\Lambda S^* = \\left(S \\otimes S\\right)\\left(\\Lambda \\otimes I + I \\otimes \\Lambda\\right)\\left(S^* \\otimes S^*\\right).$$\n",
    "\n",
    "Moreover, since\n",
    "\n",
    "$$(A \\otimes B)^{-1} = A^{-1} \\otimes B^{-1},$$\n",
    "\n",
    "and $$(S \\otimes S)^{-1} = S^{-1} \\otimes S^{-1} = S^* \\otimes S^* $$\n",
    "\n",
    "we have\n",
    "\n",
    "\n",
    "$$\\Delta^{-1}_2 = (S \\otimes S)(\\Lambda \\otimes I + I \\otimes \\Lambda)^{-1} (S^* \\otimes S^*).$$"
   ]
  },
  {
   "cell_type": "markdown",
   "metadata": {
    "slideshow": {
     "slide_type": "slide"
    }
   },
   "source": [
    "## Final formula\n",
    "\n",
    "$$\\Delta^{-1}_2 = (S \\otimes S)(\\Lambda \\otimes I + I \\otimes \\Lambda)^{-1} (S^* \\otimes S^*).$$\n",
    "The matrix\n",
    "\n",
    "$$\\Lambda_2 = \\Lambda \\otimes I + I \\otimes \\Lambda$$ is a **diagonal matrix**, thus its inversion costs $\\mathcal{O}(N)$.\n",
    "\n",
    "The multiplication by $S \\otimes S$ and by $S^* \\otimes S^*$ is more interesting.\n",
    "\n",
    "If we reshape the unknown vector into a $n \\times n$ matrix, we will have\n",
    "\n",
    "$$(S \\otimes S) \\mathrm{vec}(X) = S X S^{\\top},$$\n",
    "\n",
    "which amounts to the application of $S$ to the columns of $X$ and then $S$ to the rows of $X$.\n",
    "\n",
    "If $S$ does not have any structure, we have $\\mathcal{O}(n^3)$ complexity.\n",
    "\n",
    "For the Laplace equation, we all know the eigenvalues/eigenvectors of 1D Laplacian matrix, \n",
    "\n",
    "and $S$ is the **sine Fourier transform.** which takes $\\mathcal{O}(n)$ for each column,, \n",
    "\n",
    "thus the total complexity is $\\mathcal{O}(n^2) = \\mathcal{O}(N)$."
   ]
  },
  {
   "cell_type": "markdown",
   "metadata": {
    "slideshow": {
     "slide_type": "slide"
    }
   },
   "source": [
    "## Summary on diagonalization\n",
    "\n",
    "To summarize, the final complexity is:\n",
    "\n",
    "1. Apply 2D sine FFT\n",
    "2. Multiply element-wise\n",
    "3. Apply inverse 2D FFT.\n",
    "\n",
    "The final cost is $\\mathcal{O}(N \\log N)$ with a small constant\n",
    "\n",
    "In 3D it is absolutely the same."
   ]
  },
  {
   "cell_type": "markdown",
   "metadata": {
    "slideshow": {
     "slide_type": "slide"
    }
   },
   "source": [
    "## Note on a more general case\n",
    "\n",
    "If the matrix $C = A \\otimes B$,\n",
    "\n",
    "then\n",
    "\n",
    "$$C^{-1} = A^{-1} \\otimes B^{-1}$$ \n",
    "\n",
    "and the problem is reduced to $2n$ one-dimensional problems.\n",
    "\n",
    "For a more general **Kronecker-rank 2** case\n",
    "\n",
    "$$C = A_1 \\otimes B_1 + A_2 \\otimes B_2,$$\n",
    "\n",
    "the linear system\n",
    "\n",
    "$$C x = f$$ is equivalent to the so-called **Sylvester equation**\n",
    "\n",
    "$$A_1 X B^{\\top}_1 + A_2 X B^{\\top}_2 = F.$$"
   ]
  },
  {
   "cell_type": "markdown",
   "metadata": {
    "slideshow": {
     "slide_type": "slide"
    }
   },
   "source": [
    "## Sylvester equation\n",
    "$$A_1 X B^{\\top}_1 + A_2 X B^{\\top}_2 = F.$$\n",
    "\n",
    "The number of unknowns is $n^2$, thus using LU-decomposition will give you $\\mathcal{O}(n^6)$ complexity. However, we can do $\\mathcal{O}(n^3)$.\n",
    "\n",
    "Every pair of matrices can be brought to the triangular form by **generalized Schur decomposition:**\n",
    "\n",
    "$$A_1 = Q_1 T_1 Z^{\\top}_1, \\quad A_2 = Q_2 T_2 Z^{\\top}_2, $$\n",
    "\n",
    "And the matrices $A_1$, $A_2$, $B_1$, $B_2$ can be considered **triangular**.\n",
    "\n",
    "This costs $\\mathcal{O}(n^3)$ "
   ]
  },
  {
   "cell_type": "markdown",
   "metadata": {
    "slideshow": {
     "slide_type": "slide"
    }
   },
   "source": [
    "## Solving triangular Sylvester equation\n",
    "\n",
    "The triangular Sylvester equation has the form\n",
    "\n",
    "$$T_1 Y T^{\\top}_2 + T_3 Y \\otimes T^{\\top}_4 = G, $$\n",
    "\n",
    "or \n",
    "\n",
    "$$(T_1 \\otimes T_2 + T_3 \\otimes T_4) y = g.$$\n",
    "\n",
    "This is a block-triangular linear system that can be solved in $\\mathcal{O}(n^3)$ operations!"
   ]
  },
  {
   "cell_type": "markdown",
   "metadata": {
    "slideshow": {
     "slide_type": "slide"
    }
   },
   "source": [
    "\n",
    "## Summary\n",
    "- Demo on elimination\n",
    "- 1D Poisson solver\n",
    "- Sylvester equation"
   ]
  },
  {
   "cell_type": "markdown",
   "metadata": {
    "slideshow": {
     "slide_type": "slide"
    }
   },
   "source": [
    "## Next lecture\n",
    "- Multigrid"
   ]
  },
  {
   "cell_type": "code",
   "execution_count": 40,
   "metadata": {
    "collapsed": false,
    "slideshow": {
     "slide_type": "skip"
    }
   },
   "outputs": [
    {
     "data": {
      "text/html": [
       "<link href='http://fonts.googleapis.com/css?family=Fenix' rel='stylesheet' type='text/css'>\n",
       "<link href='http://fonts.googleapis.com/css?family=Alegreya+Sans:100,300,400,500,700,800,900,100italic,300italic,400italic,500italic,700italic,800italic,900italic' rel='stylesheet' type='text/css'>\n",
       "<link href='http://fonts.googleapis.com/css?family=Source+Code+Pro:300,400' rel='stylesheet' type='text/css'>\n",
       "<style>\n",
       "    @font-face {\n",
       "        font-family: \"Computer Modern\";\n",
       "        src: url('http://mirrors.ctan.org/fonts/cm-unicode/fonts/otf/cmunss.otf');\n",
       "    }\n",
       "    div.cell{\n",
       "        /*width:80%;*/\n",
       "        /*margin-left:auto !important;\n",
       "        margin-right:auto;*/\n",
       "    }\n",
       "    h1 {\n",
       "        font-family: 'Alegreya Sans', sans-serif;\n",
       "    }\n",
       "    h2 {\n",
       "        font-family: 'Fenix', serif;\n",
       "    }\n",
       "    h3{\n",
       "\t\tfont-family: 'Fenix', serif;\n",
       "        margin-top:12px;\n",
       "        margin-bottom: 3px;\n",
       "       }\n",
       "\th4{\n",
       "\t\tfont-family: 'Fenix', serif;\n",
       "       }\n",
       "    h5 {\n",
       "        font-family: 'Alegreya Sans', sans-serif;\n",
       "    }\t   \n",
       "    div.text_cell_render{\n",
       "        font-family: 'Alegreya Sans',Computer Modern, \"Helvetica Neue\", Arial, Helvetica, Geneva, sans-serif;\n",
       "        line-height: 1.2;\n",
       "        font-size: 120%;\n",
       "        /*width:70%;*/\n",
       "        /*margin-left:auto;*/\n",
       "        margin-right:auto;\n",
       "    }\n",
       "    .CodeMirror{\n",
       "            font-family: \"Source Code Pro\";\n",
       "\t\t\tfont-size: 90%;\n",
       "    }\n",
       "/*    .prompt{\n",
       "        display: None;\n",
       "    }*/\n",
       "    .text_cell_render h1 {\n",
       "        font-weight: 200;\n",
       "        font-size: 50pt;\n",
       "\t\tline-height: 110%;\n",
       "        color:#CD2305;\n",
       "        margin-bottom: 0.5em;\n",
       "        margin-top: 0.5em;\n",
       "        display: block;\n",
       "    }\t\n",
       "    .text_cell_render h5 {\n",
       "        font-weight: 300;\n",
       "        font-size: 16pt;\n",
       "        color: #CD2305;\n",
       "        font-style: italic;\n",
       "        margin-bottom: .5em;\n",
       "        margin-top: 0.5em;\n",
       "        display: block;\n",
       "    }\n",
       "    \n",
       "    li {\n",
       "        line-height: 110%;\n",
       "    }\n",
       "    .warning{\n",
       "        color: rgb( 240, 20, 20 )\n",
       "        }  \n",
       "</style>\n",
       "<script>\n",
       "    MathJax.Hub.Config({\n",
       "                        TeX: {\n",
       "                           extensions: [\"AMSmath.js\"]\n",
       "                           },\n",
       "                tex2jax: {\n",
       "                    inlineMath: [ ['$','$'], [\"\\\\(\",\"\\\\)\"] ],\n",
       "                    displayMath: [ ['$$','$$'], [\"\\\\[\",\"\\\\]\"] ]\n",
       "                },\n",
       "                displayAlign: 'center', // Change this to 'center' to center equations.\n",
       "                \"HTML-CSS\": {\n",
       "                    styles: {'.MathJax_Display': {\"margin\": 4}}\n",
       "                }\n",
       "        });\n",
       "</script>\n"
      ],
      "text/plain": [
       "<IPython.core.display.HTML object>"
      ]
     },
     "execution_count": 40,
     "metadata": {},
     "output_type": "execute_result"
    }
   ],
   "source": [
    "from IPython.core.display import HTML\n",
    "def css_styling():\n",
    "    styles = open(\"./styles/custom.css\", \"r\").read()\n",
    "    return HTML(styles)\n",
    "css_styling()"
   ]
  },
  {
   "cell_type": "code",
   "execution_count": null,
   "metadata": {
    "collapsed": true
   },
   "outputs": [],
   "source": []
  }
 ],
 "metadata": {
  "celltoolbar": "Slideshow",
  "kernelspec": {
   "display_name": "Python 2",
   "language": "python",
   "name": "python2"
  },
  "language_info": {
   "codemirror_mode": {
    "name": "ipython",
    "version": 2
   },
   "file_extension": ".py",
   "mimetype": "text/x-python",
   "name": "python",
   "nbconvert_exporter": "python",
   "pygments_lexer": "ipython2",
   "version": "2.7.11"
  }
 },
 "nbformat": 4,
 "nbformat_minor": 0
}
