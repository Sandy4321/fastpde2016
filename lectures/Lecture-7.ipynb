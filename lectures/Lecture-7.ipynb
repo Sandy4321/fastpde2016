{
 "cells": [
  {
   "cell_type": "code",
   "execution_count": null,
   "metadata": {
    "collapsed": false,
    "slideshow": {
     "slide_type": "skip"
    }
   },
   "outputs": [],
   "source": [
    "from IPython.html.services.config import ConfigManager\n",
    "from IPython.utils.path import locate_profile\n",
    "cm = ConfigManager(profile_dir=locate_profile(get_ipython().profile))\n",
    "cm.update('livereveal', {\n",
    "              'theme': 'sky',\n",
    "              'transition': 'zoom',\n",
    "              'start_slideshow_at': 'selected',\n",
    "})"
   ]
  },
  {
   "cell_type": "markdown",
   "metadata": {
    "slideshow": {
     "slide_type": "slide"
    }
   },
   "source": [
    "# Lecture 7. Properties of hierarchical matrices"
   ]
  },
  {
   "cell_type": "markdown",
   "metadata": {
    "slideshow": {
     "slide_type": "slide"
    }
   },
   "source": [
    "## Previous lecture\n",
    "We talked about:\n",
    "\n",
    "- A little bit on FMM from algebra part & estimates\n",
    "- Adaptive cross approximation & maxvol algorithm"
   ]
  },
  {
   "cell_type": "markdown",
   "metadata": {
    "slideshow": {
     "slide_type": "slide"
    }
   },
   "source": [
    "## Todays lecture\n",
    "- Working with H- and H-2 matrices: addition, multiplication, inversion\n",
    "- Connection to sparse matrices"
   ]
  },
  {
   "cell_type": "markdown",
   "metadata": {
    "slideshow": {
     "slide_type": "slide"
    }
   },
   "source": [
    "## H-matrix: definition\n",
    "\n",
    "A dense matrix $A$ is called **hierarhical matrix** with respect to the cluster trees $T$ and $S$ for rows/columns, \n",
    "\n",
    "if \n",
    "\n",
    "$$A(t, s) = U(t, s) V(t, s), \\quad t \\in T, \\quad s \\in S.$$"
   ]
  },
  {
   "cell_type": "markdown",
   "metadata": {
    "slideshow": {
     "slide_type": "slide"
    }
   },
   "source": [
    "## Properties of the H-matrix\n",
    "\n",
    "- Storage is $\\mathcal{O}(N \\log N)$ \n",
    "- Complexity of matrix-by-vector product is $\\mathcal{O}(N \\log N)$ \n",
    "- Computation of the representation is reduced to the blockwise approximation (approximate many blocks independently via cross approximation algorithms)."
   ]
  },
  {
   "cell_type": "markdown",
   "metadata": {
    "slideshow": {
     "slide_type": "slide"
    }
   },
   "source": [
    "## Where H-matrices come from\n",
    "- Approximation of integral operators\n",
    "- As inverses of sparse matrices (?)"
   ]
  },
  {
   "cell_type": "markdown",
   "metadata": {
    "slideshow": {
     "slide_type": "slide"
    }
   },
   "source": [
    "## Model example: inverse of the tridiagonal matrix\n",
    "\n",
    "H-matrices are connected with sparse matrices.\n",
    "\n",
    "Sparse matrices come from the solution of PDEs.\n",
    "\n",
    "Consider a tridiagonal matrix.\n",
    "\n",
    "$$A = D + D_1 Z + D_2 Z^{\\top},$$\n",
    "\n",
    "where $Z$ is a **lower-shift matrix**.\n",
    "\n",
    "Tridiagonal matrix is an H-matrix with H-ranks equal to $1$."
   ]
  },
  {
   "cell_type": "markdown",
   "metadata": {
    "slideshow": {
     "slide_type": "slide"
    }
   },
   "source": [
    "## Tridiagonal matrix and it LU\n",
    "\n",
    "Tridiagonal matrix and LU.\n",
    "\n",
    "It is well-known, that tridiagonal matrix can be factorized into a product of **lower triangular** bidiagonal matrix, and **upper triangular** bidiagonal matrix.\n",
    "\n",
    "$$A = LU.$$"
   ]
  },
  {
   "cell_type": "markdown",
   "metadata": {
    "slideshow": {
     "slide_type": "slide"
    }
   },
   "source": [
    "## Numerical experiment"
   ]
  },
  {
   "cell_type": "code",
   "execution_count": 36,
   "metadata": {
    "collapsed": false,
    "slideshow": {
     "slide_type": "slide"
    }
   },
   "outputs": [
    {
     "name": "stdout",
     "output_type": "stream",
     "text": [
      "(array([[ 1.,  0.,  0.,  0.,  0.,  0.,  0.,  0.],\n",
      "       [ 0.,  0.,  0.,  0.,  1.,  0.,  0.,  0.],\n",
      "       [ 0.,  1.,  0.,  0.,  0.,  0.,  0.,  0.],\n",
      "       [ 0.,  0.,  1.,  0.,  0.,  0.,  0.,  0.],\n",
      "       [ 0.,  0.,  0.,  1.,  0.,  0.,  0.,  0.],\n",
      "       [ 0.,  0.,  0.,  0.,  0.,  1.,  0.,  0.],\n",
      "       [ 0.,  0.,  0.,  0.,  0.,  0.,  0.,  1.],\n",
      "       [ 0.,  0.,  0.,  0.,  0.,  0.,  1.,  0.]]), array([[ 1.        ,  0.        ,  0.        ,  0.        ,  0.        ,\n",
      "         0.        ,  0.        ,  0.        ],\n",
      "       [ 0.        ,  1.        ,  0.        ,  0.        ,  0.        ,\n",
      "         0.        ,  0.        ,  0.        ],\n",
      "       [ 0.        , -0.        ,  1.        ,  0.        ,  0.        ,\n",
      "         0.        ,  0.        ,  0.        ],\n",
      "       [ 0.        , -0.        , -0.        ,  1.        ,  0.        ,\n",
      "         0.        ,  0.        ,  0.        ],\n",
      "       [-0.5845496 ,  0.92604184,  0.7268841 , -0.83250839,  1.        ,\n",
      "         0.        ,  0.        ,  0.        ],\n",
      "       [ 0.        , -0.        , -0.        , -0.        , -0.80101242,\n",
      "         1.        ,  0.        ,  0.        ],\n",
      "       [ 0.        , -0.        , -0.        , -0.        ,  0.        ,\n",
      "        -0.        ,  1.        ,  0.        ],\n",
      "       [ 0.        , -0.        , -0.        , -0.        ,  0.        ,\n",
      "         0.57308576, -0.85801184,  1.        ]]), array([[ 1.71071881, -1.        ,  0.        ,  0.        ,  0.        ,\n",
      "         0.        ,  0.        ,  0.        ],\n",
      "       [ 0.        , -1.        , -0.29492826, -1.        ,  0.        ,\n",
      "         0.        ,  0.        ,  0.        ],\n",
      "       [ 0.        ,  0.        , -1.        ,  0.12867725, -1.        ,\n",
      "         0.        ,  0.        ,  0.        ],\n",
      "       [ 0.        ,  0.        ,  0.        , -1.        ,  0.62646335,\n",
      "        -1.        ,  0.        ,  0.        ],\n",
      "       [ 0.        ,  0.        ,  0.        ,  0.        ,  1.24842009,\n",
      "        -0.83250839,  0.        ,  0.        ],\n",
      "       [ 0.        ,  0.        ,  0.        ,  0.        ,  0.        ,\n",
      "        -1.74493954, -1.        ,  0.        ],\n",
      "       [ 0.        ,  0.        ,  0.        ,  0.        ,  0.        ,\n",
      "         0.        , -1.        , -1.09973463],\n",
      "       [ 0.        ,  0.        ,  0.        ,  0.        ,  0.        ,\n",
      "         0.        ,  0.        , -1.94358534]]))\n"
     ]
    },
    {
     "data": {
      "text/plain": [
       "<matplotlib.image.AxesImage at 0x7f8bbd15f190>"
      ]
     },
     "execution_count": 36,
     "metadata": {},
     "output_type": "execute_result"
    },
    {
     "data": {
      "image/png": "[encoded data removed]",
      "text/plain": [
       "<matplotlib.figure.Figure at 0x7f8bbd1d8150>"
      ]
     },
     "metadata": {},
     "output_type": "display_data"
    }
   ],
   "source": [
    "import numpy as np\n",
    "import scipy.linalg as spla\n",
    "import matplotlib.pyplot as plt\n",
    "%matplotlib inline\n",
    "\n",
    "n = 8\n",
    "\n",
    "#d1 = np.random.randn(n)\n",
    "#d2 = np.random.randn(n-1)\n",
    "#d3 = np.random.randn(n-1)\n",
    "#d1 = 2*np.ones(n)\n",
    "d1 = np.random.randn(n)\n",
    "d2 = -np.ones(n-1)\n",
    "d3 = -np.ones(n-1)\n",
    "\n",
    "A = np.diag(d1) + np.diag(d2, 1) + np.diag(d3, -1)\n",
    "\n",
    "Q = spla.lu(A)\n",
    "print Q\n",
    "Q1 = Q[1]\n",
    "Q1[np.abs(Q1 < 1e-15)] = 0\n",
    "plt.spy(Q1)"
   ]
  },
  {
   "cell_type": "markdown",
   "metadata": {
    "slideshow": {
     "slide_type": "slide"
    }
   },
   "source": [
    "## LU-factorization\n",
    "\n",
    "The LU factorization has structure, what can we say about the inverse of the matrix?\n",
    "\n",
    "We have $$ A = LU, $$\n",
    "\n",
    "thus\n",
    "\n",
    "$$A^{-1} = U^{-1} L^{-1}.$$\n",
    "\n",
    "thus solving a linear system is reduced to the solution of two linear systems, one with the matrix $L$ another with the matrix $U$,\n",
    "\n",
    "each one can be done in $\\mathcal{O}(N)$ operations."
   ]
  },
  {
   "cell_type": "markdown",
   "metadata": {
    "slideshow": {
     "slide_type": "slide"
    }
   },
   "source": [
    "## Exact inverse for the tridiagonal matrix\n",
    "\n",
    "The inverses $U^{-1}$ and $L^{-1}$ are (typically) dense:"
   ]
  },
  {
   "cell_type": "markdown",
   "metadata": {
    "slideshow": {
     "slide_type": "slide"
    }
   },
   "source": [
    "## Numerical experiment\n",
    "\n",
    "Let us do a short numerical experiment"
   ]
  },
  {
   "cell_type": "code",
   "execution_count": 37,
   "metadata": {
    "collapsed": false,
    "slideshow": {
     "slide_type": "fragment"
    }
   },
   "outputs": [
    {
     "data": {
      "text/plain": [
       "<matplotlib.colorbar.Colorbar at 0x7f8bbcfe0dd0>"
      ]
     },
     "execution_count": 37,
     "metadata": {},
     "output_type": "execute_result"
    },
    {
     "data": {
      "image/png": "[encoded data removed]",
      "text/plain": [
       "<matplotlib.figure.Figure at 0x7f8bbd0b2150>"
      ]
     },
     "metadata": {},
     "output_type": "display_data"
    }
   ],
   "source": [
    "import numpy as np\n",
    "\n",
    "n = 100\n",
    "\n",
    "d1 = np.random.randn(n)\n",
    "d2 = np.random.randn(n-1)\n",
    "d3 = np.random.randn(n-1)\n",
    "\n",
    "A = np.diag(d1) + np.diag(d2, 1) + np.diag(d3, -1)\n",
    "iA = np.linalg.inv(A)\n",
    "plt.contourf(iA)\n",
    "plt.colorbar()"
   ]
  },
  {
   "cell_type": "markdown",
   "metadata": {
    "slideshow": {
     "slide_type": "slide"
    }
   },
   "source": [
    "## The inverse is H-matrix\n",
    "\n",
    "But the inverse of a tridiagonal matrix is an H-matrix!"
   ]
  },
  {
   "cell_type": "code",
   "execution_count": 39,
   "metadata": {
    "collapsed": false,
    "slideshow": {
     "slide_type": "fragment"
    }
   },
   "outputs": [
    {
     "data": {
      "text/plain": [
       "array([  1.40047671e+02,   2.26154569e-14,   1.39935734e-14,\n",
       "         1.39935734e-14,   1.39935734e-14,   1.39935734e-14,\n",
       "         1.39935734e-14,   1.39935734e-14,   1.39935734e-14,\n",
       "         1.39935734e-14,   1.39935734e-14,   1.39935734e-14,\n",
       "         1.39935734e-14,   1.39935734e-14,   1.39935734e-14,\n",
       "         1.39935734e-14,   1.39935734e-14,   1.39935734e-14,\n",
       "         1.39935734e-14,   1.39935734e-14,   1.39935734e-14,\n",
       "         1.39935734e-14,   1.39935734e-14,   1.39935734e-14,\n",
       "         1.39935734e-14,   1.39935734e-14,   1.39935734e-14,\n",
       "         1.39935734e-14,   1.39935734e-14,   1.39935734e-14,\n",
       "         1.39935734e-14,   1.39935734e-14,   1.39935734e-14,\n",
       "         1.39935734e-14,   1.39935734e-14,   1.39935734e-14,\n",
       "         1.39935734e-14,   1.39935734e-14,   1.39935734e-14,\n",
       "         1.39935734e-14,   1.39935734e-14,   1.39935734e-14,\n",
       "         1.39935734e-14,   1.39935734e-14,   1.39935734e-14,\n",
       "         1.39935734e-14,   1.39935734e-14,   1.39935734e-14,\n",
       "         1.39935734e-14,   5.36868842e-25])"
      ]
     },
     "execution_count": 39,
     "metadata": {},
     "output_type": "execute_result"
    }
   ],
   "source": [
    "import numpy as np\n",
    "\n",
    "n = 100\n",
    "\n",
    "d1 = np.random.randn(n)\n",
    "d2 = np.random.randn(n-1)\n",
    "d3 = np.random.randn(n-1)\n",
    "\n",
    "A = np.diag(d1) + np.diag(d2, 1) + np.diag(d3, -1)\n",
    "iA = np.linalg.inv(A)\n",
    "\n",
    "iA01 = iA[:n/2, n/2:]\n",
    "iA10 = iA[n/2:, :n/2]\n",
    "\n",
    "np.linalg.svd(iA10)[1]"
   ]
  },
  {
   "cell_type": "markdown",
   "metadata": {
    "slideshow": {
     "slide_type": "subslide"
    }
   },
   "source": [
    "## Tridiagonal matrix and its inverse\n",
    "\n",
    "Let $A$ be a tridiagonal matrix of size $2n \\times 2n$. Then,\n",
    "\n",
    "$$A^{-1} = \\begin{bmatrix} A_{00} & A_{01} \\\\\n",
    "A_{10} & A_{11}  \n",
    "\\end{bmatrix},\n",
    "$$\n",
    "\n",
    "where $A_{ij}$ has size $n \\times n$\n",
    "\n",
    "and \n",
    "\n",
    "$$\\mathrm{rank}~A_{01} \\leq 1, \\quad \\mathrm{rank}~A_{10} \\leq 1.$$"
   ]
  },
  {
   "cell_type": "markdown",
   "metadata": {
    "slideshow": {
     "slide_type": "slide"
    }
   },
   "source": [
    "## How to prove it: Nullity theorem\n",
    "\n",
    "The very nice proof can be based on so-called **nullity theorem** (for details, see [The Interplay of the ranks of the submatrices](http://www-math.mit.edu/~gs/papers/IRS.pdf) by G. Strang, T. Nguen)\n",
    "\n",
    "**Nulllity theorem:**\n",
    "\n",
    "Complementary submatrices of $A$ and $A^{-1}$ have the same **nullity**\n",
    "\n",
    "Nullity is the dimension of the kernel of the matrix.\n",
    "\n",
    "Complementary submatrix is the one that have rows not contained in the original one, and columns not contained in the original one."
   ]
  },
  {
   "cell_type": "markdown",
   "metadata": {
    "slideshow": {
     "slide_type": "slide"
    }
   },
   "source": [
    "## Nullity theorem: proof\n",
    "\n",
    "Let \n",
    "\n",
    "$$\\begin{bmatrix} A & * \\\\\n",
    "* & * \\end{bmatrix}^{-1} = \\begin{bmatrix} * & * \\\\ * & D \\end{bmatrix}, \\quad \\mathrm{nullity}(A) = \\mathrm{nullity}(D).$$\n",
    "\n",
    "Anny permutations of row/columns in the original matrix will put the complementary in the same place, so it is enough to prove for the left-to-corner case.\n",
    "\n"
   ]
  },
  {
   "cell_type": "markdown",
   "metadata": {
    "slideshow": {
     "slide_type": "slide"
    }
   },
   "source": [
    "## Nullity theorem: proof(2)\n",
    "\n",
    "Let $2 \\times 2$ block matrix $T$ have block $T_{11} = A$ and its inverse have $T^{-1}_{22} = D$.\n",
    "\n",
    "Let the columns of $N$ be the basis for the nullspace of $A$,\n",
    "\n",
    "$$AN = 0.$$\n",
    "\n",
    "Then, the second block row of $T^{-1} T = I$ gives\n",
    "\n",
    "$$T^{-1}_{21} A + D T_{21} = 0.$$\n",
    "\n",
    "If we multiply this equation by $N$ from the right we have\n",
    "\n",
    "$$\n",
    "   T^{-1}_{21} A N + DT_{21} N = D T_{21} N = 0.\n",
    "$$\n",
    "\n",
    "We only need to prove that the columns of $T_{21} N$ are linearly independent.\n",
    "\n",
    "Suppose that $y$ is such that\n",
    "\n",
    "$$\n",
    "   T_{21} N y = 0.\n",
    "$$\n",
    "\n",
    "Then, multiplying $T$ by \n",
    "$$\n",
    "\\begin{bmatrix} Ny \\\\ 0 \\end{bmatrix},\n",
    "$$\n",
    "we get the zero vector.\n",
    "\n",
    "Thus, since $T$ is invertible, we get $N y = 0$, and since the columns of $N$ are linearly independent we get $y = 0$."
   ]
  },
  {
   "cell_type": "markdown",
   "metadata": {
    "slideshow": {
     "slide_type": "slide"
    }
   },
   "source": [
    "## Ranks of the submatrices of the inverse\n",
    "\n",
    "\n",
    "Let $B$ be the **banded matrix** (tridiagonal matrix is a banded matrix with bandwidth $1$).\n",
    "\n",
    "Then, the general theorem says:\n",
    "\n",
    "Every submatrix $B$ above the $p$-th diagonal of the matrix $T$ has $\\mathrm{rank}(B) < k$ IFF (if and only if) \n",
    "\n",
    "every submatrix $C$ above the $p$-th diagonal of the matrix $T^{-1}$ has $\\mathrm{rank}(C) < p + k$."
   ]
  },
  {
   "cell_type": "markdown",
   "metadata": {
    "slideshow": {
     "slide_type": "slide"
    }
   },
   "source": [
    "## Proof\n",
    "\n",
    "Since $TT^{-1} = I$, and look at the first $M$ rows of $T$ (with $k \\leq M \\leq n - p - k$).\n",
    "\n",
    "Then,\n",
    "\n",
    "$$\\begin{bmatrix}\n",
    "A & B \\\\\n",
    "* & * \n",
    "\\end{bmatrix}\n",
    "\\begin{bmatrix}\n",
    "* & C \\\\\n",
    "* & D\n",
    "\\end{bmatrix}\n",
    "= \\begin{bmatrix} I & 0 \\\\\n",
    "* & * \n",
    "\\end{bmatrix}.\n",
    "$$\n",
    "\n",
    "$B$ and $C$ lie above the diagonals, they are complementary, and \n",
    "\n",
    "$$\\mathrm{nullity}(B) = \\mathrm{nullity}(C). $$\n",
    "\n",
    "Thus, \n",
    "\n",
    "$$n - M - p - \\mathrm{rank}(B) = n - M - \\mathrm{rank}(C).$$\n",
    "\n",
    "or\n",
    "\n",
    "$$\\mathrm{rank}(C) = \\mathrm{rank}(B) + p.$$"
   ]
  },
  {
   "cell_type": "markdown",
   "metadata": {
    "slideshow": {
     "slide_type": "slide"
    }
   },
   "source": [
    "## Tridiagonal matrix as an H-matrix\n",
    "\n",
    "The condition that all submatrices above/below subdiagonals have rank $1$ is a stricter condition, then the condition that the \"big blocks\" have rank-$1$. \n",
    "\n",
    "This leads to the so-called **quasi-separable structure** and $\\mathcal{O}(N)$ direct algorithm for solving linear systems with such matrices. Unfortunately, this only a 1D-case.\n",
    "\n",
    "The H-matrix case is more general in the sense that it can be applied to any cluster trees, any dimension of the problem (but the complexity of course grows with $N$)."
   ]
  },
  {
   "cell_type": "markdown",
   "metadata": {
    "slideshow": {
     "slide_type": "slide"
    }
   },
   "source": [
    "## Computing the inverse of the H-matrix\n",
    "\n",
    "What can we say about the numerical inversion of the H-matrix? \n",
    "\n",
    "We will illustrate everything on a 1D-H structure,\n",
    "\n",
    "i.e. \n",
    "\n",
    "$$\n",
    "  M = \\begin{bmatrix}\n",
    " A  & B \\\\\n",
    "  C & D\n",
    "  \\end{bmatrix},\n",
    "$$\n",
    "with off-diagonal blocks approximated with low-rank matrices."
   ]
  },
  {
   "cell_type": "markdown",
   "metadata": {
    "slideshow": {
     "slide_type": "slide"
    }
   },
   "source": [
    "## Block inversion and Schur complement\n",
    "\n",
    "The most straightforward algorithm is to use **block inversion** formula.\n",
    "\n",
    "Let us derive it.\n",
    "\n",
    "Let \n",
    "\n",
    "$$\n",
    "  M = \\begin{bmatrix}\n",
    "  A & B \\\\\n",
    "  C & D\n",
    "  \\end{bmatrix},\n",
    "$$\n",
    "\n",
    "Then\n",
    "\n",
    "$$M^{-1} = \\begin{bmatrix}\n",
    "(A - B D^{-1} C)^{-1} & -A^{-1} B (D - C A^{-1} B)^{-1} \\\\\n",
    "-D^{-1} C ( A - B D^{-1} C)^{-1} & (D - CA^{-1} B)^{-1}\n",
    "\\end{bmatrix}\n",
    "$$\n",
    "\n",
    "Let us prove it on the whiteboard."
   ]
  },
  {
   "cell_type": "markdown",
   "metadata": {},
   "source": [
    "## How we use this formula?\n",
    "\n",
    "$$M^{-1} = \\begin{bmatrix}\n",
    "(A - B D^{-1} C)^{-1} & -A^{-1} B (D - C A^{-1} B)^{-1} \\\\\n",
    "-D^{-1} C ( A - B D^{-1} C)^{-1} & (D - CA^{-1} B)^{-1}\n",
    "\\end{bmatrix}\n",
    "$$\n",
    "\n",
    "\n",
    "The usage of this formula is quite simple.\n",
    "\n",
    "Let $B$ and $D$ be of small rank.\n",
    "\n",
    "Then, the offdiagonal blocks are of low-rank.\n",
    "\n",
    "The crucial things are the inverses of the matrices\n",
    "\n",
    "$$S_A = (A - B D^{-1} C), \\quad (S_D = D - CA^{-1} B).$$"
   ]
  },
  {
   "cell_type": "markdown",
   "metadata": {
    "slideshow": {
     "slide_type": "slide"
    }
   },
   "source": [
    "## Recursion\n",
    "The crucial things are the inverses of the matrices\n",
    "\n",
    "$$S_A = (A - B D^{-1} C), \\quad (S_D = D - CA^{-1} B).$$\n",
    "\n",
    "The **recursion assumption** is that both $A^{-1}$ and $D^{-1}$ are available already and are stored in the $H$-matrix format.\n",
    "\n",
    "Then, the matrices $S_A$ and $S_D$ are low-rank modifications of the matrices $A$ and $D$,\n",
    "\n",
    "The matrices $B D^{-1} C$ and $CA^{-1} B$ are low-rank matrices, and factors can be computed by calling **matvec procedure**\n",
    "\n",
    "The inverses of $S_A$ and $S_D$ will be low-rank modifications of $A^{-1}$ and $D^{-1}$ (from the **Woodbury formula**) and the cost will be again $\\mathcal{O}(r)$ matrix-by-vector products.\n",
    "\n",
    "The H-ranks will be bounded by $2r$."
   ]
  },
  {
   "cell_type": "markdown",
   "metadata": {
    "slideshow": {
     "slide_type": "slide"
    }
   },
   "source": [
    "## Hierarhical inversion\n",
    "\n",
    "The whole concept of the hierarhical inversion is that we work with diagonal blocks recursively, and use H-matrix representation for matrix-by-matrix products, matrix-by-vector products, etc."
   ]
  },
  {
   "cell_type": "markdown",
   "metadata": {
    "slideshow": {
     "slide_type": "slide"
    }
   },
   "source": [
    "## Necessary operations during the inversions\n",
    "\n",
    "In 1D case we only need to multiply H-matrices by vectors, add low-rank matrices.\n",
    "\n",
    "In the general case, we will also need to **multiply H-matrices**, which will be the most time-consuming operation, since it has to be done recursively as well."
   ]
  },
  {
   "cell_type": "markdown",
   "metadata": {
    "slideshow": {
     "slide_type": "slide"
    }
   },
   "source": [
    "## Addition of H-matrices\n",
    "\n",
    "Adding H-matrices and adding low-rank matrices to the H-matrix is easy: \n",
    "\n",
    "it is reduced to the addition of low-rank matrices."
   ]
  },
  {
   "cell_type": "markdown",
   "metadata": {
    "slideshow": {
     "slide_type": "slide"
    }
   },
   "source": [
    "## Adding low-rank matrices \n",
    "\n",
    "Given a low-rank matrix $A$ and a low-rank matrix $B$ both with rank $r$, \n",
    "\n",
    "i.e.\n",
    "\n",
    "$$A = U_1 V^{\\top}_1, \\quad B = U_2 V^{\\top}_2,$$\n",
    "\n",
    "the result has rank not higher that $2r$, moreover\n",
    "\n",
    "$$A + B = \\begin{bmatrix} U_1 & U_2 \\end{bmatrix} \\begin{bmatrix} V_1 & V_2 \\end{bmatrix}^{\\top}, $$\n",
    "\n",
    "i.e. you just concatenate factors.\n",
    "\n",
    "The problem is that the rank will grow during the operations, thus we have to **approximate it back**."
   ]
  },
  {
   "cell_type": "markdown",
   "metadata": {
    "slideshow": {
     "slide_type": "slide"
    }
   },
   "source": [
    "## Compressing (rounding) low-rank matrices\n",
    "\n",
    "\n",
    "Given $$A = U V^{\\top},$$\n",
    "\n",
    "with $U \\in \\mathbb{R}^{N \\times R},$\n",
    "\n",
    "$R > r$, how we can efficiently compute $r$ and SVD of $A$ ?\n",
    "\n",
    "Directly computing the SVD is **not possible** due to the $\\mathcal{O}(N^3)$ complexity.\n",
    "\n",
    "we can use **cross approximation**, but here we have a much better algorithm, that is guaranteed to compute the solution in $\\mathcal{O}(N)$ time."
   ]
  },
  {
   "cell_type": "markdown",
   "metadata": {
    "slideshow": {
     "slide_type": "slide"
    }
   },
   "source": [
    "## Recalling QR decomposition\n",
    "\n",
    "Recalling NLA: we can orthogonalize using QR-decomposition!\n",
    "\n",
    "Thus, we have\n",
    "\n",
    "$$U = Q_u R_u, \\quad V = Q_v R_v,$$\n",
    "\n",
    "$$A = UV^{\\top} = Q_u R_u R^{\\top}_v Q^{\\top}_v = Q_u S Q^{\\top}_v.$$\n",
    "\n",
    "The matrix $S = R_u R^{\\top}_v$ is small, and it can be factorized by the \"true\" SVD, and rank-$r$ approximation can be computed:\n",
    "\n",
    "$$S \\approx \\widehat{U} \\Sigma \\widehat{V}^{\\top},$$\n",
    "\n",
    "and \n",
    "\n",
    "$$A = (Q_u \\widehat{U}) \\Sigma (Q_v \\widehat{V})^{\\top}.$$"
   ]
  },
  {
   "cell_type": "markdown",
   "metadata": {
    "slideshow": {
     "slide_type": "slide"
    }
   },
   "source": [
    "## Complexity analysis of the QR/rounding scheme\n",
    "\n",
    "The complexity analysis is very simple: two QR-factorizations ($\\mathcal{O}(NR^2)$ each) and one SVD of an $R \\times R$ matrix ($\\mathcal{O}(R^3)$). This is tractable for very large $N, R$."
   ]
  },
  {
   "cell_type": "markdown",
   "metadata": {
    "collapsed": true,
    "slideshow": {
     "slide_type": "slide"
    }
   },
   "source": [
    "## Multiplication of two H-matrices\n",
    "\n",
    "Another important operation required in the inversion process is the matrix-by-matrix multiplication, where both matrices are given in the H-matrix format.\n",
    "\n",
    "This is also done recursively, and two basic operations are there: \n",
    "\n",
    "- H-matrix by H-matrix (treat recursively)\n",
    "- H-matrix by low-rank matrix, \n",
    " This is reduced to $$H UV^{\\top} = (HU) V^{\\top},$$\n",
    " i.e. we have to compute $r$ matrix-by-vector products\n",
    "- Adding the matrices (see above)\n",
    "- Rounding with certain threshold\n",
    "\n",
    "The total complexity is $\\mathcal{O}(N)$, although the constant can be large."
   ]
  },
  {
   "cell_type": "markdown",
   "metadata": {
    "slideshow": {
     "slide_type": "slide"
    }
   },
   "source": [
    "## Multiplication of two H-matrices\n",
    "\n",
    "If we multiply two H-matrices with compatible mosaic partitioning, the result will have ranks not higher that the sum of the ranks.\n",
    "\n",
    "Can you prove that? (at least, in 1D)."
   ]
  },
  {
   "cell_type": "markdown",
   "metadata": {
    "slideshow": {
     "slide_type": "slide"
    }
   },
   "source": [
    "## Dense H-matrix by low-rank matrix product\n",
    "\n",
    "If $A$ is an $H$-matrix, the matrix-by-vector product is done via \"Barnes-Hut type\" algorith. We multiply all low-rank blocks by corresponding parts of the vector and add the result."
   ]
  },
  {
   "cell_type": "markdown",
   "metadata": {
    "slideshow": {
     "slide_type": "slide"
    }
   },
   "source": [
    "## Algorithm summary\n",
    "\n",
    "The final inversion algorithm is a (nested recursion):\n",
    "\n",
    "- We apply block inversion formula, \n",
    "- Given factorization of the big blocks, we multiply H-matrices by vectors, or H-matrices by H-matrices (here is the nested recursion)."
   ]
  },
  {
   "cell_type": "markdown",
   "metadata": {
    "slideshow": {
     "slide_type": "slide"
    }
   },
   "source": [
    "## Factorizing H-matrices\n",
    "\n",
    "We can also try to factorize H-matrices into the product of lower-triangular and upper-triangular matrices,\n",
    "\n",
    "and use this as a representation.\n",
    "\n",
    "This is actually an active research topic."
   ]
  },
  {
   "cell_type": "markdown",
   "metadata": {
    "slideshow": {
     "slide_type": "slide"
    }
   },
   "source": [
    "## Block LU factorizations\n",
    "\n",
    "Instead of inversion, one can use block LU factorization, and try to approximate the factors in the H-matrix format.\n",
    "\n",
    "$$ \\begin{bmatrix} A & B \\\\\n",
    "C & D \\end{bmatrix} = \\begin{bmatrix} I & 0 \\\\\n",
    "CA^{-1} & I \\end{bmatrix} \\begin{bmatrix} A & 0 \\\\\n",
    "0 & D - CA^{-1} B \\end{bmatrix} \\begin{bmatrix} I & A^{-1} B \\\\\n",
    "0 & I \\end{bmatrix}.$$\n",
    "\n"
   ]
  },
  {
   "cell_type": "markdown",
   "metadata": {
    "slideshow": {
     "slide_type": "slide"
    }
   },
   "source": [
    "## What are the problems \n",
    "\n",
    "Once H-matrices were introduced as a concept by Hackbusch & Khoromskij in 1999,\n",
    "\n",
    "there was a great excitement that it would be a **universal tool** for approximating matrix factorizations/inverse of sparse matrices.\n",
    "\n",
    "However, there are problems.\n",
    "\n",
    "- Big ranks\n",
    "- High memory\n",
    "- Complexity is asymptotically ok, but in practice it looses to fast direct solvers even in 2D.\n",
    "\n",
    "Recently, the interest came back, and there are quite a few new results that make such type of solvers competible (including our group)."
   ]
  },
  {
   "cell_type": "markdown",
   "metadata": {
    "slideshow": {
     "slide_type": "slide"
    }
   },
   "source": [
    "## What are the alternatives for sparse matrices\n",
    "\n",
    "- Incomplete LU factorizations\n",
    "- Algebraic/geometric multigrid methods\n",
    "- Domain decompositions\n",
    "- (Mixed) fast direct solvers."
   ]
  },
  {
   "cell_type": "markdown",
   "metadata": {
    "slideshow": {
     "slide_type": "subslide"
    }
   },
   "source": [
    "## Note on H2-matrices\n",
    "\n",
    "Direct analogue of FMM, storing only the **transfer matrices** between blocks.\n",
    "\n",
    "The computations are more involved, but if the library for fast linear algebra is implemented, it is not that difficult (and reduced to tree traversal)."
   ]
  },
  {
   "cell_type": "markdown",
   "metadata": {
    "slideshow": {
     "slide_type": "slide"
    }
   },
   "source": [
    "## Summary\n",
    "- We talked about linear algebra in the H-matrix format\n",
    "- We used nullity theorem to show how it works for the simplest \"sparse matrix\" format. That is our bridge to the sparse matrices\n",
    " "
   ]
  },
  {
   "cell_type": "markdown",
   "metadata": {
    "slideshow": {
     "slide_type": "slide"
    }
   },
   "source": [
    "## Next lecture\n",
    "- We will actually start the FastPDE course!"
   ]
  },
  {
   "cell_type": "code",
   "execution_count": 23,
   "metadata": {
    "collapsed": false,
    "slideshow": {
     "slide_type": "skip"
    }
   },
   "outputs": [
    {
     "data": {
      "text/html": [
       "<link href='http://fonts.googleapis.com/css?family=Fenix' rel='stylesheet' type='text/css'>\n",
       "<link href='http://fonts.googleapis.com/css?family=Alegreya+Sans:100,300,400,500,700,800,900,100italic,300italic,400italic,500italic,700italic,800italic,900italic' rel='stylesheet' type='text/css'>\n",
       "<link href='http://fonts.googleapis.com/css?family=Source+Code+Pro:300,400' rel='stylesheet' type='text/css'>\n",
       "<style>\n",
       "    @font-face {\n",
       "        font-family: \"Computer Modern\";\n",
       "        src: url('http://mirrors.ctan.org/fonts/cm-unicode/fonts/otf/cmunss.otf');\n",
       "    }\n",
       "    div.cell{\n",
       "        /*width:80%;*/\n",
       "        /*margin-left:auto !important;\n",
       "        margin-right:auto;*/\n",
       "    }\n",
       "    h1 {\n",
       "        font-family: 'Alegreya Sans', sans-serif;\n",
       "    }\n",
       "    h2 {\n",
       "        font-family: 'Fenix', serif;\n",
       "    }\n",
       "    h3{\n",
       "\t\tfont-family: 'Fenix', serif;\n",
       "        margin-top:12px;\n",
       "        margin-bottom: 3px;\n",
       "       }\n",
       "\th4{\n",
       "\t\tfont-family: 'Fenix', serif;\n",
       "       }\n",
       "    h5 {\n",
       "        font-family: 'Alegreya Sans', sans-serif;\n",
       "    }\t   \n",
       "    div.text_cell_render{\n",
       "        font-family: 'Alegreya Sans',Computer Modern, \"Helvetica Neue\", Arial, Helvetica, Geneva, sans-serif;\n",
       "        line-height: 1.2;\n",
       "        font-size: 120%;\n",
       "        /*width:70%;*/\n",
       "        /*margin-left:auto;*/\n",
       "        margin-right:auto;\n",
       "    }\n",
       "    .CodeMirror{\n",
       "            font-family: \"Source Code Pro\";\n",
       "\t\t\tfont-size: 90%;\n",
       "    }\n",
       "/*    .prompt{\n",
       "        display: None;\n",
       "    }*/\n",
       "    .text_cell_render h1 {\n",
       "        font-weight: 200;\n",
       "        font-size: 50pt;\n",
       "\t\tline-height: 110%;\n",
       "        color:#CD2305;\n",
       "        margin-bottom: 0.5em;\n",
       "        margin-top: 0.5em;\n",
       "        display: block;\n",
       "    }\t\n",
       "    .text_cell_render h5 {\n",
       "        font-weight: 300;\n",
       "        font-size: 16pt;\n",
       "        color: #CD2305;\n",
       "        font-style: italic;\n",
       "        margin-bottom: .5em;\n",
       "        margin-top: 0.5em;\n",
       "        display: block;\n",
       "    }\n",
       "    \n",
       "    li {\n",
       "        line-height: 110%;\n",
       "    }\n",
       "    .warning{\n",
       "        color: rgb( 240, 20, 20 )\n",
       "        }  \n",
       "</style>\n",
       "<script>\n",
       "    MathJax.Hub.Config({\n",
       "                        TeX: {\n",
       "                           extensions: [\"AMSmath.js\"]\n",
       "                           },\n",
       "                tex2jax: {\n",
       "                    inlineMath: [ ['$','$'], [\"\\\\(\",\"\\\\)\"] ],\n",
       "                    displayMath: [ ['$$','$$'], [\"\\\\[\",\"\\\\]\"] ]\n",
       "                },\n",
       "                displayAlign: 'center', // Change this to 'center' to center equations.\n",
       "                \"HTML-CSS\": {\n",
       "                    styles: {'.MathJax_Display': {\"margin\": 4}}\n",
       "                }\n",
       "        });\n",
       "</script>\n"
      ],
      "text/plain": [
       "<IPython.core.display.HTML object>"
      ]
     },
     "execution_count": 23,
     "metadata": {},
     "output_type": "execute_result"
    }
   ],
   "source": [
    "from IPython.core.display import HTML\n",
    "def css_styling():\n",
    "    styles = open(\"./styles/custom.css\", \"r\").read()\n",
    "    return HTML(styles)\n",
    "css_styling()"
   ]
  },
  {
   "cell_type": "code",
   "execution_count": null,
   "metadata": {
    "collapsed": true
   },
   "outputs": [],
   "source": []
  }
 ],
 "metadata": {
  "celltoolbar": "Slideshow",
  "kernelspec": {
   "display_name": "Python 2",
   "language": "python",
   "name": "python2"
  },
  "language_info": {
   "codemirror_mode": {
    "name": "ipython",
    "version": 2
   },
   "file_extension": ".py",
   "mimetype": "text/x-python",
   "name": "python",
   "nbconvert_exporter": "python",
   "pygments_lexer": "ipython2",
   "version": "2.7.11"
  }
 },
 "nbformat": 4,
 "nbformat_minor": 0
}
