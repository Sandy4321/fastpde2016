{
 "cells": [
  {
   "cell_type": "code",
   "execution_count": 1,
   "metadata": {
    "collapsed": false,
    "slideshow": {
     "slide_type": "skip"
    }
   },
   "outputs": [
    {
     "name": "stderr",
     "output_type": "stream",
     "text": [
      "/home/ivan/miniconda2/lib/python2.7/site-packages/IPython/html.py:14: ShimWarning: The `IPython.html` package has been deprecated. You should import from `notebook` instead. `IPython.html.widgets` has moved to `ipywidgets`.\n",
      "  \"`IPython.html.widgets` has moved to `ipywidgets`.\", ShimWarning)\n",
      "/home/ivan/miniconda2/lib/python2.7/site-packages/IPython/utils/path.py:282: UserWarning: locate_profile has moved to the IPython.paths module\n",
      "  warn(\"locate_profile has moved to the IPython.paths module\")\n"
     ]
    },
    {
     "data": {
      "text/plain": [
       "{u'scroll': True,\n",
       " u'start_slideshow_at': 'selected',\n",
       " u'theme': 'sky',\n",
       " u'transition': 'zoom'}"
      ]
     },
     "execution_count": 1,
     "metadata": {},
     "output_type": "execute_result"
    }
   ],
   "source": [
    "from IPython.html.services.config import ConfigManager\n",
    "from IPython.utils.path import locate_profile\n",
    "cm = ConfigManager(profile_dir=locate_profile(get_ipython().profile))\n",
    "cm.update('livereveal', {\n",
    "              'theme': 'sky',\n",
    "              'transition': 'zoom',\n",
    "              'start_slideshow_at': 'selected',\n",
    "})"
   ]
  },
  {
   "cell_type": "markdown",
   "metadata": {
    "slideshow": {
     "slide_type": "slide"
    }
   },
   "source": [
    "# Lecture 7. Properties of hierarchical matrices"
   ]
  },
  {
   "cell_type": "markdown",
   "metadata": {
    "slideshow": {
     "slide_type": "slide"
    }
   },
   "source": [
    "## Previous lecture\n",
    "We talked about:\n",
    "\n",
    "- A little bit on FMM from algebra part & estimates\n",
    "- Adaptive cross approximation & maxvol algorithm"
   ]
  },
  {
   "cell_type": "markdown",
   "metadata": {
    "slideshow": {
     "slide_type": "slide"
    }
   },
   "source": [
    "## Todays lecture\n",
    "- Working with H- and H-2 matrices: addition, multiplication, inversion\n",
    "- Connection to sparse matrices"
   ]
  },
  {
   "cell_type": "markdown",
   "metadata": {
    "slideshow": {
     "slide_type": "slide"
    }
   },
   "source": [
    "## H-matrix: definition\n",
    "\n",
    "A dense matrix $A$ is called **hierarhical matrix** with respect to the cluster trees $T$ and $S$ for rows/columns, \n",
    "\n",
    "if \n",
    "\n",
    "$$A(t, s) = U(t, s) V(t, s), \\quad t \\in T, \\quad s \\in S.$$"
   ]
  },
  {
   "cell_type": "markdown",
   "metadata": {
    "slideshow": {
     "slide_type": "slide"
    }
   },
   "source": [
    "## Properties of the H-matrix\n",
    "\n",
    "- Storage is $\\mathcal{O}(N \\log N)$ \n",
    "- Complexity of matrix-by-vector product is $\\mathcal{O}(N \\log N)$ \n",
    "- Computation of the representation is reduced to the blockwise approximation (approximate many blocks independently via cross approximation algorithms)."
   ]
  },
  {
   "cell_type": "markdown",
   "metadata": {
    "slideshow": {
     "slide_type": "slide"
    }
   },
   "source": [
    "## Where H-matrices come from\n",
    "- Approximation of integral operators\n",
    "- As inverses of sparse matrices (?)"
   ]
  },
  {
   "cell_type": "markdown",
   "metadata": {
    "slideshow": {
     "slide_type": "slide"
    }
   },
   "source": [
    "## Model example: inverse of the tridiagonal matrix\n",
    "\n",
    "H-matrices are connected with sparse matrices.\n",
    "\n",
    "Sparse matrices come from the solution of PDEs.\n",
    "\n",
    "Consider a tridiagonal matrix.\n",
    "\n",
    "$$A = D + D_1 Z + D_2 Z^{\\top},$$\n",
    "\n",
    "where $Z$ is a **lower-shift matrix**.\n",
    "\n",
    "Tridiagonal matrix is an H-matrix with H-ranks equal to $1$."
   ]
  },
  {
   "cell_type": "markdown",
   "metadata": {
    "slideshow": {
     "slide_type": "slide"
    }
   },
   "source": [
    "## Tridiagonal matrix and it LU\n",
    "\n",
    "Tridiagonal matrix and LU.\n",
    "\n",
    "It is well-known, that tridiagonal matrix can be factorized into a product of **lower triangular** bidiagonal matrix, and **upper triangular** bidiagonal matrix.\n",
    "\n",
    "$$A = LU.$$"
   ]
  },
  {
   "cell_type": "markdown",
   "metadata": {
    "slideshow": {
     "slide_type": "slide"
    }
   },
   "source": [
    "## Numerical experiment"
   ]
  },
  {
   "cell_type": "code",
   "execution_count": 13,
   "metadata": {
    "collapsed": false,
    "slideshow": {
     "slide_type": "slide"
    }
   },
   "outputs": [
    {
     "name": "stdout",
     "output_type": "stream",
     "text": [
      "(array([[ 1.        ,  0.        ,  0.        ,  0.        ,  0.        ,\n",
      "         0.        ,  0.        ,  0.        ],\n",
      "       [-0.11747356, -0.4428057 ,  0.64466151, -0.6366489 ,  1.        ,\n",
      "         0.        ,  0.        ,  0.        ],\n",
      "       [ 0.        ,  1.        ,  0.        ,  0.        ,  0.        ,\n",
      "         0.        ,  0.        ,  0.        ],\n",
      "       [ 0.        , -0.        ,  1.        ,  0.        ,  0.        ,\n",
      "         0.        ,  0.        ,  0.        ],\n",
      "       [ 0.        , -0.        , -0.        ,  1.        ,  0.        ,\n",
      "         0.        ,  0.        ,  0.        ],\n",
      "       [ 0.        , -0.        , -0.        , -0.        ,  0.46941472,\n",
      "         1.        ,  0.        ,  0.        ],\n",
      "       [ 0.        , -0.        , -0.        , -0.        ,  0.        ,\n",
      "        -0.05340742,  1.        ,  0.        ],\n",
      "       [ 0.        , -0.        , -0.        , -0.        ,  0.        ,\n",
      "         0.        ,  0.40765598,  1.        ]]), array([[ 0.43823653, -0.40375621,  0.        ,  0.        ,  0.        ,\n",
      "         0.        ,  0.        ,  0.        ],\n",
      "       [ 0.        , -2.71638013, -0.05661012,  1.47533258,  0.        ,\n",
      "         0.        ,  0.        ,  0.        ],\n",
      "       [ 0.        ,  0.        , -0.71551115,  0.2951459 , -0.90156974,\n",
      "         0.        ,  0.        ,  0.        ],\n",
      "       [ 0.        ,  0.        ,  0.        , -0.7272713 ,  1.18355951,\n",
      "        -1.08720106,  0.        ,  0.        ],\n",
      "       [ 0.        ,  0.        ,  0.        ,  0.        ,  1.33471916,\n",
      "        -0.69216536,  0.        ,  0.        ],\n",
      "       [ 0.        ,  0.        ,  0.        ,  0.        ,  0.        ,\n",
      "         1.43755369, -0.27328171,  0.        ],\n",
      "       [ 0.        ,  0.        ,  0.        ,  0.        ,  0.        ,\n",
      "         0.        , -2.99231795, -0.47113851],\n",
      "       [ 0.        ,  0.        ,  0.        ,  0.        ,  0.        ,\n",
      "         0.        ,  0.        ,  2.92142298]]))\n"
     ]
    },
    {
     "data": {
      "text/plain": [
       "<matplotlib.image.AxesImage at 0x7f8bbe292050>"
      ]
     },
     "execution_count": 13,
     "metadata": {},
     "output_type": "execute_result"
    },
    {
     "data": {
      "image/png": "[encoded data removed]",
      "text/plain": [
       "<matplotlib.figure.Figure at 0x7f8bc32c5590>"
      ]
     },
     "metadata": {},
     "output_type": "display_data"
    }
   ],
   "source": [
    "import numpy as np\n",
    "import scipy.linalg as spla\n",
    "import matplotlib.pyplot as plt\n",
    "%matplotlib inline\n",
    "\n",
    "n = 8\n",
    "\n",
    "d1 = np.random.randn(n)\n",
    "d2 = np.random.randn(n-1)\n",
    "d3 = np.random.randn(n-1)\n",
    "\n",
    "A = np.diag(d1) + np.diag(d2, 1) + np.diag(d3, -1)\n",
    "\n",
    "Q = spla.lu(A, permute_l=True)\n",
    "print Q\n",
    "Q1 = Q[0]\n",
    "Q1[np.abs(Q1 < 1e-8)] = 0\n",
    "plt.spy(Q1)"
   ]
  },
  {
   "cell_type": "markdown",
   "metadata": {
    "slideshow": {
     "slide_type": "slide"
    }
   },
   "source": [
    "## LU-factorization\n",
    "\n",
    "The LU factorization has structure, what can we say about the inverse of the matrix?\n",
    "\n",
    "We have $$ A = LU, $$\n",
    "\n",
    "thus\n",
    "\n",
    "$$A^{-1} = U^{-1} L^{-1}.$$\n",
    "\n",
    "thus solving a linear system is reduced to the solution of two linear systems, one with the matrix $L$ another with the matrix $U$,\n",
    "\n",
    "each one can be done in $\\mathcal{O}(N)$ operations."
   ]
  },
  {
   "cell_type": "markdown",
   "metadata": {
    "slideshow": {
     "slide_type": "slide"
    }
   },
   "source": [
    "## Exact inverse for the tridiagonal matrix\n",
    "\n",
    "The inverses $U^{-1}$ and $L^{-1}$ are (typically) dense:"
   ]
  },
  {
   "cell_type": "markdown",
   "metadata": {
    "slideshow": {
     "slide_type": "slide"
    }
   },
   "source": [
    "## Numerical experiment\n",
    "\n",
    "Let us do a short numerical experiment"
   ]
  },
  {
   "cell_type": "code",
   "execution_count": 19,
   "metadata": {
    "collapsed": false,
    "slideshow": {
     "slide_type": "fragment"
    }
   },
   "outputs": [
    {
     "data": {
      "text/plain": [
       "<matplotlib.colorbar.Colorbar at 0x7f8bbe1af610>"
      ]
     },
     "execution_count": 19,
     "metadata": {},
     "output_type": "execute_result"
    },
    {
     "data": {
      "image/png": "[encoded data removed]",
      "text/plain": [
       "<matplotlib.figure.Figure at 0x7f8bbe0c4bd0>"
      ]
     },
     "metadata": {},
     "output_type": "display_data"
    }
   ],
   "source": [
    "import numpy as np\n",
    "\n",
    "n = 100\n",
    "\n",
    "d1 = np.random.randn(n)\n",
    "d2 = np.random.randn(n-1)\n",
    "d3 = np.random.randn(n-1)\n",
    "\n",
    "A = np.diag(d1) + np.diag(d2, 1) + np.diag(d3, -1)\n",
    "iA = np.linalg.inv(A)\n",
    "plt.contourf(iA)\n",
    "plt.colorbar()"
   ]
  },
  {
   "cell_type": "markdown",
   "metadata": {
    "slideshow": {
     "slide_type": "slide"
    }
   },
   "source": [
    "## The inverse is H-matrix\n",
    "\n",
    "But the inverse of a tridiagonal matrix is an H-matrix!"
   ]
  },
  {
   "cell_type": "code",
   "execution_count": 22,
   "metadata": {
    "collapsed": false,
    "slideshow": {
     "slide_type": "fragment"
    }
   },
   "outputs": [
    {
     "data": {
      "text/plain": [
       "array([  1.02091926e+00,   2.42640688e-16,   1.40948324e-16,\n",
       "         1.16422070e-16,   9.37753890e-17,   9.37753890e-17,\n",
       "         9.37753890e-17,   9.37753890e-17,   9.37753890e-17,\n",
       "         9.37753890e-17,   9.37753890e-17,   9.37753890e-17,\n",
       "         9.37753890e-17,   9.37753890e-17,   9.37753890e-17,\n",
       "         9.37753890e-17,   9.37753890e-17,   9.37753890e-17,\n",
       "         9.37753890e-17,   9.37753890e-17,   9.37753890e-17,\n",
       "         9.37753890e-17,   9.37753890e-17,   9.37753890e-17,\n",
       "         9.37753890e-17,   9.37753890e-17,   9.37753890e-17,\n",
       "         9.37753890e-17,   9.37753890e-17,   9.37753890e-17,\n",
       "         9.37753890e-17,   9.37753890e-17,   9.37753890e-17,\n",
       "         9.37753890e-17,   9.37753890e-17,   9.37753890e-17,\n",
       "         9.37753890e-17,   9.37753890e-17,   9.37753890e-17,\n",
       "         9.37753890e-17,   9.37753890e-17,   9.37753890e-17,\n",
       "         9.37753890e-17,   9.37753890e-17,   9.37753890e-17,\n",
       "         9.37753890e-17,   9.37753890e-17,   9.37753890e-17,\n",
       "         9.37753890e-17,   9.37753890e-17])"
      ]
     },
     "execution_count": 22,
     "metadata": {},
     "output_type": "execute_result"
    }
   ],
   "source": [
    "import numpy as np\n",
    "\n",
    "n = 100\n",
    "\n",
    "d1 = np.random.randn(n)\n",
    "d2 = np.random.randn(n-1)\n",
    "d3 = np.random.randn(n-1)\n",
    "\n",
    "A = np.diag(d1) + np.diag(d2, 1) + np.diag(d3, -1)\n",
    "iA = np.linalg.inv(A)\n",
    "\n",
    "iA01 = iA[:n/2, n/2:]\n",
    "iA10 = iA[n/2:, :n/2]\n",
    "\n",
    "np.linalg.svd(iA01)[1]"
   ]
  },
  {
   "cell_type": "markdown",
   "metadata": {
    "slideshow": {
     "slide_type": "subslide"
    }
   },
   "source": [
    "## Tridiagonal matrix and its inverse\n",
    "\n",
    "Let $A$ be a tridiagonal matrix of size $2n \\times 2n$. Then,\n",
    "\n",
    "$$A^{-1} = \\begin{bmatrix} A_{00} & A_{01} \\\\\n",
    "A_{10} & A_{11}  \n",
    "\\end{bmatrix},\n",
    "$$\n",
    "\n",
    "where $A_{ij}$ has size $n \\times n$\n",
    "\n",
    "and \n",
    "\n",
    "$$\\mathrm{rank}~A_{01} \\leq 1, \\quad \\mathrm{rank}~A_{10} \\leq 1.$$"
   ]
  },
  {
   "cell_type": "markdown",
   "metadata": {
    "slideshow": {
     "slide_type": "slide"
    }
   },
   "source": [
    "## How to prove it: Nullity theorem\n",
    "\n",
    "The very nice proof can be based on so-called **nullity theorem** (for details, see [The Interplay of the ranks of the submatrices](http://www-math.mit.edu/~gs/papers/IRS.pdf) by G. Strang, T. Nguen)\n",
    "\n",
    "**Nulllity theorem:**\n",
    "\n",
    "Complementary submatrices of $A$ and $A^{-1}$ have the same **nullity**\n",
    "\n",
    "Nullity is the dimension of the kernel of the matrix.\n",
    "\n",
    "Complementary submatrix is the one that have rows not contained in the original one, and columns not contained in the original one."
   ]
  },
  {
   "cell_type": "markdown",
   "metadata": {
    "slideshow": {
     "slide_type": "slide"
    }
   },
   "source": [
    "## Nullity theorem: proof\n",
    "\n",
    "Let \n",
    "\n",
    "$$\\begin{bmatrix} A & * \\\\\n",
    "* & * \\end{bmatrix}^{-1} = \\begin{bmatrix} * & * \\\\ * & D \\end{bmatrix}, \\quad \\mathrm{nullity}(A) = \\mathrm{nullity}(D).$$\n",
    "\n",
    "Anny permutations of row/columns in the original matrix will put the complementary in the same place, so it is enough to prove for the left-to-corner case.\n",
    "\n"
   ]
  },
  {
   "cell_type": "markdown",
   "metadata": {
    "slideshow": {
     "slide_type": "slide"
    }
   },
   "source": [
    "## Nullity theorem: proof(2)\n",
    "\n",
    "Let $2 \\times 2$ block matrix $T$ have block $T_{11} = A$ and its inverse have $T^{-1}_{22} = D$.\n",
    "\n",
    "Let the columns of $N$ be the basis for the nullspace of $A$,\n",
    "\n",
    "$$AN = 0.$$\n",
    "\n",
    "Then, the second block row of $T^{-1} T = I$ gives\n",
    "\n",
    "$$T^{-1}_{21} A + D T_{21} = 0.$$\n",
    "\n",
    "If we multiply this equation by $N$ from the right we have\n",
    "\n",
    "$$\n",
    "   T^{-1}_{21} A N + DT_{21} N = D T_{21} N = 0.\n",
    "$$\n",
    "\n",
    "We only need to prove that the columns of $T_{21} N$ are linearly independent.\n",
    "\n",
    "Suppose that $y$ is such that\n",
    "\n",
    "$$\n",
    "   T_{21} N y = 0.\n",
    "$$\n",
    "\n",
    "Then, multiplying $T$ by \n",
    "$$\n",
    "\\begin{bmatrix} Ny \\\\ 0 \\end{bmatrix},\n",
    "$$\n",
    "we get the zero vector.\n",
    "\n",
    "Thus, since $T$ is invertible, we get $N y = 0$, and since the columns of $N$ are linearly independent we get $y = 0$."
   ]
  },
  {
   "cell_type": "markdown",
   "metadata": {
    "slideshow": {
     "slide_type": "slide"
    }
   },
   "source": [
    "## Ranks of the submatrices of the inverse\n",
    "\n",
    "\n",
    "Let $B$ be the **banded matrix** (tridiagonal matrix is a banded matrix with bandwidth $1$).\n",
    "\n",
    "Then, the general theorem says:\n",
    "\n",
    "Every submatrix $B$ above the $p$-th diagonal of the matrix $T$ has $\\mathrm{rank}(B) < k$ IFF (if and only if) \n",
    "\n",
    "every submatrix $C$ above the $p$-th diagonal of the matrix $T^{-1}$ has $\\mathrm{rank}(C) < p + k$."
   ]
  },
  {
   "cell_type": "markdown",
   "metadata": {
    "slideshow": {
     "slide_type": "slide"
    }
   },
   "source": [
    "## Proof\n",
    "\n"
   ]
  },
  {
   "cell_type": "markdown",
   "metadata": {
    "slideshow": {
     "slide_type": "slide"
    }
   },
   "source": [
    "## Tridiagonal matrix as an H-matrix"
   ]
  },
  {
   "cell_type": "markdown",
   "metadata": {
    "slideshow": {
     "slide_type": "slide"
    }
   },
   "source": [
    "## Computing the inverse of the H-matrix"
   ]
  },
  {
   "cell_type": "markdown",
   "metadata": {
    "slideshow": {
     "slide_type": "slide"
    }
   },
   "source": [
    "## Block LU-decomposition"
   ]
  },
  {
   "cell_type": "markdown",
   "metadata": {
    "slideshow": {
     "slide_type": "slide"
    }
   },
   "source": [
    "## Hierarhical algorithm for the inversion of the H-matrix\n",
    "\n",
    "Deriving the Schur decomposition formula."
   ]
  },
  {
   "cell_type": "markdown",
   "metadata": {
    "slideshow": {
     "slide_type": "slide"
    }
   },
   "source": [
    "## Block inversion and Schur complement"
   ]
  },
  {
   "cell_type": "markdown",
   "metadata": {
    "slideshow": {
     "slide_type": "slide"
    }
   },
   "source": [
    "## Necessary operations during the inversions\n",
    "\n",
    "We need addition of H-matrices, multiplication of H-matrices, multiplication of H-matrices by low-rank matrices."
   ]
  },
  {
   "cell_type": "markdown",
   "metadata": {
    "slideshow": {
     "slide_type": "slide"
    }
   },
   "source": [
    "## Addition of H-matrices"
   ]
  },
  {
   "cell_type": "markdown",
   "metadata": {
    "slideshow": {
     "slide_type": "slide"
    }
   },
   "source": [
    "## Adding low-rank matrices \n",
    "\n",
    "The result has larger rank"
   ]
  },
  {
   "cell_type": "markdown",
   "metadata": {
    "slideshow": {
     "slide_type": "slide"
    }
   },
   "source": [
    "## Compressing (rounding) low-rank matrices\n",
    "\n",
    "We can do it faster than SVD"
   ]
  },
  {
   "cell_type": "markdown",
   "metadata": {
    "slideshow": {
     "slide_type": "slide"
    }
   },
   "source": [
    "## Recalling QR decomposition\n",
    "\n",
    "Every matrix can be decomposed into a product"
   ]
  },
  {
   "cell_type": "markdown",
   "metadata": {
    "slideshow": {
     "slide_type": "slide"
    }
   },
   "source": [
    "## Complexity analysis of the QR/rounding scheme\n",
    "\n",
    "The complexity is linear"
   ]
  },
  {
   "cell_type": "markdown",
   "metadata": {
    "collapsed": true,
    "slideshow": {
     "slide_type": "slide"
    }
   },
   "source": [
    "## Multiplication of two H-matrices\n",
    "\n",
    "Block formula again"
   ]
  },
  {
   "cell_type": "markdown",
   "metadata": {
    "slideshow": {
     "slide_type": "slide"
    }
   },
   "source": [
    "## Dense H-matrix by low-rank matrix product"
   ]
  },
  {
   "cell_type": "markdown",
   "metadata": {
    "slideshow": {
     "slide_type": "slide"
    }
   },
   "source": [
    "## Algorithm summary"
   ]
  },
  {
   "cell_type": "markdown",
   "metadata": {
    "slideshow": {
     "slide_type": "slide"
    }
   },
   "source": [
    "## Factorizing H-matrices\n",
    "\n",
    "We can also try to factorize H-matrices into the product of lower-triangular and upper-triangular matrices"
   ]
  },
  {
   "cell_type": "markdown",
   "metadata": {
    "slideshow": {
     "slide_type": "slide"
    }
   },
   "source": [
    "## Block LU factorizations"
   ]
  },
  {
   "cell_type": "markdown",
   "metadata": {
    "slideshow": {
     "slide_type": "slide"
    }
   },
   "source": [
    "## What are the problems "
   ]
  },
  {
   "cell_type": "markdown",
   "metadata": {
    "slideshow": {
     "slide_type": "slide"
    }
   },
   "source": [
    "## What are the alternatives for sparse matrices\n",
    "\n",
    "- Incomplete LU factorizations\n",
    "- Algebraic/geometric multigrid methods\n",
    "- Domain decompositions\n",
    "- (Mixed) fast direct solvers."
   ]
  },
  {
   "cell_type": "markdown",
   "metadata": {
    "slideshow": {
     "slide_type": "subslide"
    }
   },
   "source": [
    "## Note on H2-matrices\n",
    "\n",
    "Direct analogue of FMM, storing only the **transfer matrices**"
   ]
  },
  {
   "cell_type": "markdown",
   "metadata": {
    "slideshow": {
     "slide_type": "slide"
    }
   },
   "source": [
    "## Inversion/factorization of H2-matrices\n",
    "\n",
    "It is all reduced to matrix-by-matrix product"
   ]
  },
  {
   "cell_type": "markdown",
   "metadata": {
    "slideshow": {
     "slide_type": "slide"
    }
   },
   "source": [
    "## Computing products of H2-matrices"
   ]
  },
  {
   "cell_type": "markdown",
   "metadata": {
    "slideshow": {
     "slide_type": "slide"
    }
   },
   "source": [
    "## Summary\n"
   ]
  },
  {
   "cell_type": "markdown",
   "metadata": {
    "slideshow": {
     "slide_type": "slide"
    }
   },
   "source": [
    "## Next lecture"
   ]
  },
  {
   "cell_type": "code",
   "execution_count": 4,
   "metadata": {
    "collapsed": false,
    "slideshow": {
     "slide_type": "skip"
    }
   },
   "outputs": [
    {
     "data": {
      "text/html": [
       "<link href='http://fonts.googleapis.com/css?family=Fenix' rel='stylesheet' type='text/css'>\n",
       "<link href='http://fonts.googleapis.com/css?family=Alegreya+Sans:100,300,400,500,700,800,900,100italic,300italic,400italic,500italic,700italic,800italic,900italic' rel='stylesheet' type='text/css'>\n",
       "<link href='http://fonts.googleapis.com/css?family=Source+Code+Pro:300,400' rel='stylesheet' type='text/css'>\n",
       "<style>\n",
       "    @font-face {\n",
       "        font-family: \"Computer Modern\";\n",
       "        src: url('http://mirrors.ctan.org/fonts/cm-unicode/fonts/otf/cmunss.otf');\n",
       "    }\n",
       "    div.cell{\n",
       "        /*width:80%;*/\n",
       "        /*margin-left:auto !important;\n",
       "        margin-right:auto;*/\n",
       "    }\n",
       "    h1 {\n",
       "        font-family: 'Alegreya Sans', sans-serif;\n",
       "    }\n",
       "    h2 {\n",
       "        font-family: 'Fenix', serif;\n",
       "    }\n",
       "    h3{\n",
       "\t\tfont-family: 'Fenix', serif;\n",
       "        margin-top:12px;\n",
       "        margin-bottom: 3px;\n",
       "       }\n",
       "\th4{\n",
       "\t\tfont-family: 'Fenix', serif;\n",
       "       }\n",
       "    h5 {\n",
       "        font-family: 'Alegreya Sans', sans-serif;\n",
       "    }\t   \n",
       "    div.text_cell_render{\n",
       "        font-family: 'Alegreya Sans',Computer Modern, \"Helvetica Neue\", Arial, Helvetica, Geneva, sans-serif;\n",
       "        line-height: 1.2;\n",
       "        font-size: 120%;\n",
       "        /*width:70%;*/\n",
       "        /*margin-left:auto;*/\n",
       "        margin-right:auto;\n",
       "    }\n",
       "    .CodeMirror{\n",
       "            font-family: \"Source Code Pro\";\n",
       "\t\t\tfont-size: 90%;\n",
       "    }\n",
       "/*    .prompt{\n",
       "        display: None;\n",
       "    }*/\n",
       "    .text_cell_render h1 {\n",
       "        font-weight: 200;\n",
       "        font-size: 50pt;\n",
       "\t\tline-height: 110%;\n",
       "        color:#CD2305;\n",
       "        margin-bottom: 0.5em;\n",
       "        margin-top: 0.5em;\n",
       "        display: block;\n",
       "    }\t\n",
       "    .text_cell_render h5 {\n",
       "        font-weight: 300;\n",
       "        font-size: 16pt;\n",
       "        color: #CD2305;\n",
       "        font-style: italic;\n",
       "        margin-bottom: .5em;\n",
       "        margin-top: 0.5em;\n",
       "        display: block;\n",
       "    }\n",
       "    \n",
       "    li {\n",
       "        line-height: 110%;\n",
       "    }\n",
       "    .warning{\n",
       "        color: rgb( 240, 20, 20 )\n",
       "        }  \n",
       "</style>\n",
       "<script>\n",
       "    MathJax.Hub.Config({\n",
       "                        TeX: {\n",
       "                           extensions: [\"AMSmath.js\"]\n",
       "                           },\n",
       "                tex2jax: {\n",
       "                    inlineMath: [ ['$','$'], [\"\\\\(\",\"\\\\)\"] ],\n",
       "                    displayMath: [ ['$$','$$'], [\"\\\\[\",\"\\\\]\"] ]\n",
       "                },\n",
       "                displayAlign: 'center', // Change this to 'center' to center equations.\n",
       "                \"HTML-CSS\": {\n",
       "                    styles: {'.MathJax_Display': {\"margin\": 4}}\n",
       "                }\n",
       "        });\n",
       "</script>\n"
      ],
      "text/plain": [
       "<IPython.core.display.HTML object>"
      ]
     },
     "execution_count": 4,
     "metadata": {},
     "output_type": "execute_result"
    }
   ],
   "source": [
    "from IPython.core.display import HTML\n",
    "def css_styling():\n",
    "    styles = open(\"./styles/custom.css\", \"r\").read()\n",
    "    return HTML(styles)\n",
    "css_styling()"
   ]
  }
 ],
 "metadata": {
  "celltoolbar": "Slideshow",
  "kernelspec": {
   "display_name": "Python 2",
   "language": "python",
   "name": "python2"
  },
  "language_info": {
   "codemirror_mode": {
    "name": "ipython",
    "version": 2
   },
   "file_extension": ".py",
   "mimetype": "text/x-python",
   "name": "python",
   "nbconvert_exporter": "python",
   "pygments_lexer": "ipython2",
   "version": "2.7.11"
  }
 },
 "nbformat": 4,
 "nbformat_minor": 0
}
