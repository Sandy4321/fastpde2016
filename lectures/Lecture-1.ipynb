{
 "cells": [
  {
   "cell_type": "markdown",
   "metadata": {
    "slideshow": {
     "slide_type": "slide"
    }
   },
   "source": [
    "# Motivation"
   ]
  },
  {
   "cell_type": "markdown",
   "metadata": {
    "slideshow": {
     "slide_type": "slide"
    }
   },
   "source": [
    "## Why computer modelling? \n",
    "Because it is **cheaper** than real-life experiment, or in the case when real-life experiment **is not possible**."
   ]
  },
  {
   "cell_type": "markdown",
   "metadata": {
    "slideshow": {
     "slide_type": "slide"
    }
   },
   "source": [
    "## Typical steps of computer modelling\n",
    "\n",
    "1. Formulate the mathematical problem as an **equation** for some **quantities**\n",
    "\n",
    "2. Replace the continious problem by a discrete problem (**discretization**)\n",
    "\n",
    "3. Solve the resulting discrete problem\n",
    "\n",
    "\n"
   ]
  },
  {
   "cell_type": "markdown",
   "metadata": {
    "collapsed": false,
    "slideshow": {
     "slide_type": "slide"
    }
   },
   "source": [
    "The simplest cycle: Mathematical model - Discretization - Solve"
   ]
  },
  {
   "cell_type": "markdown",
   "metadata": {
    "slideshow": {
     "slide_type": "slide"
    }
   },
   "source": [
    "## Discretization\n",
    "The discretization is replacement of the region by discrete elements:\n",
    "<img src=\"pic/airplane2.jpeg\">"
   ]
  },
  {
   "cell_type": "markdown",
   "metadata": {
    "slideshow": {
     "slide_type": "slide"
    }
   },
   "source": [
    "## Random notes\n",
    "- Discretization and solve can be connected\n",
    "- Fast solvers are needed\n",
    "- Only a subproblem in **design and optimization**\n",
    "- Many physical problems are still too complex for math (turbulence!)"
   ]
  },
  {
   "cell_type": "markdown",
   "metadata": {
    "slideshow": {
     "slide_type": "slide"
    }
   },
   "source": [
    "Consider\n",
    "<img src=\"pic/weather.jpeg\">\n",
    "\n",
    "It takes a lot to create\n",
    "\n",
    "1. A model\n",
    "2. Discretization\n",
    "3. Solvers\n",
    "\n",
    "What if the computer time to compute a **forecast for 1 day is more\n",
    "than 1 day**?"
   ]
  },
  {
   "cell_type": "markdown",
   "metadata": {
    "slideshow": {
     "slide_type": "slide"
    }
   },
   "source": [
    "Many **process in physics** are modelled as PDEs.\n",
    "\n",
    "- Diffusion processes (heat transfer), electrostatics (circuit design) Poisson equation \n",
    "- Sound propagation (noise on the streets, buildings) -- Helmholtz\n",
    "equation \n",
    "- Electromagnetics -- MRI (magnetic resonance imaging) -\n",
    "Maxwell equations \n",
    "- Fluid flows -- Stokes / Navier Stokes equations \n",
    "\n",
    "These are all partial differential equations!"
   ]
  },
  {
   "cell_type": "markdown",
   "metadata": {
    "slideshow": {
     "slide_type": "slide"
    }
   },
   "source": [
    "PDE appear in many areas, including\n",
    "- Modelling of physical processes (heat, elasticity, fluid flows)\n",
    "- Financial math (Black Scholes equation) \n",
    "- Chemical engineering (Smoluchowsky equation)\n",
    "- Nanoworld (Schrodinger equation) \n",
    "- Optimal control of robots (Hamilton-Jacobi-Bellman equation)\n"
   ]
  },
  {
   "cell_type": "markdown",
   "metadata": {
    "slideshow": {
     "slide_type": "slide"
    }
   },
   "source": [
    "## Assumptions and plans\n",
    "- We suppose you already know the **discretization stuff for PDE** - not covering it.\n",
    "\n",
    "- We will focus on integral equations first: where do they come from, basic types, basic discretization scheme\n",
    "- Cover translation-invariant case (and FFT)\n",
    "- Cover the idea of close & far interactions\n",
    "- Cover Barnes-Hut idea and **fast multipole method**\n",
    "- Cover **hierarchical matrices** and their properties in details\n",
    "- Cover **fast solvers** for sparse matrices: advanced fast direct solvers for sparse matrices, multigrid methods, domain decomposition\n",
    "- Cover **advanced topics**: wavelets, sparse grids and tensors"
   ]
  },
  {
   "cell_type": "markdown",
   "metadata": {
    "slideshow": {
     "slide_type": "slide"
    }
   },
   "source": [
    "## Project\n",
    "\n",
    "- As usual, the course will end with an App Period\n",
    "- The project will be proposed by you, adds something to your research elsewhere\n",
    "- The project proposal instead of the second homework"
   ]
  },
  {
   "cell_type": "markdown",
   "metadata": {
    "slideshow": {
     "slide_type": "slide"
    }
   },
   "source": [
    "## Why do we need fast methods?\n",
    "Because the growth of the computer power, being exponential, is still not enough!\n",
    "\n",
    "The growth due to the **algorithm improvements** is comparable (and the human brain is still the most energy-efficient computing element)\n",
    "\n",
    "<img src='moore-law-squared.png' /img>"
   ]
  },
  {
   "cell_type": "markdown",
   "metadata": {
    "slideshow": {
     "slide_type": "slide"
    }
   },
   "source": [
    "## What do we mean by fast methods?\n",
    "By fast methods we mean **improving the asymptotics** with respect to the problem size.\n",
    "\n",
    "Consider solution of linear system with a **sparse matrix** $A$:\n",
    "\n",
    "$$Au = b,$$\n",
    "\n",
    "where $A$ is a 5-point Laplacian discretization:\n",
    "\n",
    "$$\\frac{u_{i+1, j} + u_{i-1, j} + u_{i, j-1} + u_{i, j+1} - 4 u_{ij} }{4h^2} = f_{ij}.$$\n",
    "\n",
    "What are the complexities (next slide, but let us guess)."
   ]
  },
  {
   "cell_type": "markdown",
   "metadata": {
    "slideshow": {
     "slide_type": "slide"
    }
   },
   "source": [
    "## Complexity\n",
    "\n",
    "- Dense Gaussian elimination: $\\mathcal{O}(N^3)$, works up to $10^4$ \n",
    "- Sparse Gaussian elimination: $\\mathcal{O}(N^{\\frac{3}{2}})$, works up to $10^6$\n",
    "- FFT methods: $\\mathcal{O}(N \\log N)$, up to $10^8$\n",
    "- Multigrid method: $\\mathcal{O}(N)$, up to $10^8$\n",
    "- Tensor methods for **particular** right-hand sides (for example, $f=1$), works up to **astronomically large sizes** ($N = 2^{50}$)."
   ]
  },
  {
   "cell_type": "markdown",
   "metadata": {
    "slideshow": {
     "slide_type": "slide"
    }
   },
   "source": [
    "## What you will learn\n",
    "The goal of this course is to learn the basic state-of-the art techniques:\n",
    "- IE & fast multipole\n",
    "- Concept of multigrid/domain decomposition\n",
    "- Concept of wavelets/sparse grids"
   ]
  },
  {
   "cell_type": "markdown",
   "metadata": {
    "slideshow": {
     "slide_type": "slide"
    }
   },
   "source": [
    "## Integral equations\n",
    "Now, to integral equations!\n"
   ]
  },
  {
   "cell_type": "markdown",
   "metadata": {},
   "source": [
    "## Physics is described by PDEs\n",
    "\n",
    "The physics of our world is typically described by local conservation laws, expressed in terms of partial differential equations. \n",
    "\n",
    "The **Poisson** equation writes as\n",
    "\n",
    "$$\\Delta u  =  \\nabla \\cdot \\nabla u  = f,$$\n",
    "\n",
    "plus boundary conditions."
   ]
  },
  {
   "cell_type": "markdown",
   "metadata": {
    "slideshow": {
     "slide_type": "slide"
    }
   },
   "source": [
    "## Model problem (electrostatics)\n",
    "Suppose physical setting: we have an ideally conducting surface $\\Omega$ (for example, surface of a cube), which is attached to a battery.\n",
    "\n",
    "The charges can appear only at the surface, i.e. \n",
    "\n",
    "$$\\Delta V = 0,$$\n",
    "but at the surface the potential should be constant:\n",
    "\n",
    "$$V_{\\partial \\Omega} = V_0.$$\n",
    "\n",
    "- This is a classical example of **external problem.**\n",
    "\n",
    "- The potential has to be defined in the **full 3D space**,\n",
    "\n",
    "- It is quite expensive, boundary conditions on the outside are not straightforward"
   ]
  },
  {
   "cell_type": "markdown",
   "metadata": {
    "slideshow": {
     "slide_type": "slide"
    }
   },
   "source": [
    "## Electrostatics to integral equations\n",
    "\n",
    "The concept of **equivalent sources** leads to the **boundary integral formulation** of the problem.\n",
    "\n",
    "The charges can appear only at the boundary. The charge creates the field $\\frac{1}{r}$.\n",
    "\n",
    "$\\frac{1}{r}$ is called **fundamental solution** of the operator $\\Delta$, since it satisfies\n",
    "\n",
    "$$\\Delta V_f = \\delta(0),$$\n",
    "\n",
    "where $\\delta$ is a **delta-function.**"
   ]
  },
  {
   "cell_type": "markdown",
   "metadata": {
    "slideshow": {
     "slide_type": "slide"
    }
   },
   "source": [
    "## BEM\n",
    "\n",
    "The boundary integral equation comes from the idea to **look for** the solution as \n",
    "\n",
    "$$u(y) = \\int_{\\partial \\Omega} \\frac{q(x)}{\\Vert x - y\\Vert} dy.$$\n",
    "\n",
    "(it is also called **single-layer potential**)."
   ]
  },
  {
   "cell_type": "markdown",
   "metadata": {
    "slideshow": {
     "slide_type": "slide"
    }
   },
   "source": [
    "## Properties\n",
    "The solution in the form of single potential has the form.\n",
    "$$u(x) = \\int_{\\partial \\Omega} \\frac{q(y)}{\\Vert x - y\\Vert} dy.$$\n",
    "Moreover, it satisfies \n",
    "$$\\Delta u = 0,$$\n",
    "\n",
    "for all $y \\not \\in \\partial \\Omega,$ therefore it is sufficient to find the unknown function $q$ that satisfies the **Dirichlet boundary condition**\n",
    "\n",
    "$$\\int_{\\partial \\Omega} \\frac{q(y)}{\\Vert x - y\\Vert} dy = f(x), \\quad x \\in \\partial \\Omega$$\n",
    "\n",
    "That is the **first kind integral equation with singular kernel.**\n",
    "\n",
    "The main benefit is that the unknown function is defined on a **bounded domain.**"
   ]
  },
  {
   "cell_type": "markdown",
   "metadata": {
    "slideshow": {
     "slide_type": "slide"
    }
   },
   "source": [
    "## Model problem: acoustics\n",
    "\n",
    "Room acoustics (for opera houses), noise assessment (for roads, building construction, railways) can be modelled in the **same fashion**\n",
    "\n",
    "<img src='stravinski.jpg'>"
   ]
  },
  {
   "cell_type": "markdown",
   "metadata": {
    "slideshow": {
     "slide_type": "slide"
    }
   },
   "source": [
    "## Model problem: acoustics \n",
    "\n",
    "The underlying equation is the **Helmholtz equation**\n",
    "\n",
    "$$\\Delta p + k^2 p = f, $$\n",
    "\n",
    "plus boundary conditions (typically, **Neumann boundary conditions**), and $f$ are **sound sources** (typically, point sources).\n",
    "\n",
    "The fundamental solution is\n",
    "\n",
    "$$p_f = \\frac{\\exp(i k r)}{r},  \\quad r = \\Vert x - y \\Vert.$$"
   ]
  },
  {
   "cell_type": "markdown",
   "metadata": {
    "slideshow": {
     "slide_type": "slide"
    }
   },
   "source": [
    "## Summary\n",
    "\n",
    "- Intro lecture\n",
    "- Two first integral equations\n"
   ]
  },
  {
   "cell_type": "markdown",
   "metadata": {
    "slideshow": {
     "slide_type": "slide"
    }
   },
   "source": [
    "## Tomorrow\n",
    "- How to discretize IE (Nystrom, collocation, Galerkin method, other type of kernels)\n",
    "- What are the problems"
   ]
  },
  {
   "cell_type": "code",
   "execution_count": 2,
   "metadata": {
    "collapsed": false,
    "slideshow": {
     "slide_type": "skip"
    }
   },
   "outputs": [
    {
     "data": {
      "text/html": [
       "<link href='http://fonts.googleapis.com/css?family=Fenix' rel='stylesheet' type='text/css'>\n",
       "<link href='http://fonts.googleapis.com/css?family=Alegreya+Sans:100,300,400,500,700,800,900,100italic,300italic,400italic,500italic,700italic,800italic,900italic' rel='stylesheet' type='text/css'>\n",
       "<link href='http://fonts.googleapis.com/css?family=Source+Code+Pro:300,400' rel='stylesheet' type='text/css'>\n",
       "<style>\n",
       "    @font-face {\n",
       "        font-family: \"Computer Modern\";\n",
       "        src: url('http://mirrors.ctan.org/fonts/cm-unicode/fonts/otf/cmunss.otf');\n",
       "    }\n",
       "    div.cell{\n",
       "        /*width:80%;*/\n",
       "        /*margin-left:auto !important;\n",
       "        margin-right:auto;*/\n",
       "    }\n",
       "    h1 {\n",
       "        font-family: 'Alegreya Sans', sans-serif;\n",
       "    }\n",
       "    h2 {\n",
       "        font-family: 'Fenix', serif;\n",
       "    }\n",
       "    h3{\n",
       "\t\tfont-family: 'Fenix', serif;\n",
       "        margin-top:12px;\n",
       "        margin-bottom: 3px;\n",
       "       }\n",
       "\th4{\n",
       "\t\tfont-family: 'Fenix', serif;\n",
       "       }\n",
       "    h5 {\n",
       "        font-family: 'Alegreya Sans', sans-serif;\n",
       "    }\t   \n",
       "    div.text_cell_render{\n",
       "        font-family: 'Alegreya Sans',Computer Modern, \"Helvetica Neue\", Arial, Helvetica, Geneva, sans-serif;\n",
       "        line-height: 1.2;\n",
       "        font-size: 120%;\n",
       "        /*width:70%;*/\n",
       "        /*margin-left:auto;*/\n",
       "        margin-right:auto;\n",
       "    }\n",
       "    .CodeMirror{\n",
       "            font-family: \"Source Code Pro\";\n",
       "\t\t\tfont-size: 90%;\n",
       "    }\n",
       "/*    .prompt{\n",
       "        display: None;\n",
       "    }*/\n",
       "    .text_cell_render h1 {\n",
       "        font-weight: 200;\n",
       "        font-size: 50pt;\n",
       "\t\tline-height: 110%;\n",
       "        color:#CD2305;\n",
       "        margin-bottom: 0.5em;\n",
       "        margin-top: 0.5em;\n",
       "        display: block;\n",
       "    }\t\n",
       "    .text_cell_render h5 {\n",
       "        font-weight: 300;\n",
       "        font-size: 16pt;\n",
       "        color: #CD2305;\n",
       "        font-style: italic;\n",
       "        margin-bottom: .5em;\n",
       "        margin-top: 0.5em;\n",
       "        display: block;\n",
       "    }\n",
       "    \n",
       "    li {\n",
       "        line-height: 110%;\n",
       "    }\n",
       "    .warning{\n",
       "        color: rgb( 240, 20, 20 )\n",
       "        }  \n",
       "</style>\n",
       "<script>\n",
       "    MathJax.Hub.Config({\n",
       "                        TeX: {\n",
       "                           extensions: [\"AMSmath.js\"]\n",
       "                           },\n",
       "                tex2jax: {\n",
       "                    inlineMath: [ ['$','$'], [\"\\\\(\",\"\\\\)\"] ],\n",
       "                    displayMath: [ ['$$','$$'], [\"\\\\[\",\"\\\\]\"] ]\n",
       "                },\n",
       "                displayAlign: 'center', // Change this to 'center' to center equations.\n",
       "                \"HTML-CSS\": {\n",
       "                    styles: {'.MathJax_Display': {\"margin\": 4}}\n",
       "                }\n",
       "        });\n",
       "</script>\n"
      ],
      "text/plain": [
       "<IPython.core.display.HTML object>"
      ]
     },
     "execution_count": 2,
     "metadata": {},
     "output_type": "execute_result"
    }
   ],
   "source": [
    "from IPython.core.display import HTML\n",
    "def css_styling():\n",
    "    styles = open(\"./styles/custom.css\", \"r\").read()\n",
    "    return HTML(styles)\n",
    "css_styling()"
   ]
  }
 ],
 "metadata": {
  "celltoolbar": "Slideshow",
  "kernelspec": {
   "display_name": "Python 2",
   "language": "python",
   "name": "python2"
  },
  "language_info": {
   "codemirror_mode": {
    "name": "ipython",
    "version": 2
   },
   "file_extension": ".py",
   "mimetype": "text/x-python",
   "name": "python",
   "nbconvert_exporter": "python",
   "pygments_lexer": "ipython2",
   "version": "2.7.11"
  }
 },
 "nbformat": 4,
 "nbformat_minor": 0
}
