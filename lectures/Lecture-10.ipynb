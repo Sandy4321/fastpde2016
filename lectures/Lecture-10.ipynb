{
 "cells": [
  {
   "cell_type": "code",
   "execution_count": null,
   "metadata": {
    "collapsed": false,
    "slideshow": {
     "slide_type": "skip"
    }
   },
   "outputs": [],
   "source": [
    "from IPython.html.services.config import ConfigManager\n",
    "from IPython.utils.path import locate_profile\n",
    "cm = ConfigManager(profile_dir=locate_profile(get_ipython().profile))\n",
    "cm.update('livereveal', {\n",
    "              'theme': 'sky',\n",
    "              'transition': 'zoom',\n",
    "              'start_slideshow_at': 'selected',\n",
    "})"
   ]
  },
  {
   "cell_type": "markdown",
   "metadata": {
    "slideshow": {
     "slide_type": "slide"
    }
   },
   "source": [
    "# Lecture 10. Introduction to multigrid."
   ]
  },
  {
   "cell_type": "markdown",
   "metadata": {
    "slideshow": {
     "slide_type": "slide"
    }
   },
   "source": [
    "## Previous lecture\n",
    "- More on elimination and graphs\n",
    "- FFT methods for a Poisson equatio n\n",
    "- Sylvester equation"
   ]
  },
  {
   "cell_type": "markdown",
   "metadata": {
    "slideshow": {
     "slide_type": "slide"
    }
   },
   "source": [
    "## Todays lecture\n",
    "- The basic elements of the multigrid."
   ]
  },
  {
   "cell_type": "markdown",
   "metadata": {
    "slideshow": {
     "slide_type": "slide"
    }
   },
   "source": [
    "## Model problem\n",
    "\n",
    "As a a model problem, we will again consider the diffusion equation with variable coefficient.\n",
    "\n",
    "$$\\nabla \\cdot k \\nabla u = f, \\quad u_{\\partial \\Omega} = 0,$$\n",
    "\n",
    "$$\\Omega = [0, 1]^ d.$$\n",
    "\n"
   ]
  },
  {
   "cell_type": "markdown",
   "metadata": {
    "slideshow": {
     "slide_type": "slide"
    }
   },
   "source": [
    "## Poisson equation\n",
    "\n",
    "And for illustration we will set $k = 1$, \n",
    "\n",
    "and solve the equation\n",
    "\n",
    "$$-\\Delta u = f, \\quad u_{\\partial \\Omega} = 0, \\quad \\Omega=[0,1]^d.$$\n",
    "\n",
    "In $1D$ we get $3$-point **stencil**, which is typically written as\n",
    "\n",
    "$$A = \\frac{1}{h^2} \\begin{bmatrix} -1 & 2 & 1 \\end{bmatrix}$$\n",
    "\n",
    "Stencil notation is very convenient for **structured grids**. \n",
    "\n",
    "At each grid point we store $3$ numbers with indices $-1, 0, 1$, and the action of a linear operator is defined as\n",
    "\n",
    "$$y = Ax, \\rightarrow \\quad y_j = \\sum_{k=-1}^1 x_{j+k} A(j)_k,$$\n",
    "\n",
    "and **out-of-bound** access is evaluated to $0$.\n",
    "\n",
    "\n"
   ]
  },
  {
   "cell_type": "markdown",
   "metadata": {
    "slideshow": {
     "slide_type": "slide"
    }
   },
   "source": [
    "## 2D stencil\n",
    "\n",
    "The notion of stencil is naturally extended to the 2D case, \n",
    "\n",
    "where  at each point we store a $3 \\times 3$ matrix, and the whole matrix is stored as a\n",
    "\n",
    "$$n \\times n \\times 3 \\times 3$$ array.\n",
    "\n",
    "The 2D Poisson in the stencil notation is written as\n",
    "\n",
    "$$A = \\frac{1}{h^2} \\begin{bmatrix} 0 & -1 & 0 \\\\\n",
    "-1 & 4 & -1\\\\\n",
    "0 & -1 & 0\n",
    "\\end{bmatrix}.$$\n",
    "\n",
    "In the same way we can write down non-constant coefficients."
   ]
  },
  {
   "cell_type": "markdown",
   "metadata": {
    "slideshow": {
     "slide_type": "slide"
    }
   },
   "source": [
    "## The history of multigrid\n",
    "\n",
    "The idea of multigrid was proposed by R. Fedorenko http://mi.mathnet.ru/rus/zvmmf/v1/i5/p922\t\n",
    "\"Релаксационный метод решения разностных эллиптических уравнений\", 1961.\n",
    "\n",
    "The theory was a little bit later provided by N. Bakhvalov. \n",
    "\n",
    "However, he gave the implementation to his PhD student and the PhD student failed, and Bakhvalov decided that the method \"does not work\". More than 5 year after, Brandt re-discovered multigrid in the West, and it worked. It became popular.\n"
   ]
  },
  {
   "cell_type": "markdown",
   "metadata": {
    "slideshow": {
     "slide_type": "slide"
    }
   },
   "source": [
    "##  Model problem \n",
    "\n",
    "Consider a discretized 1D diffusion equation with zero boundary conditions\n",
    "\n",
    "$$A_h u_h = f_h,$$ \n",
    "\n",
    "where\n",
    "$$\n",
    "A_h = \\frac{1}{h^2} \n",
    "\\begin{pmatrix}\n",
    "2 & -1 \\\\\n",
    "-1 & 2 & -1 \\\\\n",
    "& -1 & \\ddots & \\ddots \\\\\n",
    "& & \\ddots & \\ddots & -1 \\\\\n",
    "& & & -1 & 2\n",
    "\\end{pmatrix}\\quad \\text{of size $N\\times N$, $\\ $ $ h = N^{-1}$}\n",
    "$$\n",
    "As we know $$\\lambda_k(A_h) = \\frac{4}{h^2} \\sin^2 \\frac{\\pi kh}{2}>0, \\quad \\text{cond}(A_h) = \\frac{\\lambda_\\max}{\\lambda_\\min} = \\mathcal{O}\\left(\\frac{1}{h^2}\\right)$$"
   ]
  },
  {
   "cell_type": "markdown",
   "metadata": {
    "slideshow": {
     "slide_type": "slide"
    }
   },
   "source": [
    "## Iterative process\n",
    "Consider Jacobi iterative process with relaxation parameter $\\tau$ (fixed-point iteration with diagonal as a perconditioner):\n",
    "\n",
    "$$\n",
    "u^{(k+1)} = u^{(k)} - \\tau \\ D^{-1}(A_h u^{(k)} - f_h), \\quad D = \\text{diag}(A_h)\\equiv \\frac{2}{h^2} I. \n",
    "$$"
   ]
  },
  {
   "cell_type": "markdown",
   "metadata": {
    "slideshow": {
     "slide_type": "slide"
    }
   },
   "source": [
    "## Convergence. Bad news\n",
    "Let us show that the number of iterations required to get accuracy $\\epsilon$ is $\\mathcal{O}(N^2 \\ln \\epsilon)$.\n",
    "\n",
    "For the error $e^{(k)} = u^{(k)} - u_h$ we have\n",
    "$$\n",
    "e^{(k+1)} = \\left(I - \\frac{\\tau h^2}{2}A_h \\right) e^{(k)}.\n",
    "$$"
   ]
  },
  {
   "cell_type": "markdown",
   "metadata": {
    "slideshow": {
     "slide_type": "fragment"
    }
   },
   "source": [
    "It is known that (**show why**) the optimal tau is $\\frac{\\tau_{\\text{opt}}h^2}{2} = \\frac{2}{\\lambda_{\\min} + \\lambda_{\\max}}$.\n",
    "\n",
    "Therefore,\n",
    "$ \\|e^{(k)}\\|_2 \\leqslant \\left(\\frac{1 - \\lambda_\\min/\\lambda_\\max}{1 + \\lambda_\\min/\\lambda_\\max}\\right)^{k}\\|e^{(0)}\\|_2 = \\left(\\frac{1 - \\mathcal{O}(N^{-2})}{1 + \\mathcal{O}(N^{-2})}\\right)^{k}\\|e^{(0)}\\|_2\\leqslant \\epsilon \\quad \\Longrightarrow$ <font color='red'>$\\quad k = \\mathcal{O}(N^2 \\ln \\epsilon)$</font>."
   ]
  },
  {
   "cell_type": "markdown",
   "metadata": {
    "slideshow": {
     "slide_type": "slide"
    }
   },
   "source": [
    "## Convergence example\n",
    "\n",
    "The following example shows that even for $N = 20$ Jacobi method requires $1000$ iterations to reach $\\epsilon=10^{-4}$"
   ]
  },
  {
   "cell_type": "code",
   "execution_count": null,
   "metadata": {
    "collapsed": true,
    "slideshow": {
     "slide_type": "slide"
    }
   },
   "outputs": [],
   "source": [
    "%matplotlib inline\n",
    "import numpy as np\n",
    "import matplotlib.pyplot as plt\n",
    "import scipy as sp\n",
    "import scipy.sparse\n",
    "import scipy.sparse.linalg as spla\n",
    "import scipy\n",
    "from scipy.sparse import csc_matrix\n",
    "\n",
    "n = 20\n",
    "ex = np.ones(n);\n",
    "lp1 = n**2*sp.sparse.spdiags(np.vstack((ex,  -2*ex, ex)), [-1, 0, 1], n, n, 'csr'); \n",
    "rhs = np.ones(n)\n",
    "ev1, vec = spla.eigs(lp1, k=2, which='LR')\n",
    "ev2, vec = spla.eigs(lp1, k=2, which='SR')\n",
    "lam_max = ev1[0]\n",
    "lam_min = ev2[0]\n",
    "\n",
    "tau_opt = 2.0/(lam_max + lam_min)\n",
    "\n",
    "niters = 1000\n",
    "x = np.zeros(n)\n",
    "res_all = []\n",
    "for i in xrange(niters):\n",
    "    rr = lp1.dot(x) - rhs\n",
    "    x = x - tau_opt * rr\n",
    "    res_all.append(np.linalg.norm(rr))\n",
    "    \n",
    "#Convergence of an ordinary Richardson (with optimal parameter)\n",
    "plt.semilogy(res_all)\n",
    "plt.xlabel('Iteration number')\n",
    "plt.ylabel('error')"
   ]
  },
  {
   "cell_type": "markdown",
   "metadata": {
    "slideshow": {
     "slide_type": "slide"
    }
   },
   "source": [
    "## Smoothing property. Good news \n",
    "Iterative processes remove high-frequency components in the error! Let us show that.\n",
    "\n",
    "From the previous slide\n",
    "$$\n",
    "e^{(k+1)} = T e^{(k)} = T^{k} e^{(0)}, \\quad \\text{where}\\quad T = \\left(I - \\frac{\\tau h^2}{2}A_h \\right).\n",
    "$$"
   ]
  },
  {
   "cell_type": "markdown",
   "metadata": {
    "slideshow": {
     "slide_type": "fragment"
    }
   },
   "source": [
    "Let $$T \\psi_i = \\mu_i \\psi_i,$$ \n",
    "where $\\psi_i$ and $\\mu_i$, $i=1,\\dots,N$ are eigenvectors and eigenvalues of $T$.\n",
    "Since $\\{\\psi_i\\}$ is orthonormal basis (**explain why**), we have\n",
    "$$e^{(0)} = \\sum_{i=1}^N c_i \\psi_i,$$\n",
    "with some coefficients $c_i$. Therefore,\n",
    "$$\n",
    "e^{(k+1)} = T^{k} e^{(0)} = \\sum_{i} c_i\\lambda_i^k \\psi_i\n",
    "$$"
   ]
  },
  {
   "cell_type": "markdown",
   "metadata": {
    "slideshow": {
     "slide_type": "fragment"
    }
   },
   "source": [
    "Now the goal is to show that $\\lambda_i^k$ decays fast enough with respect to $k$ when, for instance, $i>N/2$ (high-frequecy part of the spectrum). Indeed, \n",
    "$$\n",
    "| \\lambda_i(T)| = |1 - \\frac{h^2}{4}\\lambda_k(A_h)|<({\\bf\\text{show why}})<\\frac{1}{2},\\quad \\text{when}\\quad k>N/2 \n",
    "$$\n",
    "So, the high-frequency part of the error ($k>N/2$) becomes at least <font color='red'> 2 times smaller on each iteration </font>.m"
   ]
  },
  {
   "cell_type": "code",
   "execution_count": 4,
   "metadata": {
    "collapsed": false,
    "slideshow": {
     "slide_type": "slide"
    }
   },
   "outputs": [
    {
     "data": {
      "text/plain": [
       "<matplotlib.legend.Legend at 0x7f429be30050>"
      ]
     },
     "execution_count": 4,
     "metadata": {},
     "output_type": "execute_result"
    },
    {
     "data": {
      "image/png": "[encoded data removed]",
      "text/plain": [
       "<matplotlib.figure.Figure at 0x7f42a241c190>"
      ]
     },
     "metadata": {},
     "output_type": "display_data"
    }
   ],
   "source": [
    "%matplotlib inline\n",
    "import numpy as np\n",
    "import matplotlib.pyplot as plt\n",
    "import scipy as sp\n",
    "import scipy.sparse\n",
    "import scipy.sparse.linalg as spla\n",
    "import scipy\n",
    "from scipy.sparse import csc_matrix\n",
    "\n",
    "n = 80\n",
    "ex = np.ones(n);\n",
    "lp1 = n**2 * sp.sparse.spdiags(np.vstack((ex,  -2*ex, ex)), [-1, 0, 1], n, n, 'csr'); \n",
    "rhs = np.ones(n)\n",
    "ev1, vec = spla.eigs(lp1, k=4, which='LR')\n",
    "ev2, vec = spla.eigs(lp1, k=4, which='SR')\n",
    "lam_max = ev1[0]\n",
    "lam_min = ev2[0]\n",
    "\n",
    "tau_opt = np.real(2.0/(lam_max + lam_min))\n",
    "\n",
    "sol = spla.spsolve(lp1, rhs)\n",
    "niters = 1000\n",
    "x = 0.2*np.random.random(n) #random x0 to add high frequencies to the error\n",
    "err_all = []\n",
    "grid = np.linspace(0, 1, n)\n",
    "for i in xrange(niters):\n",
    "    rr = lp1.dot(x) - rhs\n",
    "    x = x - tau_opt * rr\n",
    "    err = spla.spsolve(lp1, rr)\n",
    "    err_all.append(err)\n",
    "init, = plt.plot(grid, err_all[0])\n",
    "smooth, = plt.plot(grid, err_all[200])\n",
    "plt.legend([init, smooth], ['No smoothing', '200 iterations'])\n",
    "\n",
    "#x = np.linspace(0, 1, n)\n",
    "#def set_cursor(i):\n",
    "#    plt.ylim(0, 1.1*np.max(err_all[0]))\n",
    "#    plt.plot(x, err_all[i])\n",
    "#    plt.xlabel('space')\n",
    "#    plt.ylabel('error[i]')\n",
    "#    plt.title('Error smoothing')\n",
    "#from IPython.html.widgets import interact\n",
    "#interact(set_cursor, i=(0, niters-1, 5))"
   ]
  },
  {
   "cell_type": "markdown",
   "metadata": {
    "slideshow": {
     "slide_type": "slide"
    }
   },
   "source": [
    "## Geometric Multigrid\n",
    "\n",
    "Now we know that in an iterative processes \n",
    "* High-frequecies (k>N/2) in error decay twice at each iteration \n",
    "* Low-frequencies in error decay really slow\n",
    "\n",
    "But, we can approximate **smooth error vector on coarser grids**!\n",
    "\n",
    "Equation on error: $A_h e_{h} = r_h $, where $r_h = f_h - A_h u$ is residual. Given $e_h$ we can simply get $u_h = e_h + u$"
   ]
  },
  {
   "cell_type": "markdown",
   "metadata": {
    "slideshow": {
     "slide_type": "slide"
    }
   },
   "source": [
    "## A Two-Grid Cycle (almost multigrid :)) \n",
    "\n",
    "1. **Smoothing.** Do several iterations (say 2-3 Jacobi iterations) to reach $u$ with smooth $e_h = u - u_h$\n",
    "2. **Restriction.** Restrict the residual $r_h = f_h - A u _h$ to the coarser grid $r_{2h} = Rr_h$\n",
    "3. Solve $A_{2h} e_{2h} = r_{2h}$\n",
    "4. **Prolongarion** (Interpolation). $e_h \\approx P e_{2h}$\n",
    "5. $u:= e_{h} + u$, then repeat from 1 if necesarry\n",
    "\n",
    "Here \n",
    "* $R$ - restriction matrix\n",
    "* $P$ - prolongation matrix"
   ]
  },
  {
   "cell_type": "markdown",
   "metadata": {
    "slideshow": {
     "slide_type": "fragment"
    }
   },
   "source": [
    "For the 1D case, N = 7:\n",
    "$$\n",
    "   P = \n",
    " \\frac{1}{2}\n",
    "\\begin{pmatrix}\n",
    "1& \\\\\n",
    "2& \\\\\n",
    "1& 1& \\\\\n",
    " & 2& \\\\ \n",
    " & 1& 1 \\\\\n",
    " &  & 2 \\\\ \n",
    " &  & 1\n",
    "\\end{pmatrix},\n",
    "\\quad\n",
    "R = \\frac{1}{2} P^{T}\n",
    "$$"
   ]
  },
  {
   "cell_type": "markdown",
   "metadata": {
    "slideshow": {
     "slide_type": "slide"
    }
   },
   "source": [
    "## 2D case\n",
    "In the 2D case, which is analogous, we can use **stencil notation** and **bilinear interpolation**:\n",
    "$$\n",
    " P_{2D} = P\\otimes P, \\quad R_{2D} = R\\otimes R\\equiv \\frac{1}{4}P_{2D}^{T}, \n",
    "$$\n",
    "which corresponds to the following stencils\n",
    "\n",
    "$$\n",
    "\\text{Restriction:}\\quad\n",
    "\\begin{bmatrix}\n",
    "  \\frac{1}{16} & \\frac{1}{8} & \\frac{1}{16} \\\\\n",
    "  \\frac{1}{8} & \\frac{1}{4} & \\frac{1}{8} \\\\\n",
    "  \\frac{1}{16} & \\frac{1}{8} & \\frac{1}{16} \n",
    "\\end{bmatrix}.\n",
    "\\quad\n",
    "\\text{Prolongation:} \\quad\n",
    "\\begin{bmatrix}\n",
    "  \\frac{1}{4} & \\frac{1}{2} & \\frac{1}{4} \\\\\n",
    "  \\frac{1}{2} & 1 & \\frac{1}{2} \\\\\n",
    "  \\frac{1}{4} & \\frac{1}{2} & \\frac{1}{4} \n",
    "\\end{bmatrix}.\n",
    "$$\n",
    "\n",
    "$A_{2h}$ can be chosen either as an operator on a coarser grid (from differetial formulation) or as Galerkin projection $R A_h P$."
   ]
  },
  {
   "cell_type": "markdown",
   "metadata": {
    "slideshow": {
     "slide_type": "slide"
    }
   },
   "source": [
    "##  Finally... Multigrid\n",
    "\n",
    "Multigrid need not stop at two grids! \n",
    "\n",
    "To find error on $2h$ we can go to $4h$ and so on. However, there are several different ways to go through grid levels.\n",
    "\n",
    "<img width=\"700\" src=\"pic/mg-cycle.jpg\" />\n",
    "[<a href=\"http://cvsp.cs.ntua.gr/research/gac/\">source</a>]\n",
    "\n",
    "1. **V-cycle**. Straightforward generalization of the two-grid cycle\n",
    "2. **W-cycle**. On each coarse grid level V-cycle is called twice\n",
    "3. **F-cycle** (full multigrid, FMG). Starts from the coarsest grid. Then prolongates to the next level to get a good initial approximation to run V-cycle\n",
    "\n",
    "<!---\n",
    "4. **S-cycle** (sawtooth cycle). No smoothing during restriction. Then starts from the coarsest grid and does prolongation procedures as it was in the V-cycle\n",
    "-->\n",
    "\n",
    "**W-cycle** is typically superior to a **V-cycle**. At the same time the **F-cycle** is asymptotically better than $V$ or $W$."
   ]
  },
  {
   "cell_type": "markdown",
   "metadata": {
    "slideshow": {
     "slide_type": "slide"
    }
   },
   "source": [
    "## Complexity of one cycle\n",
    "\n",
    "Let $d$ be dimension of a problem. Then comutational cost of one cycle is\n",
    "* V-cycle: $\\mathcal{O} \\left(N (1+2^{-d}+2^{-2d} + 2^{-3d} + \\dots  )\\right) = \\mathcal{O} \\left(\\frac{N}{1 - 2^{-d}}\\right)$\n",
    "* F-cycle: $\\mathcal{O} \\left(\\frac{N}{1 - 2^{-d}} (1+2^{-d}+2^{-2d} + 2^{-3d} + \\dots  )\\right) = \\mathcal{O} \\left(\\frac{N}{(1 - 2^{-d})^2}\\right)$"
   ]
  },
  {
   "cell_type": "markdown",
   "metadata": {
    "slideshow": {
     "slide_type": "slide"
    }
   },
   "source": [
    "## Implementing things\n",
    "\n",
    "What do you need to know to implement the multigrid?\n",
    "\n",
    "First of all, you need to solve\n",
    "\n",
    "$$A_h u_h = f_h.$$\n",
    "\n",
    "You also need to have $P_h$, $R_h$, $A_{2h}$ - prolongation, restriction, coarse grid operator.\n",
    "\n",
    "In a **geometric setting** you know the grids, you know coarse-grid discretization, you know prolongation/restriction operators (the latter is typically a bilinear operator)."
   ]
  },
  {
   "cell_type": "markdown",
   "metadata": {
    "slideshow": {
     "slide_type": "slide"
    }
   },
   "source": [
    "## Reducing the implementation cost\n",
    "\n",
    "First of all, if we know the restriction operator (from fine to coarse mesh),\n",
    "\n",
    "we can select\n",
    "\n",
    "$$P_h = R^{\\top}_h.$$\n",
    "\n",
    "Moreover, the coarse mesh operator can be written down as the **Galerkin projection**\n",
    "\n",
    "$$A_{2h} = P_h A_h R_h = P_h A_h P^{\\top}_h.$$\n",
    "\n",
    "The only requirement is that the **sparsity pattern** of $A_{2h}$ does not grow."
   ]
  },
  {
   "cell_type": "markdown",
   "metadata": {
    "slideshow": {
     "slide_type": "slide"
    }
   },
   "source": [
    "## Selection the prolongation operator\n",
    "\n",
    "Thus, the crucial choice is the choice of restriction operator.\n",
    "\n",
    "Note, that if we use uniform grid in 2D and $3 \\times 3$ stencil, using \n",
    "\n",
    "$3 \\times 3$ stencil for the restriction operator gives for the Galerkin projection also the $3 \\times 3$ stencil.\n",
    "\n",
    "\n",
    "$$P= \\frac{1}{4} \\begin{bmatrix} 1 & 2 & 1 \\end{bmatrix} \\begin{bmatrix} 1 \\\\ 2 \\\\ 1 \\end{bmatrix}. $$\n",
    "\n",
    "However, this scheme stops to work if we have the problem\n",
    "\n",
    "$$A u = \\nabla \\cdot k \\nabla u = f,$$\n",
    "\n",
    "with piecewise-constant $k$ with large jumps.\n",
    "\n",
    "Another issue is the **convection-diffusion problems**, which lead to non-symmetric matrices."
   ]
  },
  {
   "cell_type": "markdown",
   "metadata": {
    "slideshow": {
     "slide_type": "slide"
    }
   },
   "source": [
    "## Solution: take coefficient-adaptive restriction operator!\n",
    "\n",
    "Scheme: take the coefficient $k$, construct $P$.\n",
    "\n",
    "One of the  efficient schemes was proposed by de Zeeuw,\n",
    "\n",
    "[Matrix-dependent prolongations and restrictions in a blackbox multigrid solver](http://www.sciencedirect.com/science/article/pii/037704279090252U)\n",
    "\n",
    "And it can be formulated as the representation of the prolongation operator in the Kronecker-product form\n",
    "\n",
    "which in the stencil form can be written as\n",
    "\n",
    "$$P \\approx p q^{\\top}.$$"
   ]
  },
  {
   "cell_type": "markdown",
   "metadata": {
    "slideshow": {
     "slide_type": "slide"
    }
   },
   "source": [
    "## Note on the convergence\n",
    "\n",
    "For a two-grid method, we have ($S$ is the smoother iteration).\n",
    "\n",
    "$$u^{(new)}_h = S^{\\nu_1} u_h + g_h,$$\n",
    "\n",
    "$$r_h = g' - A_h S^{\\nu_1} u_h, \\quad, r_{2h} = g'' - R A_h S^{\\nu_1} u_h, \\quad e_{2h} = g''' - A^{-1}_{2h}  R A_h S^{\\nu_1} u_h, $$\n",
    "\n",
    "and\n",
    "\n",
    "the new iteration\n",
    "$$u^{(next)}_h = u_h + \\widehat{g} - P A^{-1}_{2h} R A_h S^{\\nu_1} u_h,$$\n",
    "\n",
    "i.e. the iteration matrix has the form\n",
    "\n",
    "$$M(\\nu_1) =  I - P A^{-1}_{2h} R A_h S^{\\nu_1}.$$\n",
    "\n",
    "If this matrix has bounded norm, the whole process can be modified to get grid-independent convergence."
   ]
  },
  {
   "cell_type": "markdown",
   "metadata": {
    "slideshow": {
     "slide_type": "slide"
    }
   },
   "source": [
    "## Simple theory\n",
    "\n",
    "Two properties are needed:\n",
    "\n",
    "1. Approximation: $\\Vert A^{-1}_h - P A^{-1}_{2h} R \\Vert \\leq C_A \\Vert A^{-1}_h \\Vert$\n",
    "2. Smoothing property: $\\Vert A_h S^{\\nu} \\Vert \\leq \\nu(v) \\Vert A_h \\Vert.$\n",
    "\n",
    " \n",
    " \n",
    " Then we have $\\Vert M(\\nu_1) \\Vert \\leq C.$\n",
    " \n",
    " The proof is trivial: $I - P A^{-1}_{2h} R A_h S^{\\nu_1} = \\left(A^{-1}_h - P A^{-1}_{2h} R \\right) A_h S^{\\nu_1}.$"
   ]
  },
  {
   "cell_type": "markdown",
   "metadata": {
    "slideshow": {
     "slide_type": "slide"
    }
   },
   "source": [
    "\n",
    "## Summary\n",
    "- Starting the multigrid, basic idea"
   ]
  },
  {
   "cell_type": "markdown",
   "metadata": {
    "slideshow": {
     "slide_type": "slide"
    }
   },
   "source": [
    "## Next lecture\n",
    "- Multigrid, implementation details"
   ]
  },
  {
   "cell_type": "code",
   "execution_count": 40,
   "metadata": {
    "collapsed": false,
    "slideshow": {
     "slide_type": "skip"
    }
   },
   "outputs": [
    {
     "data": {
      "text/html": [
       "<link href='http://fonts.googleapis.com/css?family=Fenix' rel='stylesheet' type='text/css'>\n",
       "<link href='http://fonts.googleapis.com/css?family=Alegreya+Sans:100,300,400,500,700,800,900,100italic,300italic,400italic,500italic,700italic,800italic,900italic' rel='stylesheet' type='text/css'>\n",
       "<link href='http://fonts.googleapis.com/css?family=Source+Code+Pro:300,400' rel='stylesheet' type='text/css'>\n",
       "<style>\n",
       "    @font-face {\n",
       "        font-family: \"Computer Modern\";\n",
       "        src: url('http://mirrors.ctan.org/fonts/cm-unicode/fonts/otf/cmunss.otf');\n",
       "    }\n",
       "    div.cell{\n",
       "        /*width:80%;*/\n",
       "        /*margin-left:auto !important;\n",
       "        margin-right:auto;*/\n",
       "    }\n",
       "    h1 {\n",
       "        font-family: 'Alegreya Sans', sans-serif;\n",
       "    }\n",
       "    h2 {\n",
       "        font-family: 'Fenix', serif;\n",
       "    }\n",
       "    h3{\n",
       "\t\tfont-family: 'Fenix', serif;\n",
       "        margin-top:12px;\n",
       "        margin-bottom: 3px;\n",
       "       }\n",
       "\th4{\n",
       "\t\tfont-family: 'Fenix', serif;\n",
       "       }\n",
       "    h5 {\n",
       "        font-family: 'Alegreya Sans', sans-serif;\n",
       "    }\t   \n",
       "    div.text_cell_render{\n",
       "        font-family: 'Alegreya Sans',Computer Modern, \"Helvetica Neue\", Arial, Helvetica, Geneva, sans-serif;\n",
       "        line-height: 1.2;\n",
       "        font-size: 120%;\n",
       "        /*width:70%;*/\n",
       "        /*margin-left:auto;*/\n",
       "        margin-right:auto;\n",
       "    }\n",
       "    .CodeMirror{\n",
       "            font-family: \"Source Code Pro\";\n",
       "\t\t\tfont-size: 90%;\n",
       "    }\n",
       "/*    .prompt{\n",
       "        display: None;\n",
       "    }*/\n",
       "    .text_cell_render h1 {\n",
       "        font-weight: 200;\n",
       "        font-size: 50pt;\n",
       "\t\tline-height: 110%;\n",
       "        color:#CD2305;\n",
       "        margin-bottom: 0.5em;\n",
       "        margin-top: 0.5em;\n",
       "        display: block;\n",
       "    }\t\n",
       "    .text_cell_render h5 {\n",
       "        font-weight: 300;\n",
       "        font-size: 16pt;\n",
       "        color: #CD2305;\n",
       "        font-style: italic;\n",
       "        margin-bottom: .5em;\n",
       "        margin-top: 0.5em;\n",
       "        display: block;\n",
       "    }\n",
       "    \n",
       "    li {\n",
       "        line-height: 110%;\n",
       "    }\n",
       "    .warning{\n",
       "        color: rgb( 240, 20, 20 )\n",
       "        }  \n",
       "</style>\n",
       "<script>\n",
       "    MathJax.Hub.Config({\n",
       "                        TeX: {\n",
       "                           extensions: [\"AMSmath.js\"]\n",
       "                           },\n",
       "                tex2jax: {\n",
       "                    inlineMath: [ ['$','$'], [\"\\\\(\",\"\\\\)\"] ],\n",
       "                    displayMath: [ ['$$','$$'], [\"\\\\[\",\"\\\\]\"] ]\n",
       "                },\n",
       "                displayAlign: 'center', // Change this to 'center' to center equations.\n",
       "                \"HTML-CSS\": {\n",
       "                    styles: {'.MathJax_Display': {\"margin\": 4}}\n",
       "                }\n",
       "        });\n",
       "</script>\n"
      ],
      "text/plain": [
       "<IPython.core.display.HTML object>"
      ]
     },
     "execution_count": 40,
     "metadata": {},
     "output_type": "execute_result"
    }
   ],
   "source": [
    "from IPython.core.display import HTML\n",
    "def css_styling():\n",
    "    styles = open(\"./styles/custom.css\", \"r\").read()\n",
    "    return HTML(styles)\n",
    "css_styling()"
   ]
  },
  {
   "cell_type": "code",
   "execution_count": null,
   "metadata": {
    "collapsed": true
   },
   "outputs": [],
   "source": []
  }
 ],
 "metadata": {
  "celltoolbar": "Slideshow",
  "kernelspec": {
   "display_name": "Python 2",
   "language": "python",
   "name": "python2"
  },
  "language_info": {
   "codemirror_mode": {
    "name": "ipython",
    "version": 2
   },
   "file_extension": ".py",
   "mimetype": "text/x-python",
   "name": "python",
   "nbconvert_exporter": "python",
   "pygments_lexer": "ipython2",
   "version": "2.7.11"
  }
 },
 "nbformat": 4,
 "nbformat_minor": 0
}
