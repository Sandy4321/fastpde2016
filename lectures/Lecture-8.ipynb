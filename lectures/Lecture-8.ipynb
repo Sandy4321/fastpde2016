{
 "cells": [
  {
   "cell_type": "code",
   "execution_count": null,
   "metadata": {
    "collapsed": false,
    "slideshow": {
     "slide_type": "skip"
    }
   },
   "outputs": [],
   "source": [
    "from IPython.html.services.config import ConfigManager\n",
    "from IPython.utils.path import locate_profile\n",
    "cm = ConfigManager(profile_dir=locate_profile(get_ipython().profile))\n",
    "cm.update('livereveal', {\n",
    "              'theme': 'sky',\n",
    "              'transition': 'zoom',\n",
    "              'start_slideshow_at': 'selected',\n",
    "})"
   ]
  },
  {
   "cell_type": "markdown",
   "metadata": {
    "slideshow": {
     "slide_type": "slide"
    }
   },
   "source": [
    "# Lecture 8. PDEs and sparse matrices"
   ]
  },
  {
   "cell_type": "markdown",
   "metadata": {
    "slideshow": {
     "slide_type": "slide"
    }
   },
   "source": [
    "## Previous lecture\n",
    "- Properties of the H-matrices\n",
    "- Block matrix inversion\n",
    "- Nullity theorem"
   ]
  },
  {
   "cell_type": "markdown",
   "metadata": {
    "slideshow": {
     "slide_type": "slide"
    }
   },
   "source": [
    "## Todays lecture\n",
    "- Where the sparse matrices come from\n",
    "- A brief reminder: how to store a sparse matrix\n",
    "- How to multiply it by vector\n",
    "- How to solver linear systems with sparse matrices fast."
   ]
  },
  {
   "cell_type": "markdown",
   "metadata": {
    "slideshow": {
     "slide_type": "slide"
    }
   },
   "source": [
    "## PDEs\n",
    "\n",
    "Partial differential equations (PDEs) are ubiquitous in mathematical modelling\n",
    "\n",
    "From simple linear PDEs to more compicated nonlinear cases:\n",
    "\n",
    "diffusion, heat conducation, fluid dynamics, reaction-diffusion, etc."
   ]
  },
  {
   "cell_type": "markdown",
   "metadata": {
    "slideshow": {
     "slide_type": "slide"
    }
   },
   "source": [
    "## Sparse matrices\n",
    "\n",
    "After any convenient **local discretization**,  i.e.\n",
    "\n",
    "- Galerkin method with local basis function (finite element method, FEM)\n",
    "- Finite difference method\n",
    "- Finite volume method \n",
    "\n",
    "We get matrices with **a lot of zeros**, typically called **sparse matrices**."
   ]
  },
  {
   "cell_type": "markdown",
   "metadata": {
    "slideshow": {
     "slide_type": "slide"
    }
   },
   "source": [
    "## Sparse vs Dense matrices\n",
    "\n",
    "- [Wilkinson] a sparse matrix is a matrix with enough zeros that is worth taking advantage of them\n",
    "- A **structured matrix** has enough structure that is worthwhile using it (i.e., Toeplitz + FFT)\n",
    "- A dense matrix is neither sparse nor structured."
   ]
  },
  {
   "cell_type": "markdown",
   "metadata": {
    "slideshow": {
     "slide_type": "slide"
    }
   },
   "source": [
    "## Design of sparse matrix data structure\n",
    "\n",
    "- Most operations should give the same result for dense and sparse\n",
    "- Storage should be $\\mathcal{O}(\\mathrm{nonzeros})$.\n",
    "- Time for a sparse matrix operations should be $\\mathcal{O}(\\mathrm{nflops})$ \n",
    "\n",
    "The last requirement basically means fewer cache misses."
   ]
  },
  {
   "cell_type": "markdown",
   "metadata": {
    "slideshow": {
     "slide_type": "slide"
    }
   },
   "source": [
    "## Storing a sparse matrix\n",
    "\n",
    "That we already discussed in detail in a separate lecture in the NLA course. However, let us repeat a little bit.\n",
    "\n",
    "- Coordinate storage, $(i, j)$ array. \n",
    "- Compressed sparse row formata, $(ia, ja, sa)$ format.\n",
    "- There is also compressed row storage\n",
    "\n",
    "What is good for what?"
   ]
  },
  {
   "cell_type": "markdown",
   "metadata": {
    "slideshow": {
     "slide_type": "slide"
    }
   },
   "source": [
    "## Matrix-by-vector product\n",
    "\n",
    "The matrix-by-vector product is very easy to be implemented in the compressed sparse row format:\n",
    "\n",
    "``\n",
    "for i in range(n):\n",
    "       for k in range(ia[i]:ia[i+1]):\n",
    "           y[i] += sa[k] * x[ja[k]]\n",
    "``"
   ]
  },
  {
   "cell_type": "markdown",
   "metadata": {
    "slideshow": {
     "slide_type": "slide"
    }
   },
   "source": [
    "## Summary of CSR\n",
    "\n",
    "- CSR is good for matrix-by-vector product\n",
    "- Insertion  of new elements is very expensive."
   ]
  },
  {
   "cell_type": "markdown",
   "metadata": {
    "slideshow": {
     "slide_type": "slide"
    }
   },
   "source": [
    "## Efficiency of sparse matrix operations\n",
    "\n",
    "Sparse matrix operations are mostly about **memory access**, not about operations, thus the efficiency in flops is typically very low;\n",
    "\n",
    "thus, efficiency of order 10-15\\% is considered **high**.\n",
    "\n",
    "Let us test it."
   ]
  },
  {
   "cell_type": "code",
   "execution_count": 41,
   "metadata": {
    "collapsed": false,
    "slideshow": {
     "slide_type": "slide"
    }
   },
   "outputs": [
    {
     "name": "stdout",
     "output_type": "stream",
     "text": [
      "Time:  1.5e-02, Efficiency:  2.1e+00 Gflops\n"
     ]
    }
   ],
   "source": [
    "import numpy as np\n",
    "import time\n",
    "n = 4000\n",
    "a = np.random.randn(n, n)\n",
    "v = np.random.randn(n)\n",
    "t = time.time()\n",
    "np.dot(a, v)\n",
    "t = time.time() - t\n",
    "print('Time: {0: 3.1e}, Efficiency: {1: 3.1e} Gflops'.\\\n",
    "      format(t,  ((2 * n ** 2)/t) / 10 ** 9))\n"
   ]
  },
  {
   "cell_type": "code",
   "execution_count": 51,
   "metadata": {
    "collapsed": false,
    "slideshow": {
     "slide_type": "slide"
    }
   },
   "outputs": [
    {
     "name": "stdout",
     "output_type": "stream",
     "text": [
      "Time:  2.6e-03, Efficiency:  4.7e-01 Gflops\n"
     ]
    }
   ],
   "source": [
    "import scipy as sp\n",
    "import scipy.sparse\n",
    "n = 4000\n",
    "r = 100\n",
    "ex = np.ones(n);\n",
    "a = sp.sparse.spdiags(np.vstack((ex,  -2*ex, ex)), [-1, 0, 1], n, n, 'csr'); \n",
    "rhs = np.random.randn(n, r)\n",
    "t = time.time()\n",
    "a.dot(rhs)\n",
    "t = time.time() - t\n",
    "print('Time: {0: 3.1e}, Efficiency: {1: 3.1e} Gflops'.\\\n",
    "      format(t,  (3 * n * r) / t / 10 ** 9))\n"
   ]
  },
  {
   "cell_type": "markdown",
   "metadata": {
    "slideshow": {
     "slide_type": "slide"
    }
   },
   "source": [
    "## Morale\n",
    "The computational time is smaller, the computatational efficiency is also smaller."
   ]
  },
  {
   "cell_type": "markdown",
   "metadata": {
    "slideshow": {
     "slide_type": "slide"
    }
   },
   "source": [
    "## Possible solutions\n",
    "\n",
    "- Use blocking\n",
    "- Use block matrix-by-vector product (multiply at once)"
   ]
  },
  {
   "cell_type": "markdown",
   "metadata": {
    "slideshow": {
     "slide_type": "slide"
    }
   },
   "source": [
    "## What are FastPDE methods about\n",
    "\n",
    "- They are typically methods for large sparse linear systemse \n",
    "- These systems have **certain additional structure**, i.e. it is not a random **sparse matrix** (for example, not an adjacency matrix of a Facebook graph, although some algorithms can be reused). "
   ]
  },
  {
   "cell_type": "markdown",
   "metadata": {
    "slideshow": {
     "slide_type": "slide"
    }
   },
   "source": [
    "## Typical problems we need to solve\n",
    "\n",
    "- Solving linear systems, $Ax = f$, heat transfer, computational fluid dynamics, mass transfer\n",
    "- Solving eigenvalue problems, $A x_i = \\lambda x_i$.\n",
    "- Computing matrix functions, i.e. $y = e^{At} y_0$.\n",
    "\n",
    "The barebone problem is the problem of solving linear systems. \n",
    "\n",
    "The matrix-by-vector product is **easy**, but the matrix is typically **ill-conditioned**, thus all the methods will converge slowly, and **preconditioners** are needed."
   ]
  },
  {
   "cell_type": "markdown",
   "metadata": {
    "slideshow": {
     "slide_type": "slide"
    }
   },
   "source": [
    "## Fast direct solvers\n",
    "\n",
    "One of the research directions for solving sparse linear systems.\n",
    "\n",
    "$$A x = f,$$\n",
    "\n",
    "with a given **sparse matrix $A$**\n",
    "\n",
    "are so-called **direct solvers** which try to factorize the matrix $A$.\n",
    "\n",
    "The simplest decomposition is the **sparse LU** factorization of the form\n",
    "\n",
    "$$A = LU,$$\n",
    "\n",
    "where $L$ is **sparse lower triangular**, and $U$ is **sparse upper triangular**."
   ]
  },
  {
   "cell_type": "markdown",
   "metadata": {
    "slideshow": {
     "slide_type": "slide"
    }
   },
   "source": [
    "## Sparse Gaussian elimination and graphs\n",
    "\n",
    "The crucial concept to analyze the efficiency of sparse matrix factorization is the **sparse matrix graph**.\n",
    "\n",
    "The graph of the sparse matrix has vertices $i$, and the edge exists if $A_{ij} \\ne 0$.\n",
    "\n",
    "The pattern of the $L$ factor can be inferred from the **symbolic** operations in the sparse matrix graph."
   ]
  },
  {
   "cell_type": "markdown",
   "metadata": {
    "slideshow": {
     "slide_type": "slide"
    }
   },
   "source": [
    "## Graph of the sparse matrix\n",
    "\n",
    "For simplicity, consider **Cholesky factorization** for a **symmetric positive-definite matrix** $A$:\n",
    "\n",
    "$$A = LL^{\\top}.$$\n",
    "\n",
    "The positions of non-zero elements can be inferred from the code\n",
    "\n",
    "```\n",
    "for j from 1 to N:\n",
    "   Add edges between j's higher-order neighbors\n",
    "```\n",
    "\n",
    "<img src='pic/screen.png'>"
   ]
  },
  {
   "cell_type": "markdown",
   "metadata": {
    "slideshow": {
     "slide_type": "slide"
    }
   },
   "source": [
    "## Permutation selection\n",
    "The efficiency of the elimination (fill-in) crucially depends on the order of eliminated variables. \n",
    "\n",
    "For one order you get sparse factorization, for another - dense factors.\n",
    "\n",
    "In fact, for a Cholesky factorization you compute\n",
    "\n",
    "$$A = P L L^{\\top} P^{\\top},$$\n",
    "\n",
    "where $P$ is a **permutation matrix**."
   ]
  },
  {
   "cell_type": "markdown",
   "metadata": {
    "slideshow": {
     "slide_type": "slide"
    }
   },
   "source": [
    "## 2D model problem\n",
    "\n",
    "- 2D model problem: Poisson equation on $n \\times n$ finite-difference grid\n",
    "- Total number of unknowns $n^2 = N$\n",
    "- Theoretical results from the fill-in:\n",
    "  - Natural (no) permutation: $\\mathcal{O}(N^{3/2})$\n",
    "  - Random permutation: expected value is $\\mathcal{O}(N \\log N)$\n",
    "  - Nested dissection permutation: $\\mathcal{O}(N)$.\n",
    "  \n",
    "  By **fill-in** I mean the number of non-zeros in the $L$ factor."
   ]
  },
  {
   "cell_type": "markdown",
   "metadata": {},
   "source": [
    "## Nested dissection ordering\n",
    "\n",
    " A separator in a graph $G$ is a set $S$ of vertices whose removal leaves at\n",
    "least two connected components\n",
    "- A nested dissection ordering for an $N$-vertex graph $G$ numbers its\n",
    "vertices from $1$ to $N$ as follows:\n",
    "- Find a separator $S$, whose removal leaves connected components\n",
    "$T_1$, $T_2$, $\\ldots$, $T_k$\n",
    "- Number the vertices of $S$ from $N − |S| + 1$ to $N$\n",
    "- Recursively, number the vertices of each component: $T_1$ from $1$ to\n",
    "$|T_1|$, $T_2$ from $|T_1| + 1$ to $|T_1| + |T_2|$, etc\n",
    "- If a component is small enough, number it arbitrarily\n",
    "\n",
    "It all boils down to finding good separators! "
   ]
  },
  {
   "cell_type": "markdown",
   "metadata": {
    "slideshow": {
     "slide_type": "slide"
    }
   },
   "source": [
    "## Nested dissection is \"approximately optimal\"\n",
    "\n",
    "From theory, nested dissection gives you optimal complexity. \n",
    "\n",
    "Again, there are other methods that win for medium-sized problems.\n",
    "\n",
    "They are based on **heuristic** matrix reordering techniques."
   ]
  },
  {
   "cell_type": "markdown",
   "metadata": {
    "slideshow": {
     "slide_type": "slide"
    }
   },
   "source": [
    "## Banded reordering\n",
    "\n",
    "Make the matrix more \"banded\" (Reverse Cuhill-McKee, Sloan, etc.). \n",
    "\n",
    "The idea is to try to keep entries closer to the diagonal. \n",
    "\n",
    "Works well for matrices coming from \"quasi-one dimensional\" PDEs.\n"
   ]
  },
  {
   "cell_type": "markdown",
   "metadata": {
    "slideshow": {
     "slide_type": "slide"
    }
   },
   "source": [
    "## Minimal degree orderings\n",
    "\n",
    "The idea is to eliminate rows and/or columns with fewer non-zeros, update fill-in and then repeat\n",
    "\n",
    "Efficient implementation is an issue (adding/removing elements).\n",
    "\n",
    "Current champion is \"approximate minimal degree\" by Amestoy, Davis, Duff.\n",
    "\n",
    "It is **suboptimal** even for 2D problems\n",
    "\n",
    "In practice, often wins for medium-sized problems."
   ]
  },
  {
   "cell_type": "markdown",
   "metadata": {
    "slideshow": {
     "slide_type": "slide"
    }
   },
   "source": [
    "## Nested dissection\n",
    "\n",
    "- Find a separator, number it last, proceed recursively.\n",
    "- In theory, optimal.\n",
    "- In practice, beats others for very large problems."
   ]
  },
  {
   "cell_type": "markdown",
   "metadata": {
    "slideshow": {
     "slide_type": "slide"
    }
   },
   "source": [
    "## Solving sparse matrices, coming from PDEs\n",
    "\n",
    "<img src='pic/complexity2.png' /img>"
   ]
  },
  {
   "cell_type": "markdown",
   "metadata": {
    "slideshow": {
     "slide_type": "slide"
    }
   },
   "source": [
    "## Separators in practice\n",
    "\n",
    "Computing separators is not a **trivial task**.\n",
    "\n",
    "Graph partitioning heuristics have been an active research area for many years, often motivated by partitioning for parallel computation.\n",
    "\n",
    "Existing approaches:\n",
    "\n",
    "- Spectral partitioning (uses eigenvectors of Laplacian matrix of graph)\n",
    "- Geometric partitioning (for meshes with specified vertex coordinates)\n",
    "- Iterative-swapping (Kernighan-Lin, Fiduccia-Matheysses)\n",
    "- Breadth-first search \n",
    "\n",
    "Many popular modern codes (e.g. Metis, Chaco) use multilevel iterative swapping."
   ]
  },
  {
   "cell_type": "markdown",
   "metadata": {
    "slideshow": {
     "slide_type": "slide"
    }
   },
   "source": [
    "## Iterative swapping\n",
    "\n",
    "The \"cost\" of the separator is defined in a very natural way as the sum over edges:\n",
    "\n",
    "$$T(A, B) = \\sum_{e} \\{ \\mbox{weight}(e): \\mbox{ $e$ connects $A$ and $B$} \\}.$$\n",
    "\n",
    "Given some initial partion, test some subsets $X$ and $Y$ of the same size, and if swapping decreases the cost function - swap them."
   ]
  },
  {
   "cell_type": "markdown",
   "metadata": {
    "slideshow": {
     "slide_type": "slide"
    }
   },
   "source": [
    "## Spectral bisection\n",
    "\n",
    "The idea of spectral bisection goes back to Fiedler.\n",
    "\n",
    "We introduce the **graph Laplacian** of the matrix, which is defined as as symmetric matrix\n",
    "\n",
    "that\n",
    "\n",
    "$$L_{ii} = \\mbox{degree of node $i$},$$\n",
    "\n",
    "$$L_{ij} = -1, \\mbox{if $i \\ne j$  and there is an edge},$$\n",
    "\n",
    "and $0$ otherwise.\n",
    "\n",
    "- Rows of $L$ sum to zero, thus there is an eigenvalue $1$, \n",
    "- Eigenvalues are non-negative.\n",
    "- The number of connected components of a graph is the number of **zero eigenvalues**\n"
   ]
  },
  {
   "cell_type": "markdown",
   "metadata": {
    "slideshow": {
     "slide_type": "slide"
    }
   },
   "source": [
    "## When to use sparse direct solvers\n",
    "\n",
    "- When to use sparse direct solvers?\n",
    "\n",
    "- They typically work well for 1D/2D problems and \"not so large\" 3D problems. The problem with memory becomes very harsh for 3D problems, thus other methods are needed."
   ]
  },
  {
   "cell_type": "markdown",
   "metadata": {
    "slideshow": {
     "slide_type": "slide"
    }
   },
   "source": [
    "## Structure of sparse matrices, coming from PDEs\n",
    "\n",
    "For a general sparse matrix, fast direct method is typically the method of choice.\n",
    "\n",
    "The a sparse matrix coming from a PDE, the rows/columns can be associated with **points** (elements) in a $d$-dimensional space, just like for the H-matrix case.\n",
    "\n",
    "This is an additional structure that can be used in many ways, for example by approximating factors using $H$-matrix case."
   ]
  },
  {
   "cell_type": "markdown",
   "metadata": {
    "slideshow": {
     "slide_type": "slide"
    }
   },
   "source": [
    "## Multigrid structure\n",
    "\n",
    "A very natural scheme for solving PDE is based on the **multigrid method**.\n",
    "\n",
    "The PDE is an equation, i.e.\n",
    "\n",
    "$$\\frac{\\partial^2 u}{\\partial x^2} + \\frac{\\partial^2 u}{\\partial y^2} = f, \\mbox{+ boundary conditions}.$$\n",
    "\n",
    "It can be discretized on a sequence of grids.\n",
    "\n",
    "The solutions are of course \"close\" to each other."
   ]
  },
  {
   "cell_type": "code",
   "execution_count": 55,
   "metadata": {
    "collapsed": false,
    "slideshow": {
     "slide_type": "slide"
    }
   },
   "outputs": [
    {
     "name": "stdout",
     "output_type": "stream",
     "text": [
      "Matrix size: 16384, time: 8.9e-02\n",
      "Matrix size: 65536, time: 5.6e-01\n",
      "Matrix size: 262144, time: 4.1e+00\n"
     ]
    },
    {
     "data": {
      "image/png": "[encoded data removed]",
      "text/plain": [
       "<matplotlib.figure.Figure at 0x7f4d9a84a850>"
      ]
     },
     "metadata": {},
     "output_type": "display_data"
    }
   ],
   "source": [
    "import numpy as np\n",
    "import scipy.sparse.linalg\n",
    "import matplotlib.pyplot as plt\n",
    "import seaborn as sns\n",
    "import time\n",
    "%matplotlib inline\n",
    "def get_system(n):\n",
    "    ex = np.ones(n);\n",
    "    a = sp.sparse.spdiags(np.vstack((ex,  -2*ex, ex)), [-1, 0, 1], n, n, 'csr'); \n",
    "    e1 = sp.sparse.eye(n)\n",
    "    lp2 = sp.sparse.kron(e1, a) + sp.sparse.kron(a, e1)\n",
    "    lp2 = lp2 * (n + 1) ** 2 #Do not forget.\n",
    "    return lp2, np.ones(n*n)\n",
    "n_all = [128, 256, 512]\n",
    "fig, ax = plt.subplots(1, len(n_all), figsize=(10, 3))\n",
    "for i, n in enumerate(n_all):\n",
    "    t = time.time()\n",
    "    mat, rhs = get_system(n)\n",
    "    sol = sp.sparse.linalg.spsolve(mat, rhs).reshape((n, n))\n",
    "    t = time.time() - t\n",
    "    print('Matrix size:{0: d}, time:{1: 3.1e}'.format(n*n, t))\n",
    "    ax[i].contourf(sol)"
   ]
  },
  {
   "cell_type": "markdown",
   "metadata": {
    "slideshow": {
     "slide_type": "slide"
    }
   },
   "source": [
    "## How to use this in solvers?\n",
    "\n",
    "Any ideas, how to use this multigrid hierarchy in solvers?\n",
    "\n",
    "Will a simple \"interpolate\" be enough?"
   ]
  },
  {
   "cell_type": "markdown",
   "metadata": {
    "slideshow": {
     "slide_type": "slide"
    }
   },
   "source": [
    "## Fast direct solvers and H-matrices\n",
    "\n",
    "I will describe our recent work."
   ]
  },
  {
   "cell_type": "markdown",
   "metadata": {
    "slideshow": {
     "slide_type": "slide"
    }
   },
   "source": [
    "\n",
    "## Summary\n",
    "- Sparse matrices are important\n",
    "- Fast direct solvers are often the method of choice for small-sized problems.\n",
    " "
   ]
  },
  {
   "cell_type": "markdown",
   "metadata": {
    "slideshow": {
     "slide_type": "slide"
    }
   },
   "source": [
    "## Next lecture\n",
    "- We will actually start the FastPDE course!"
   ]
  },
  {
   "cell_type": "code",
   "execution_count": 40,
   "metadata": {
    "collapsed": false,
    "slideshow": {
     "slide_type": "skip"
    }
   },
   "outputs": [
    {
     "data": {
      "text/html": [
       "<link href='http://fonts.googleapis.com/css?family=Fenix' rel='stylesheet' type='text/css'>\n",
       "<link href='http://fonts.googleapis.com/css?family=Alegreya+Sans:100,300,400,500,700,800,900,100italic,300italic,400italic,500italic,700italic,800italic,900italic' rel='stylesheet' type='text/css'>\n",
       "<link href='http://fonts.googleapis.com/css?family=Source+Code+Pro:300,400' rel='stylesheet' type='text/css'>\n",
       "<style>\n",
       "    @font-face {\n",
       "        font-family: \"Computer Modern\";\n",
       "        src: url('http://mirrors.ctan.org/fonts/cm-unicode/fonts/otf/cmunss.otf');\n",
       "    }\n",
       "    div.cell{\n",
       "        /*width:80%;*/\n",
       "        /*margin-left:auto !important;\n",
       "        margin-right:auto;*/\n",
       "    }\n",
       "    h1 {\n",
       "        font-family: 'Alegreya Sans', sans-serif;\n",
       "    }\n",
       "    h2 {\n",
       "        font-family: 'Fenix', serif;\n",
       "    }\n",
       "    h3{\n",
       "\t\tfont-family: 'Fenix', serif;\n",
       "        margin-top:12px;\n",
       "        margin-bottom: 3px;\n",
       "       }\n",
       "\th4{\n",
       "\t\tfont-family: 'Fenix', serif;\n",
       "       }\n",
       "    h5 {\n",
       "        font-family: 'Alegreya Sans', sans-serif;\n",
       "    }\t   \n",
       "    div.text_cell_render{\n",
       "        font-family: 'Alegreya Sans',Computer Modern, \"Helvetica Neue\", Arial, Helvetica, Geneva, sans-serif;\n",
       "        line-height: 1.2;\n",
       "        font-size: 120%;\n",
       "        /*width:70%;*/\n",
       "        /*margin-left:auto;*/\n",
       "        margin-right:auto;\n",
       "    }\n",
       "    .CodeMirror{\n",
       "            font-family: \"Source Code Pro\";\n",
       "\t\t\tfont-size: 90%;\n",
       "    }\n",
       "/*    .prompt{\n",
       "        display: None;\n",
       "    }*/\n",
       "    .text_cell_render h1 {\n",
       "        font-weight: 200;\n",
       "        font-size: 50pt;\n",
       "\t\tline-height: 110%;\n",
       "        color:#CD2305;\n",
       "        margin-bottom: 0.5em;\n",
       "        margin-top: 0.5em;\n",
       "        display: block;\n",
       "    }\t\n",
       "    .text_cell_render h5 {\n",
       "        font-weight: 300;\n",
       "        font-size: 16pt;\n",
       "        color: #CD2305;\n",
       "        font-style: italic;\n",
       "        margin-bottom: .5em;\n",
       "        margin-top: 0.5em;\n",
       "        display: block;\n",
       "    }\n",
       "    \n",
       "    li {\n",
       "        line-height: 110%;\n",
       "    }\n",
       "    .warning{\n",
       "        color: rgb( 240, 20, 20 )\n",
       "        }  \n",
       "</style>\n",
       "<script>\n",
       "    MathJax.Hub.Config({\n",
       "                        TeX: {\n",
       "                           extensions: [\"AMSmath.js\"]\n",
       "                           },\n",
       "                tex2jax: {\n",
       "                    inlineMath: [ ['$','$'], [\"\\\\(\",\"\\\\)\"] ],\n",
       "                    displayMath: [ ['$$','$$'], [\"\\\\[\",\"\\\\]\"] ]\n",
       "                },\n",
       "                displayAlign: 'center', // Change this to 'center' to center equations.\n",
       "                \"HTML-CSS\": {\n",
       "                    styles: {'.MathJax_Display': {\"margin\": 4}}\n",
       "                }\n",
       "        });\n",
       "</script>\n"
      ],
      "text/plain": [
       "<IPython.core.display.HTML object>"
      ]
     },
     "execution_count": 40,
     "metadata": {},
     "output_type": "execute_result"
    }
   ],
   "source": [
    "from IPython.core.display import HTML\n",
    "def css_styling():\n",
    "    styles = open(\"./styles/custom.css\", \"r\").read()\n",
    "    return HTML(styles)\n",
    "css_styling()"
   ]
  },
  {
   "cell_type": "code",
   "execution_count": null,
   "metadata": {
    "collapsed": true
   },
   "outputs": [],
   "source": []
  }
 ],
 "metadata": {
  "celltoolbar": "Slideshow",
  "kernelspec": {
   "display_name": "Python 2",
   "language": "python",
   "name": "python2"
  },
  "language_info": {
   "codemirror_mode": {
    "name": "ipython",
    "version": 2
   },
   "file_extension": ".py",
   "mimetype": "text/x-python",
   "name": "python",
   "nbconvert_exporter": "python",
   "pygments_lexer": "ipython2",
   "version": "2.7.11"
  }
 },
 "nbformat": 4,
 "nbformat_minor": 0
}
