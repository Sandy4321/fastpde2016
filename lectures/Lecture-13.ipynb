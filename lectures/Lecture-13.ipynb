{
 "cells": [
  {
   "cell_type": "code",
   "execution_count": null,
   "metadata": {
    "collapsed": false,
    "slideshow": {
     "slide_type": "skip"
    }
   },
   "outputs": [],
   "source": [
    "from IPython.html.services.config import ConfigManager\n",
    "from IPython.utils.path import locate_profile\n",
    "cm = ConfigManager(profile_dir=locate_profile(get_ipython().profile))\n",
    "cm.update('livereveal', {\n",
    "              'theme': 'sky',\n",
    "              'transition': 'zoom',\n",
    "              'start_slideshow_at': 'selected',\n",
    "})"
   ]
  },
  {
   "cell_type": "markdown",
   "metadata": {
    "slideshow": {
     "slide_type": "slide"
    }
   },
   "source": [
    "# Lecture 13. Sparse grids"
   ]
  },
  {
   "cell_type": "markdown",
   "metadata": {
    "slideshow": {
     "slide_type": "slide"
    }
   },
   "source": [
    "## (Approximate) Syllabus\n",
    "- **Week 1:** Intro & basic integral equations (turning PDEs into IEs, typical kernels, Nystrom, collocation, Galerkin, quadrature for singular/hypersingular integrals).\n",
    "- **Week 2:** Translation-invariant kernels and convolutions, FFT. Concept of close and far interactions precorrected FFT. Barnes-Hut method\n",
    "- **Week 3:**  Fast multipole methods. Algebraic analogue of fast multipole method, hierarchical matrices\n",
    "- **Week 4:**  Multigrid methods, domain decomposition, sparse grids"
   ]
  },
  {
   "cell_type": "markdown",
   "metadata": {
    "slideshow": {
     "slide_type": "slide"
    }
   },
   "source": [
    "## Previous lecture\n",
    "- Finalize fast direct solvers\n",
    "- Basics of Domain decomposition\n"
   ]
  },
  {
   "cell_type": "markdown",
   "metadata": {
    "slideshow": {
     "slide_type": "slide"
    }
   },
   "source": [
    "## Todays lecture\n",
    "\n",
    "- I will talk about sparse grids."
   ]
  },
  {
   "cell_type": "markdown",
   "metadata": {
    "slideshow": {
     "slide_type": "slide"
    }
   },
   "source": [
    "## History of sparse grids\n",
    "\n",
    "The idea of sparse grids was first proposed by **Smolyak** in the paper \n",
    "\n",
    "Смоляк А. С. Квадратурные и интерполяционные формулы на тензорных\n",
    "произведениях некоторых классов функций // Докл. АН СССР. — 1963. —\n",
    "Т. 148, № 5. — С. 1042–1053.\n",
    "\n",
    "Which was later popularized by German mathematicians in the 90-s"
   ]
  },
  {
   "cell_type": "markdown",
   "metadata": {
    "slideshow": {
     "slide_type": "slide"
    }
   },
   "source": [
    "## Model problem\n",
    "\n",
    "Consider a model problem\n",
    "\n",
    "\n",
    "$$ \\Delta u = f.$$\n",
    "\n",
    "We use rectangular elements and **uniform grids** with step sizes $h_x$ and $h_y$.\n",
    "\n",
    "\n",
    "We will use **different mode sizes**"
   ]
  },
  {
   "cell_type": "markdown",
   "metadata": {
    "slideshow": {
     "slide_type": "slide"
    }
   },
   "source": [
    "## Error expression \n",
    "\n",
    "The Taylor expression of the error with respect to the grid sizes gives all even  powers:\n",
    "\n",
    "$$u^{h_x, h_y} = u + h^2_x e^{2, 0} + h^2_y e^{0, 2} + h^4_x e^{0, 4} + h^4_y e^{4, 0} + h^2_x h^2_y e^{2, 2} + \\ldots$$\n",
    "\n",
    "The expressions $e^{i, j}$ depend on $x, y$ but neither on $h_x, h_y$."
   ]
  },
  {
   "cell_type": "markdown",
   "metadata": {
    "slideshow": {
     "slide_type": "slide"
    }
   },
   "source": [
    "## Richardson extrapolation\n",
    "\n",
    "In order to get the idea, where the sparse grids come from, we have to recall the concept of Richardson extrapolation.\n",
    "\n",
    "\n",
    "Suppose $h_x = h_y = h$ then.\n",
    "\n",
    "$$u_h = u + h^2 e_1 + h^4 e_2 + \\ldots. $$\n",
    "\n",
    "\n",
    "Then we can define **extrapolated solutions** as \n",
    "\n",
    "$$u^{h, h}_0 = u^{h, h},$$\n",
    "\n",
    "$$u^{h, h}_k = \\frac{2^{2k}}{2^{2k} - 1} I^{h, h}_{h/2, h/2} u^{h/2, h/2}_{k-1} + \\frac{1}{1 - 2^{2k}} u^{h, h}_{k-1},$$\n",
    "\n",
    "where $I$ is the **injection operator**.\n",
    "\n",
    "I.e., we solve on finer mesh, and bring it back to the coarse mesh and eliminate **high-order terms**.\n",
    "\n",
    "The order is then $\\mathcal{O}(h^{2k + 2}).$"
   ]
  },
  {
   "cell_type": "markdown",
   "metadata": {
    "slideshow": {
     "slide_type": "slide"
    }
   },
   "source": [
    "## Multivariate Richardson extrapolation\n",
    "\n",
    "The key idea of multivariate Richardson extrapolation is based on the idea of combining solutions on **coarser meshes** to remove higher-order terms:\n",
    "\n",
    "\n",
    "$$u^{h_x, h_y}_{extra} := \\sum_{i=0}^p \\sum_{j=0}^q \\alpha_{ij} I^{h_x, h_y}_{2^{-i} h_x, 2^{-j} h_y} u^{2^{-i} h_x, 2^{-j} h_y}.$$"
   ]
  },
  {
   "cell_type": "markdown",
   "metadata": {
    "slideshow": {
     "slide_type": "fragment"
    }
   },
   "source": [
    "## Example of multivariate Richardson\n",
    "For example, to eliminate $h^2_x$ and $h^2_y$ we may use a combination like\n",
    "\n",
    "$$u^{h_x, h_y}_{extra} = \\frac{4}{3} I^{h_x, h_y}_{h_x/2, h_y} u^{h_x/2, h_y} + \\frac{4}{3} I^{h_x, h_y}_{h_x, h_y/2} u^{h_x, h_y/2} u^{h_x, h_y/2} - \\frac{5}{3} u^{h_x, h_y}.$$ \n",
    "\n",
    "The error of the extrapolation scheme is \n",
    "\n",
    "$$\\mathcal{O}(h^2_x h^2_y + h^4_x + h^4_y).$$\n",
    "\n",
    "This modified scheme requires the solution of problems with $N$, $2N$ and $2N$ unknowns, whereas the **Richardson extrapolation**\n",
    "requires\n",
    "\n",
    "solution of a problem with $N$ unknowns and $4N$ unknowns (note the complexity!)\n"
   ]
  },
  {
   "cell_type": "markdown",
   "metadata": {
    "slideshow": {
     "slide_type": "slide"
    }
   },
   "source": [
    "## Multivariate interpolation(2)\n",
    "\n",
    "The multivariate interpolation has better complexity if we will **extrapolate many times**\n",
    "\n",
    "$$\\begin{bmatrix} 1 & h^2_x & h^4_x & h^6_x & \\ldots \\\\\n",
    " h^2_y & h^2_x h^2_y & \\ldots \\\\\n",
    " h^4_y & h^2_x h^4_y & \\ldots \\\\\n",
    " h^6_y & \\ldots \n",
    " \\end{bmatrix}\n",
    " $$\n",
    " \n",
    " And the approximate solution table has the form\n",
    " \n",
    "$$\\begin{bmatrix} u^{h_x, h_y} & u^{h_x/2, h_y} & u^{h_x/4, h_y} & u^{h_x/8, h_y} & \\ldots \\\\\n",
    " u^{h_x, h_y/2} & u^{h_x/2, h_y/2} & \\ldots \\\\\n",
    " u^{h_x, h_y/4} & u^{h_x/2, h_y/4} & \\ldots \\\\\n",
    " & \\ldots \n",
    " \\end{bmatrix}\n",
    " $$\n",
    " "
   ]
  },
  {
   "cell_type": "markdown",
   "metadata": {
    "slideshow": {
     "slide_type": "slide"
    }
   },
   "source": [
    " If we want to eliminate the error terms $h^{2i}_x, h^{2j}_y$ for $2i + 2j \\leq 2p,$\n",
    " \n",
    " using the triangular structure we can combine solutions\n",
    " \n",
    " $u^{h_x 2^{-i}, h_y 2^{-j}}$\n",
    " \n",
    " for $i + j \\leq p$.\n",
    " "
   ]
  },
  {
   "cell_type": "markdown",
   "metadata": {
    "slideshow": {
     "slide_type": "slide"
    }
   },
   "source": [
    "## Work and complexity estimates\n",
    "\n",
    "Assume optimal solvers (i.e. they solve problems with $\\mathcal{O}(N)$ complexity)\n",
    "\n",
    "i.e. computing\n",
    "\n",
    "$$u^{h_x 2^{-i}, h_y 2^{-j}}$$ involves \n",
    "\n",
    "$$2^{(i+j)} N$$ unknowns and cost.\n",
    "\n",
    "The total work is then\n",
    "\n",
    "$$W = \\sum_{i=0}^p \\sum_{j=0}^{p-i} 2^{(i+j)} N = N (2^{p+1} p +1 ) = N \\mathcal{O}(p 2^p).$$\n",
    "\n",
    "as compared to \n",
    "\n",
    "$$W = \\sum_{i=0}^p 4^i N = N \\left(\\frac{4^{p+1}}{3} - \\frac{1}{3} \\right)  = N \\mathcal{O}(4^p).$$\n",
    "\n",
    "with the same formal order.\n"
   ]
  },
  {
   "cell_type": "markdown",
   "metadata": {
    "slideshow": {
     "slide_type": "slide"
    }
   },
   "source": [
    "## Combination technique\n",
    "\n",
    "Another technique, proposed by Griebel et. al, \n",
    "\n",
    "we assume that the **error splitting**\n",
    "\n",
    "$$ u^{h_x, h_y} - u  = e_x(h_x) + e_y(h_y) + R(h_x, h_y), $$\n",
    "\n",
    "where $e_x$ depends on $h_x, x, y$, whereas $e_y$ just depends on $h_y$, $x$, $y$.\n",
    "\n",
    "Furthermore $$|R(h_x, h_y)| \\leq c (h_x h_y)^{\\nu}.$$\n"
   ]
  },
  {
   "cell_type": "markdown",
   "metadata": {
    "slideshow": {
     "slide_type": "slide"
    }
   },
   "source": [
    "## Combination technique(2)\n",
    "\n",
    "$$e_x(h_x) = \\mathcal{O}(h^2_x), \\quad e_y(h_y) = \\mathcal{O}(h^2_y).$$\n",
    "    $$\\widehat{u}^{h_x, h_y} _k = \\sum_{i=1}^k u^{h_x 2^{-i}, h_y 2^{-j}} - \\sum_{i=1}^{k-1} u^{h_x 2^{-i}, h_y 2^{i-k}}.$$\n",
    "    Note that the combined solution is defined not a regular full grid, but on a  **sparse grid**.\n",
    "    In the **triaangular scheme** it corresponds to summing all the solution along the diagonal and subtracting all the solutions below the diagonal."
   ]
  },
  {
   "cell_type": "markdown",
   "metadata": {
    "slideshow": {
     "slide_type": "slide"
    }
   },
   "source": [
    "## Error bound\n",
    "\n",
    "The error bound gives \n",
    "\n",
    "$$\\widehat{u}^{h_x, h_y} - u = e_x(2^{-k} h_x) + e_y(2^{-k} h_y) + \\widehat{R},$$\n",
    "\n",
    "where\n",
    "\n",
    "$$|\\widehat{R}| \\leq \\left| \\sum_{i=1}^k R(2^{-i} h_x, 2^{i-k-1} h_y) - \\sum_{i=1}^{k-1} R(2^{-i} h_x, 2^{i-k} h_y) \\right| \\leq \\widehat{c} \\left(k 2^{-(k+1) \\nu} + (k-1) 2^{-k \\nu} \\right) (h_x h_y)^{\\nu}.$$"
   ]
  },
  {
   "cell_type": "markdown",
   "metadata": {
    "slideshow": {
     "slide_type": "slide"
    }
   },
   "source": [
    "## Sparse grids\n",
    "\n",
    "The sparse grids are closely related to the combination technique. The unknowns for the sparse grid are defined as\n",
    "\n",
    "$$G^{h_x, h_y}_k := \\bigcup_{i=1}^k G^{2^{-i} h_x, 2^{i-k-1} h_y}.$$\n",
    "\n",
    "This  is $G^{(1, 1)}_7.$\n",
    "\n",
    "<img src='pic/sparse-grid.png' \\img>"
   ]
  },
  {
   "cell_type": "markdown",
   "metadata": {
    "slideshow": {
     "slide_type": "slide"
    }
   },
   "source": [
    "## Interpolation approximation\n",
    "\n",
    "We compute the values and sparse grid and use combination technique to compute the approximation.\n",
    "\n",
    "The typical behaviour of the L2-error is $\\mathcal{O}(h^2 | \\log h|)$ where $h$ is the **minimal step size**, \n",
    "\n",
    "where as the total number of points grows as\n",
    "\n",
    "$$\\log(h^{-1})^{k}.$$ "
   ]
  },
  {
   "cell_type": "markdown",
   "metadata": {
    "slideshow": {
     "slide_type": "slide"
    }
   },
   "source": [
    "## Application to FEM\n",
    "\n",
    "We can also interpret the discrete system as a approximation of the energy functional by replacing its true value $u$ \n",
    "\n",
    "by a combination technique.\n",
    "\n",
    "$$E^{h_x, h_y} = \\frac{1}{2} (u, A u) - (f, u).$$\n",
    "\n",
    "In the most straightforward way, the Richardson extrapolation gives \n",
    "\n",
    "$$A^{h_x, h_y}_k u_k = f_k,$$\n",
    "\n",
    "\n",
    "where $$A^{h_x, h_y}_0 = A^{h_x, h_y}, \\quad $$\n",
    "\n",
    "$$A^{h_x, h_y}_k = \\frac{2^{2k}}{2^{2k} - 1}A^{h_x, h_y}_{k-1} + \\frac{1}{1-2^{2k}}I^{\\top} A^{2h_x, 2h_y}_{k-1}  I.$$"
   ]
  },
  {
   "cell_type": "markdown",
   "metadata": {
    "slideshow": {
     "slide_type": "slide"
    }
   },
   "source": [
    "## Combination technique and nested basis\n",
    "\n",
    "Combination technique can be explained as the **nested basis idea**.\n",
    "\n",
    "Given a sequence of nested spaces $V_l$, we construct the **difference basis** \n",
    "\n",
    "$$W_l = V_l \\setminus \\otimes_{t=1}^d V_{l - e_t},$$\n",
    "\n",
    "where $e_t$ is the $t$-th column of the identity matrix.\n",
    "\n",
    "Given the difference spaces, we can defined the hierarhical decomposition\n",
    "\n"
   ]
  },
  {
   "cell_type": "markdown",
   "metadata": {
    "slideshow": {
     "slide_type": "slide"
    }
   },
   "source": [
    "## ANOVA decomposition\n",
    "\n",
    "Sparse grid is closely related to function approximation:\n",
    "\n",
    "$$f(x_1, \\ldots, x_d) = f_1(x_1) + \\ldots + f_d(x_d) + f_{12}(x_1, x_2) + f_{13}(x_1, x_3) + \\ldots, $$\n",
    "\n",
    "i.e. we first sum single terms, then pairwise interactions, then triples.\n",
    "\n",
    "How we can discover the coefficients, what do you think? \n",
    "\n",
    "There are two ways of doing so: from intergration, and from interpolation."
   ]
  },
  {
   "cell_type": "markdown",
   "metadata": {
    "slideshow": {
     "slide_type": "slide"
    }
   },
   "source": [
    "## Literature \n",
    "\n",
    "\n",
    "\n",
    "[Sparse grids in a nutshell](http://garcke.ins.uni-bonn.de/research/pub/sparse_grids_nutshell.pdf)"
   ]
  },
  {
   "cell_type": "markdown",
   "metadata": {
    "slideshow": {
     "slide_type": "slide"
    }
   },
   "source": [
    "## Next lecture\n",
    "- Wavelets & Tensors"
   ]
  },
  {
   "cell_type": "code",
   "execution_count": 40,
   "metadata": {
    "collapsed": false,
    "slideshow": {
     "slide_type": "skip"
    }
   },
   "outputs": [
    {
     "data": {
      "text/html": [
       "<link href='http://fonts.googleapis.com/css?family=Fenix' rel='stylesheet' type='text/css'>\n",
       "<link href='http://fonts.googleapis.com/css?family=Alegreya+Sans:100,300,400,500,700,800,900,100italic,300italic,400italic,500italic,700italic,800italic,900italic' rel='stylesheet' type='text/css'>\n",
       "<link href='http://fonts.googleapis.com/css?family=Source+Code+Pro:300,400' rel='stylesheet' type='text/css'>\n",
       "<style>\n",
       "    @font-face {\n",
       "        font-family: \"Computer Modern\";\n",
       "        src: url('http://mirrors.ctan.org/fonts/cm-unicode/fonts/otf/cmunss.otf');\n",
       "    }\n",
       "    div.cell{\n",
       "        /*width:80%;*/\n",
       "        /*margin-left:auto !important;\n",
       "        margin-right:auto;*/\n",
       "    }\n",
       "    h1 {\n",
       "        font-family: 'Alegreya Sans', sans-serif;\n",
       "    }\n",
       "    h2 {\n",
       "        font-family: 'Fenix', serif;\n",
       "    }\n",
       "    h3{\n",
       "\t\tfont-family: 'Fenix', serif;\n",
       "        margin-top:12px;\n",
       "        margin-bottom: 3px;\n",
       "       }\n",
       "\th4{\n",
       "\t\tfont-family: 'Fenix', serif;\n",
       "       }\n",
       "    h5 {\n",
       "        font-family: 'Alegreya Sans', sans-serif;\n",
       "    }\t   \n",
       "    div.text_cell_render{\n",
       "        font-family: 'Alegreya Sans',Computer Modern, \"Helvetica Neue\", Arial, Helvetica, Geneva, sans-serif;\n",
       "        line-height: 1.2;\n",
       "        font-size: 120%;\n",
       "        /*width:70%;*/\n",
       "        /*margin-left:auto;*/\n",
       "        margin-right:auto;\n",
       "    }\n",
       "    .CodeMirror{\n",
       "            font-family: \"Source Code Pro\";\n",
       "\t\t\tfont-size: 90%;\n",
       "    }\n",
       "/*    .prompt{\n",
       "        display: None;\n",
       "    }*/\n",
       "    .text_cell_render h1 {\n",
       "        font-weight: 200;\n",
       "        font-size: 50pt;\n",
       "\t\tline-height: 110%;\n",
       "        color:#CD2305;\n",
       "        margin-bottom: 0.5em;\n",
       "        margin-top: 0.5em;\n",
       "        display: block;\n",
       "    }\t\n",
       "    .text_cell_render h5 {\n",
       "        font-weight: 300;\n",
       "        font-size: 16pt;\n",
       "        color: #CD2305;\n",
       "        font-style: italic;\n",
       "        margin-bottom: .5em;\n",
       "        margin-top: 0.5em;\n",
       "        display: block;\n",
       "    }\n",
       "    \n",
       "    li {\n",
       "        line-height: 110%;\n",
       "    }\n",
       "    .warning{\n",
       "        color: rgb( 240, 20, 20 )\n",
       "        }  \n",
       "</style>\n",
       "<script>\n",
       "    MathJax.Hub.Config({\n",
       "                        TeX: {\n",
       "                           extensions: [\"AMSmath.js\"]\n",
       "                           },\n",
       "                tex2jax: {\n",
       "                    inlineMath: [ ['$','$'], [\"\\\\(\",\"\\\\)\"] ],\n",
       "                    displayMath: [ ['$$','$$'], [\"\\\\[\",\"\\\\]\"] ]\n",
       "                },\n",
       "                displayAlign: 'center', // Change this to 'center' to center equations.\n",
       "                \"HTML-CSS\": {\n",
       "                    styles: {'.MathJax_Display': {\"margin\": 4}}\n",
       "                }\n",
       "        });\n",
       "</script>\n"
      ],
      "text/plain": [
       "<IPython.core.display.HTML object>"
      ]
     },
     "execution_count": 40,
     "metadata": {},
     "output_type": "execute_result"
    }
   ],
   "source": [
    "from IPython.core.display import HTML\n",
    "def css_styling():\n",
    "    styles = open(\"./styles/custom.css\", \"r\").read()\n",
    "    return HTML(styles)\n",
    "css_styling()"
   ]
  }
 ],
 "metadata": {
  "celltoolbar": "Slideshow",
  "kernelspec": {
   "display_name": "Python 2",
   "language": "python",
   "name": "python2"
  },
  "language_info": {
   "codemirror_mode": {
    "name": "ipython",
    "version": 2
   },
   "file_extension": ".py",
   "mimetype": "text/x-python",
   "name": "python",
   "nbconvert_exporter": "python",
   "pygments_lexer": "ipython2",
   "version": "2.7.11"
  }
 },
 "nbformat": 4,
 "nbformat_minor": 0
}
