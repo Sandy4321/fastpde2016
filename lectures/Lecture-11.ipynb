{
 "cells": [
  {
   "cell_type": "code",
   "execution_count": null,
   "metadata": {
    "collapsed": false,
    "slideshow": {
     "slide_type": "skip"
    }
   },
   "outputs": [],
   "source": [
    "from IPython.html.services.config import ConfigManager\n",
    "from IPython.utils.path import locate_profile\n",
    "cm = ConfigManager(profile_dir=locate_profile(get_ipython().profile))\n",
    "cm.update('livereveal', {\n",
    "              'theme': 'sky',\n",
    "              'transition': 'zoom',\n",
    "              'start_slideshow_at': 'selected',\n",
    "})"
   ]
  },
  {
   "cell_type": "markdown",
   "metadata": {
    "slideshow": {
     "slide_type": "slide"
    }
   },
   "source": [
    "# Lecture 11. Multigrid continued"
   ]
  },
  {
   "cell_type": "markdown",
   "metadata": {
    "slideshow": {
     "slide_type": "slide"
    }
   },
   "source": [
    "## Previous lecture\n",
    "- Basic elements of the multigrid"
   ]
  },
  {
   "cell_type": "markdown",
   "metadata": {
    "slideshow": {
     "slide_type": "slide"
    }
   },
   "source": [
    "## Todays lecture\n",
    "- The basic elements of the multigrid."
   ]
  },
  {
   "cell_type": "markdown",
   "metadata": {
    "slideshow": {
     "slide_type": "slide"
    }
   },
   "source": [
    "## (Approximate) Syllabus\n",
    "- **Week 1:** Intro & basic integral equations (turning PDEs into IEs, typical kernels, Nystrom, collocation, Galerkin, quadrature for singular/hypersingular integrals).\n",
    "- **Week 2:** Translation-invariant kernels and convolutions, FFT. Concept of close and far interactions precorrected FFT. Barnes-Hut method\n",
    "- **Week 3:**  Fast multipole methods. Algebraic analogue of fast multipole method, hierarchical matrices\n",
    "- **Week 4:**  Multigrid methods, domain decomposition\n",
    "- **Week 5:** Wavelets, best N-term approximation\n",
    "- **Week 6:**  Sparse grids, tensors\n",
    "- **Week 7:** Exam & test\n",
    "- **Week 8:** App Period"
   ]
  },
  {
   "cell_type": "markdown",
   "metadata": {
    "slideshow": {
     "slide_type": "slide"
    }
   },
   "source": [
    "## Multigrid scheme\n",
    "We have a sequence of matrices $A_1, \\ldots, $ of decreasing sizes, $A_j$ corresponds to mesh size $h_j$."
   ]
  },
  {
   "cell_type": "markdown",
   "metadata": {
    "slideshow": {
     "slide_type": "slide"
    }
   },
   "source": [
    "## Basic idea of a two-grid scheme\n",
    "\n",
    "\n",
    "1. Two-grid method: given $A_1$, $P$ and the **smoother**t we construct:\n",
    "2. $R = P^{\\top}$, coarse-grid operator $A_{2} = R A_1 P = P^{\\top} A_1 P$\n",
    "3. Smooth, $u_1 := S^{\\nu} u_1, \\quad r_1 = f_1 - A_1 u_1$ \n",
    "4. Restrict residual: $r_{2} = R r_2$\n",
    "5. Solve coarse, $e_{2} = A_{2}^{-1} r_{2}$\n",
    "6. Interpolate back: $u_1 := u_1+ P e_{2}$.\n",
    "\n",
    "\n",
    "In the multigrid scheme, the equation for $e_2$ is solved recursively."
   ]
  },
  {
   "cell_type": "markdown",
   "metadata": {
    "slideshow": {
     "slide_type": "slide"
    }
   },
   "source": [
    "## Algebraic formulation\n",
    "\n",
    "\n",
    "We need to have assumptions on $A_j$. Suppose that $A_j = A^*_j > 0$\n",
    "\n",
    "\n",
    "and\n",
    "\n",
    "$$c_j h_j \\leq \\frac{(A_j u_j, u_j)}{u_j, u_j)} \\leq c_j h^{-1}_j.$$\n",
    "\n",
    "for all $u_j$.\n",
    "\n",
    "We can introduce $A$-scalar product as\n",
    "\n",
    "$$(u, v)_A = (Au, v),$$ \n",
    "\n",
    "$$\\Vert u \\Vert_A = \\sqrt{(u, u)_A}.$$\n",
    "\n",
    "Also, \n",
    "\n",
    "$$\\Vert M \\Vert A = \\Vert A^{-\\frac{1}{2}} M A^{-\\frac{1}{2}} \\Vert = \\max_{v \\ne 0} \\frac{\\Vert M u \\Vert_A}{\\Vert u \\Vert_A}.$$"
   ]
  },
  {
   "cell_type": "markdown",
   "metadata": {
    "slideshow": {
     "slide_type": "slide"
    }
   },
   "source": [
    "## Algebraic formulation (cont.)\n",
    "\n",
    "Let $$\\widehat{A} = P^{\\top} A P$$ be the coarse-grid matrix.\n",
    "\n",
    "From the definition, we have\n",
    "\n",
    "$$ \\Vert P v \\Vert_{\\widehat{A}} = \\Vert v \\Vert_A.$$\n",
    "\n",
    "and\n",
    "\n",
    "$$\\Vert Q M \\Vert_A = \\Vert M \\Vert_{\\widehat{A}}.$$\n",
    "\n",
    "An important role will be played by the matrix\n",
    "\n",
    "$$Q = \\widehat{A}^{-1} P^{\\top} A,$$\n",
    "\n",
    "which has the following properties:\n",
    "\n",
    "$$(PQ)^{2} = PQ,\\quad (I - PQ)^{2} = I - PQ.$$\n",
    "\n",
    "$$\\left(A^{\\frac{1}{2}} P Q A^{\\frac{-1}{2}}\\right)^{\\top} = A^{\\frac{1}{2}} PQ A^{-\\frac{1}{2}}.$$\n",
    "\n",
    "$$\\left((I - PQ)u, PQ v\\right)_A  = 0.$$ \n",
    "\n",
    "$$\\Vert (I - P Q) u + PQ u \\Vert^2_A = \\Vert (I - PQ)  u\\Vert^2 + \\Vert PQ \\Vert^2_A,$$  \n",
    "\n",
    "Thus, $PQ$ is an **A-orthogonal projector**, and $$QP = I.$$"
   ]
  },
  {
   "cell_type": "markdown",
   "metadata": {
    "slideshow": {
     "slide_type": "slide"
    }
   },
   "source": [
    "## Smoother revisited\n",
    "\n",
    "Consider any simple iteration method that converges:\n",
    "\n",
    "$$u_k = u_{k-1} + \\Phi (f - A u_{k-1}),$$\n",
    "\n",
    "where $\\Phi = \\Phi^* > 0$.\n",
    "\n",
    "The **smoother** is a matrix $$S= (I - \\Phi A).$$\n",
    "\n",
    "The matrix $S$ is not necessary symmetric, but it is $A$-symmetric and has all real eigenvalues.\n"
   ]
  },
  {
   "cell_type": "markdown",
   "metadata": {
    "slideshow": {
     "slide_type": "slide"
    }
   },
   "source": [
    "## Assumptions\n",
    "1. $$\\lambda(S) = \\lambda (I - \\Phi_A)$$ satisfy $$0 < \\lambda(S) < 1.$$\n",
    "2. Minimal eigenvalue of the matrix $\\Phi$ is bounded from below by $ch$. \n",
    "   An **equivalent statement** is that\n",
    "   $$(Au, u)_A \\leq \\frac{1}{ch}((I - S) u, u)_A.$$\n",
    "3. When a vector $u$ is approximated by a vector $v$ we have an estimate (interpolation property)\n",
    "   $$\\Vert u - Qv \\Vert_2 \\leq ch \\Vert Au \\Vert_2.$$"
   ]
  },
  {
   "cell_type": "markdown",
   "metadata": {
    "slideshow": {
     "slide_type": "slide"
    }
   },
   "source": [
    "## Lemma\n",
    "\n",
    "We will need the following Lemma \n",
    "\n",
    "$$ \\Vert (I - PQ) u \\Vert^2_A \\leq ch \\Vert Au^2_2 \\Vert$$ \\\n",
    "\n",
    "**Proof.**\n",
    "\n",
    "$$(I - PQ) u = (I - PQ) (u - Qv)$$, \n",
    "\n",
    "therefore\n",
    "\n",
    "$$\\Vert(I - PQ) u \\Vert^2_A \\leq \\Vert u - Q v \\Vert^2_A \\leq \\frac{c}{h} \\Vert u - Qv \\Vert_2 \\leq ch \\Vert Au \\Vert^2_2.$$\n",
    "\n"
   ]
  },
  {
   "cell_type": "markdown",
   "metadata": {
    "slideshow": {
     "slide_type": "slide"
    }
   },
   "source": [
    "## Smoother\n",
    "\n",
    "For any integer $m > 0$ we have     \n",
    "$$((I - S)S^m u, u)_A \\leq \\frac{1}{m} ((I - S^m) u, u)_A.$$\n",
    "\n",
    "**Proof**\n",
    "\n",
    "For any $j < m$ we have (since the eigenvalues of $S$ lies from $0$ to $1$\n",
    "\n",
    "$$((I - S) S^j u, u)_A \\leq ((I - S) S^m u, u)_A.$$\n",
    "\n",
    "Then it is enough to use the fact\n",
    "\n",
    "$$\n",
    "\n",
    "$$(I - S^m) = \\sum_{j=0}^{m-1} (I - S)S^j.$$"
   ]
  },
  {
   "cell_type": "markdown",
   "metadata": {
    "slideshow": {
     "slide_type": "slide"
    }
   },
   "source": [
    "## Smoother (cont.)\n",
    "\n",
    "THe following estimate holds (it will be required to verify the smoothness property):\n",
    "\n",
    "$$\\Vert (I - PQ) S^m u \\Vert^2_A \\leq \\frac{c}{m} ((I - S^{2m}) u, u)_A  $$\n",
    "\n",
    "**Proof:**\n",
    "\n",
    "We have\n",
    "\n",
    "$$\\Vert (I - PQ) ^m u \\Vert^2_A \\leq ch (A S^m u, S^m u)_A \\leq ((I - S) S^m u, S^m u)_A) \\leq \\frac{c}{m} ((I - S^{2m} u), u).$$\n",
    "\n",
    "Here we also used $A$-symmetry of $S$."
   ]
  },
  {
   "cell_type": "markdown",
   "metadata": {
    "slideshow": {
     "slide_type": "slide"
    }
   },
   "source": [
    "## Multigrid convergence analysis\n",
    "\n",
    "\n",
    "Let us consider multigrid case. Then, the error propopagation operator $B$ is defined recursively from the relations:\n",
    "\n",
    "$$e = (I - B A) u = S^m (S^m u - P v) = S^m (S^m - P Q S^m + P (I - \\widehat{B} \\widehat{A})^s Q S^m) u.$$\n",
    "\n",
    "For $s = 1$ we get $V$-cycle, for $s=2$ we get $W$-cycle.\n",
    "\n",
    "Thus, we get that\n",
    "\n",
    "$$(I - BA) =  S^m (S^m u - P v) = S^m (S^m - P Q S^m + P (I - \\widehat{B} \\widehat{A})^s Q S^m). $$\n",
    "\n",
    "It related the iteration matrix on the fine level with the iteration matrix on the coarse level.\n",
    "\n",
    "By construction, both $B$ and $\\widehat{B}$ are symmetric, thus eigenvalues of $I - BA$ and $I - \\widehat{B} \\widehat{A}$ are real. If $I - \\widehat{B} \\widehat{A}$ has non-negative eigenvalues, then $I - B A$ also has them.\n",
    "\n",
    "Indeed, if $I - \\widehat{B}\\widehat{A}$ has non-negative eigenvalues, we can take a square root:\n",
    "\n",
    "$$F^2 = (I - \\widehat{B} \\widehat{A}),$$\n",
    "\n",
    "and $F$ is $A$-symmetric, thus\n",
    "\n",
    "$$\\Vert F^s \\Vert_A = \\Vert F \\Vert^s_A.$$"
   ]
  },
  {
   "cell_type": "markdown",
   "metadata": {
    "slideshow": {
     "slide_type": "slide"
    }
   },
   "source": [
    "## Main inequality\n",
    "\n",
    "From the main equality  of the iteration matrix \n",
    "$$(I - BA) =  S^m (S^m u - P v) = S^m (S^m - P Q S^m + P (I - \\widehat{B} \\widehat{A})^s Q S^m). $$\n",
    "\n",
    "We have the following upper bound:\n",
    "\n",
    "$$((I - B A) u, u)_A \\leq \\Vert (I - PQ) S^m u \\Vert^2_A + \\Vert I - \\widehat{B} \\widehat{A} \\Vert^s_\\widehat{A} \\Vert P Q S^m \\Vert^2_A. $$ "
   ]
  },
  {
   "cell_type": "markdown",
   "metadata": {
    "slideshow": {
     "slide_type": "slide"
    }
   },
   "source": [
    "## V-cycle analysis\n",
    "\n",
    "V-cycle is obtained by setting $s = 1$.\n",
    "\n",
    "Suppose that\n",
    "\n",
    "$$\\Vert I - \\widehat{B} \\widehat{A} \\Vert_ \\widehat{A} \\leq \\gamma < 1.$$\n",
    "\n",
    "Now, select a vector $u$ such that\n",
    "\n",
    "$$((I - B A) u, u)_A = \\Vert I - B A \\Vert_A, \\quad \\Vert u \\Vert_A = 1.$$\n",
    "\n",
    "Also, \n",
    "\n",
    "\n",
    "$$\\Vert PQ S^m u \\Vert_A = \\Vert S^m u \\Vert^2_A - \\Vert (I - P Q) S^m u \\Vert^2_A.$$ \n",
    "\n",
    "Bounding each term we have\n",
    "\n",
    "$$\\Vert I - B A \\Vert_A = ((I - B A) u, u))_A \\leq  (1 - \\gamma) \\frac{c}{m}((I - S^{2m}) u, u) +  \\gamma (S^{2m} u, u)_A.$$\n",
    "\n",
    "We want to have \n",
    "\n",
    "$$\\Vert (I - BA) \\Vert_A \\leq \\gamma.$$\n",
    "\n",
    "If we have that, we can you a multigrid version.\n",
    "\n",
    "If we have\n",
    "\n",
    "$$(1 - \\gamma) \\frac{c}{m} \\leq \\gamma$$ then we obviously have such an estimate;\n",
    "\n",
    "it requires\n",
    "\n",
    "$$ \\gamma \\geq \\frac{c}{c + m}.$$"
   ]
  },
  {
   "cell_type": "markdown",
   "metadata": {
    "slideshow": {
     "slide_type": "slide"
    }
   },
   "source": [
    "## Theorem\n",
    "\n",
    "The following theorem has been proven.\n",
    "\n",
    "If the multigrid matrix $B_j$ satisfies\n",
    "\n",
    "$$\\Vert I - B_j A_j \\Vert_{A_j} \\leq \\gamma \\leq 1, $$\n",
    "\n",
    "and $$\\gamma \\geq \\frac{c}{c + m},$$\n",
    "\n",
    "then for all $k \\geq j$ we have\n",
    "\n",
    "$$\\Vert I - B_k A_k \\Vert_{A_k} \\leq \\gamma.$$"
   ]
  },
  {
   "cell_type": "markdown",
   "metadata": {
    "slideshow": {
     "slide_type": "slide"
    }
   },
   "source": [
    "## W-cycle analysis\n",
    "\n",
    "For the W-cycle we have\n",
    "\n",
    "$$\\gamma^2 \\leq \\frac{c}{c+m}.$$"
   ]
  },
  {
   "cell_type": "markdown",
   "metadata": {
    "slideshow": {
     "slide_type": "slide"
    }
   },
   "source": [
    "## Simplest (uniform) example.\n",
    "\n",
    "In the simplest case of 1D uniform grids and linear interpolation, we have \n",
    "\n",
    "$$\\Phi = \\tau A, \\tau = \\frac{1}{\\lambda_{\\max} (A)}.$$\n",
    "\n",
    "The only thing that needs to be tested is\n",
    "\n",
    "$$\\Vert u - P v \\Vert_2 \\leq ch \\Vert A u \\Vert_2,$$\n",
    "\n",
    "where\n",
    "\n",
    "$P$ is \n",
    "\n",
    "$$P = \\begin{bmatrix} \\frac{1}{2} & 0 \n",
    "1 & 0  \\\\\n",
    "\\frac{1}{2} & \\frac{1}{2} & 0 \\\\\n",
    "0 & 1 & 0 \\\\\n",
    "\\vdots & \\vdots & \\vdots\n",
    "\\end{bmatrix}.$$"
   ]
  },
  {
   "cell_type": "markdown",
   "metadata": {
    "slideshow": {
     "slide_type": "slide"
    }
   },
   "source": [
    "## Subspace correction methods\n",
    "\n",
    "Multigrid methods can  be considered as a special case of more general **subspace correction methods**.\n",
    "\n",
    "Suppose we want to solve \n",
    "\n",
    "$$A u = f,$$\n",
    "\n",
    "and $u \\in V$, and $V = V_1 + \\ldots + V_m.$\n",
    "\n",
    "Consider projection equations\n",
    "\n",
    "$$Q_i A P_i u_i = Q_i f, \\quad u_i \\in V_i,$$\n",
    "\n",
    "and $P_i$ is an $A$-orthogonal projector on $V_i$, and $Q_i$ is an orthogonal projector on $V_i$.\n",
    "\n",
    "Then the operator\n",
    "\n",
    "$$A_i = Q_i A P_i$$ satisfies\n",
    "\n",
    "$$A_i P_i = Q_i A,$$\n",
    "\n",
    "indeed\n",
    "\n",
    "$$(A_i P_i u, v) = (A P_i u, Q_i y) = (A x, P_i Q_i y) = (Ax, Q_i y) = (Q_i A x, y). $$\n",
    "\n",
    "\n",
    "Let $R_i$ be a preconditioner for the $i$-th equation. Then, \n",
    "\n",
    "the following matrix\n",
    "\n",
    "$$B = R_1 Q_1 + \\ldots + R_m Q_m$$  is a good **preconditioner** for the matrix $A$."
   ]
  },
  {
   "cell_type": "markdown",
   "metadata": {
    "slideshow": {
     "slide_type": "slide"
    }
   },
   "source": [
    "## Subspace correction & multigrid\n",
    "\n",
    "In the multigrid setting we have\n",
    "\n",
    "$$V_1 \\subset V_2 \\subset \\ldots \\subset V.$$\n",
    "\n",
    "and if $S_i$ is the smoother, we can take\n",
    "\n",
    "$$R = (I - S^k_i) A^{-1}_i,$$\n",
    "\n",
    "which is called **BPX-preconditioner**."
   ]
  },
  {
   "cell_type": "markdown",
   "metadata": {
    "slideshow": {
     "slide_type": "slide"
    }
   },
   "source": [
    "## Convergence theorem\n",
    "\n",
    "Assumptions (checking can be quite cumbersome). \n",
    "\n",
    "- Every vector $v$ can be decomposed as $v = \\sum_{i} v_i$ and \n",
    "  $$\\sum_{i} (R^{-1}_i v_i, v_i) \\leq K_0 (Av, v).$$\n",
    "- For operators $$T_i = R_i A_i P_i $$ we have\n",
    "  $$\\sum_{i, j} (T_i x, T_j y) \\leq K_1 \\left( \\sum_{i=1}^m (T_i x, x)_A \\right)^{1/2}\\left( \\sum_{i=1}^m (T_i y, y)\\right)^{1/2}.$$\n",
    "  \n",
    "  Then the ratio between the maximal and minimal eigenvalues of $BA$ does not exceed $K_0 K_1$."
   ]
  },
  {
   "cell_type": "markdown",
   "metadata": {
    "slideshow": {
     "slide_type": "slide"
    }
   },
   "source": [
    "## Algebraic multigrid\n",
    "\n",
    "The concept of geometric multigrid requires additional knowledge about the coarse spaces and the interpolation.\n",
    "\n",
    "The concept of algebraic multigrid, first introduced by Ruge and Stuben in 1987, is to work only with the **sparsity pattern** in the spirit of sparse solvers.\n",
    "\n",
    "The main question of AMG is how to construct **coarse meshes** and **interpolation operators**, since everything else is already there."
   ]
  },
  {
   "cell_type": "markdown",
   "metadata": {
    "slideshow": {
     "slide_type": "slide"
    }
   },
   "source": [
    "## Smoother for AMG\n",
    "\n",
    "As a smoother we can use weighted Jacobi, Gauss-Seidel, Incomplete LU."
   ]
  },
  {
   "cell_type": "markdown",
   "metadata": {
    "slideshow": {
     "slide_type": "slide"
    }
   },
   "source": [
    "## Smoothing property (again)\n",
    "\n",
    "The operator $S$ is a smoother, if\n",
    "\n",
    "$$\\Vert S v \\Vert_A \\leq \\Vert v \\Vert_A - \\sigma \\Vert v \\Vert_2. $$\n",
    "\n",
    "It means, it reduces the error when $\\Vert v \\Vert_2$ is relatively large with respect to $\\Vert v \\Vert_A$.\n",
    "\n",
    "The error is called **algebraically smooth**, if $\\Vert v \\Vert_2 \\ll \\Vert v \\Vert_A.$\n",
    "\n",
    "A damped Jacobi method satisfied the smoothing property."
   ]
  },
  {
   "cell_type": "markdown",
   "metadata": {
    "slideshow": {
     "slide_type": "slide"
    }
   },
   "source": [
    "## Coarsening\n",
    "\n",
    "Finally, we have to talk about coarsening. Given a graph of sparse matrix, we have to decide, which nodes will remain on the fine mesh, and which nodes will remain on the coarse mesh.\n",
    "\n",
    "The nodes are called $F$-nodes and $C$-nodes.\n",
    " "
   ]
  },
  {
   "cell_type": "markdown",
   "metadata": {
    "slideshow": {
     "slide_type": "slide"
    }
   },
   "source": [
    "## Strong coupling\n",
    "\n",
    "A variable $i$ is said to be **strongly coupled** to the node $j$ if\n",
    "\n",
    "$$|a_{ij}| \\geq \\varepsilon_{str} \\max_{a_{ik} < 0} |a_{ik}|.$$"
   ]
  },
  {
   "cell_type": "markdown",
   "metadata": {
    "slideshow": {
     "slide_type": "slide"
    }
   },
   "source": [
    "## Standard coarsening procedure\n",
    "\n",
    "A standard coarsening procedure: \n",
    "\n",
    "1. Take the first variable as a C-node\n",
    "2. All variables that are strongly coupled with it, become $F$ nodes.\n",
    "3. Pick another one as a C-node, add strongly coupled to the $F$ nodes.\n",
    "\n",
    "To control \"uniformity\" of C-nodes, some measure has to be used. \n",
    "\n",
    "Given a vertex $i$ and the list $S_i$ of variables that are strongly couple, we count\n",
    "\n",
    "$$\\lambda_i = \\left|S_i \\cap U\\right| + 2 \\left|S_i \\cap F\\right|,$$\n",
    "\n",
    "where $U$ is the set of all **undecided** variables, and $F$ is the set of all **fine-nodes**.\n",
    "\n",
    "In the beginning, the set of fine nodes is empty, but then the balance is changed.\n",
    "\n",
    "Let us try to illustrate it on Laplace."
   ]
  },
  {
   "cell_type": "markdown",
   "metadata": {
    "slideshow": {
     "slide_type": "slide"
    }
   },
   "source": [
    "## Prolongation\n",
    "\n",
    "The prolongation in AMG is a part of the art. We have to interpolate the error from C-nodes to F-nodes.\n"
   ]
  },
  {
   "cell_type": "markdown",
   "metadata": {
    "slideshow": {
     "slide_type": "slide"
    }
   },
   "source": [
    "## Discussion on algebraically smooth error\n",
    "\n",
    "$$Se \\approx e$$ also means, in terms of residuals, that\n",
    "\n",
    "$$(D^{-1} r, r) \\ll (r, e)$$\n",
    "\n",
    "or in the index form it means that\n",
    "\n",
    "$$a_{ii} e_i + \\sum_{j \\in N_i} a_{ij} e_j \\approx 0.$$"
   ]
  },
  {
   "cell_type": "markdown",
   "metadata": {
    "slideshow": {
     "slide_type": "slide"
    }
   },
   "source": [
    "## Prolongation\n",
    "\n",
    "From the \"algebraically smooth\" error we have\n",
    "\n",
    "$$e_i \\approx -\\frac{1}{a_{ii}} \\sum_{j \\in N_i} a_{ij} e_j.$$\n",
    "\n",
    "If $N_i = P_i$ (the set of interpolation nodes), then we have\n",
    "\n",
    "$$e_i = \\sum_{j \\in P_i} w_{ij} e_j,$$\n",
    "\n",
    "with $$w_{ij} = - \\frac{a_{ij}}{a_{ii}}.$$\n",
    "\n",
    "However, the number of coarse nodes is smaller, and we assume that the averages are similar:on\n",
    "\n",
    "$$\\frac{1}{\\sum_{j \\in P_i} a_{ij}} \\sum_{j \\in P_i} a_{ij} e_j \\approx \\frac{1}{\\sum_{j \\in N_i}} \\sum_{j \\in N_i} a_{ij} e_j,$$\n",
    "\n",
    "Giving the following equations for the weights:\n",
    "\n",
    "$$w_{ij} = -\\left(\\frac{\\sum_{k \\in N_i} a_{ij}}{\\sum_{k \\in P_i} a_{ik}}\\right) \\frac{a_{ij}}{a_{ii}}.$$\n",
    "\n",
    "If the row sum is zero, we have\n",
    "\n",
    "$$\\sum_{j} w_{ij} = 1, $$\n",
    "\n",
    "at least the constant is preserved."
   ]
  },
  {
   "cell_type": "markdown",
   "metadata": {
    "slideshow": {
     "slide_type": "slide"
    }
   },
   "source": [
    "\n",
    "\n",
    "## Summary\n",
    "- Theory of the multigrid."
   ]
  },
  {
   "cell_type": "markdown",
   "metadata": {
    "slideshow": {
     "slide_type": "slide"
    }
   },
   "source": [
    "## Next lecture\n",
    "- Iterative methods & preconditioners"
   ]
  },
  {
   "cell_type": "code",
   "execution_count": 40,
   "metadata": {
    "collapsed": false,
    "slideshow": {
     "slide_type": "skip"
    }
   },
   "outputs": [
    {
     "data": {
      "text/html": [
       "<link href='http://fonts.googleapis.com/css?family=Fenix' rel='stylesheet' type='text/css'>\n",
       "<link href='http://fonts.googleapis.com/css?family=Alegreya+Sans:100,300,400,500,700,800,900,100italic,300italic,400italic,500italic,700italic,800italic,900italic' rel='stylesheet' type='text/css'>\n",
       "<link href='http://fonts.googleapis.com/css?family=Source+Code+Pro:300,400' rel='stylesheet' type='text/css'>\n",
       "<style>\n",
       "    @font-face {\n",
       "        font-family: \"Computer Modern\";\n",
       "        src: url('http://mirrors.ctan.org/fonts/cm-unicode/fonts/otf/cmunss.otf');\n",
       "    }\n",
       "    div.cell{\n",
       "        /*width:80%;*/\n",
       "        /*margin-left:auto !important;\n",
       "        margin-right:auto;*/\n",
       "    }\n",
       "    h1 {\n",
       "        font-family: 'Alegreya Sans', sans-serif;\n",
       "    }\n",
       "    h2 {\n",
       "        font-family: 'Fenix', serif;\n",
       "    }\n",
       "    h3{\n",
       "\t\tfont-family: 'Fenix', serif;\n",
       "        margin-top:12px;\n",
       "        margin-bottom: 3px;\n",
       "       }\n",
       "\th4{\n",
       "\t\tfont-family: 'Fenix', serif;\n",
       "       }\n",
       "    h5 {\n",
       "        font-family: 'Alegreya Sans', sans-serif;\n",
       "    }\t   \n",
       "    div.text_cell_render{\n",
       "        font-family: 'Alegreya Sans',Computer Modern, \"Helvetica Neue\", Arial, Helvetica, Geneva, sans-serif;\n",
       "        line-height: 1.2;\n",
       "        font-size: 120%;\n",
       "        /*width:70%;*/\n",
       "        /*margin-left:auto;*/\n",
       "        margin-right:auto;\n",
       "    }\n",
       "    .CodeMirror{\n",
       "            font-family: \"Source Code Pro\";\n",
       "\t\t\tfont-size: 90%;\n",
       "    }\n",
       "/*    .prompt{\n",
       "        display: None;\n",
       "    }*/\n",
       "    .text_cell_render h1 {\n",
       "        font-weight: 200;\n",
       "        font-size: 50pt;\n",
       "\t\tline-height: 110%;\n",
       "        color:#CD2305;\n",
       "        margin-bottom: 0.5em;\n",
       "        margin-top: 0.5em;\n",
       "        display: block;\n",
       "    }\t\n",
       "    .text_cell_render h5 {\n",
       "        font-weight: 300;\n",
       "        font-size: 16pt;\n",
       "        color: #CD2305;\n",
       "        font-style: italic;\n",
       "        margin-bottom: .5em;\n",
       "        margin-top: 0.5em;\n",
       "        display: block;\n",
       "    }\n",
       "    \n",
       "    li {\n",
       "        line-height: 110%;\n",
       "    }\n",
       "    .warning{\n",
       "        color: rgb( 240, 20, 20 )\n",
       "        }  \n",
       "</style>\n",
       "<script>\n",
       "    MathJax.Hub.Config({\n",
       "                        TeX: {\n",
       "                           extensions: [\"AMSmath.js\"]\n",
       "                           },\n",
       "                tex2jax: {\n",
       "                    inlineMath: [ ['$','$'], [\"\\\\(\",\"\\\\)\"] ],\n",
       "                    displayMath: [ ['$$','$$'], [\"\\\\[\",\"\\\\]\"] ]\n",
       "                },\n",
       "                displayAlign: 'center', // Change this to 'center' to center equations.\n",
       "                \"HTML-CSS\": {\n",
       "                    styles: {'.MathJax_Display': {\"margin\": 4}}\n",
       "                }\n",
       "        });\n",
       "</script>\n"
      ],
      "text/plain": [
       "<IPython.core.display.HTML object>"
      ]
     },
     "execution_count": 40,
     "metadata": {},
     "output_type": "execute_result"
    }
   ],
   "source": [
    "from IPython.core.display import HTML\n",
    "def css_styling():\n",
    "    styles = open(\"./styles/custom.css\", \"r\").read()\n",
    "    return HTML(styles)\n",
    "css_styling()"
   ]
  }
 ],
 "metadata": {
  "celltoolbar": "Slideshow",
  "kernelspec": {
   "display_name": "Python 2",
   "language": "python",
   "name": "python2"
  },
  "language_info": {
   "codemirror_mode": {
    "name": "ipython",
    "version": 2
   },
   "file_extension": ".py",
   "mimetype": "text/x-python",
   "name": "python",
   "nbconvert_exporter": "python",
   "pygments_lexer": "ipython2",
   "version": "2.7.11"
  }
 },
 "nbformat": 4,
 "nbformat_minor": 0
}
