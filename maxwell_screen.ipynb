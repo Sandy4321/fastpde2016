{
 "cells": [
  {
   "cell_type": "markdown",
   "metadata": {},
   "source": [
    "# Electromagnetic scattering from a screen"
   ]
  },
  {
   "cell_type": "markdown",
   "metadata": {},
   "source": [
    "### Background"
   ]
  },
  {
   "cell_type": "markdown",
   "metadata": {},
   "source": [
    "In this tutorial we consider the scattering of an electromagnetic wave from a perfectly conducting screen $\\Gamma:=[-2,2]\\times[-1,1]\\times0$. The time-harmonic Maxwell equation for the electric field $E$ reduces to\n",
    "\n",
    "$$\n",
    "\\nabla\\times\\nabla\\times \\mathbf{E} -k^2 \\mathbf{E} = 0\n",
    "$$\n",
    "\n",
    "in $\\mathbb{R}^3\\backslash\\Gamma$, where $k:=2\\pi/\\lambda$ is the wavenumber and $\\lambda$ is the wavelength. The electric field $\\mathbf{E}$ is the sum of the incident field $\\mathbf{E}^{(i)}$ and the scattered field $\\mathbf{E}^{(s)}$. Here, we assume that the incident field is given by\n",
    "\n",
    "$$\n",
    "\\mathbf{E}^{(i)}:=\\begin{bmatrix} e^{ikz} & 0 & 0 \\end{bmatrix},\n",
    "$$\n",
    "which is a wave travelling in the $z$ direction and polarised in the $x$ direction. On the screen the tangential component $\\mathbf{E}_t:=n\\times \\mathbf{E}$ must be zero. Towards infinity we impose the Silver-Muller radiation condition\n",
    "\n",
    "$$\n",
    "\\lim_{|\\mathbf{x}|\\rightarrow\\infty} |\\mathbf{x}|\\left(\\nabla\\times \\mathbf{E}^{(s)}\\times\\hat{\\mathbf{x}}-ik\\mathbf{E}^{(s)}\\right) = 0,\n",
    "$$\n",
    "where $\\hat{\\mathbf{x}}=\\mathbf{x}/|\\mathbf{x}|$.\n",
    "\n",
    "The scattered wave $\\mathbf{E}^{(s)}$ has the representation\n",
    "\n",
    "$$\n",
    "\\mathbf{E}^{(s)} = -\\Psi_{\\mathbf{SL}}(\\mathbf{\\lambda}),\n",
    "$$\n",
    "\n",
    "where $\\lambda$ is the jump of the Neumann trace of the scattered field $\\mathbf{E}^{(s)}$ across the screen. The Maxwell electric field potential operator $\\Psi_{\\mathbf{SL}}$ is defined as\n",
    "\n",
    "$$\n",
    "\\Psi_{\\mathbf{SL}}(\\mathbf{v}):=ik\\int_{\\Gamma}G(\\mathbf{x},\\mathbf{y})\\mathbf{v}(\\mathbf{y})d\\Gamma(\\mathbf{y})-\n",
    "\\frac{1}{ik}\\nabla_{\\mathbf{x}}\\int_{\\Gamma}G(\\mathbf{x},\\mathbf{y})(\\nabla_{\\Gamma}\\cdot\\mathbf{v})(\\mathbf{y})d\\Gamma(\\mathbf{y})\n",
    "$$\n",
    "with $G(\\mathbf{x},\\mathbf{y}):=\\frac{e^{ik|\\mathbf{x}-\\mathbf{y}|}}{4\\pi|\\mathbf{x}-\\mathbf{y}|}$.\n",
    "\n",
    "The associated boundary operator is denoted by $\\mathcal{S}$. It is obtained as average from the tangential traces of the electric field potential operator from both sides of the screen. The boundary integral equation is now\n",
    "\n",
    "$$\n",
    "\\mathcal{S}\\mathbf{\\lambda} = n\\times E^{(i)}.\n",
    "$$\n",
    "The $-$ sign is missing in comparison to the representation formula since we want to satisfy the boundary conditions for the negative incident wave so that the tangential trace of the total field is zero on the screen.\n",
    "\n",
    "More details about the mathematical background can be found in the wonderful overview paper by [Buffa and Hiptmair (2003)](http://www.sam.math.ethz.ch/~hiptmair/Courses/CEM/BUH03.pdf)."
   ]
  },
  {
   "cell_type": "markdown",
   "metadata": {},
   "source": [
    "### Implementation"
   ]
  },
  {
   "cell_type": "code",
   "execution_count": 2,
   "metadata": {
    "collapsed": false
   },
   "outputs": [],
   "source": [
    "import bempp.api\n",
    "import numpy as np"
   ]
  },
  {
   "cell_type": "markdown",
   "metadata": {},
   "source": [
    "To avoid preconditioning issues we assemble the operators in dense mode so that we can solve via LU decomposition later on."
   ]
  },
  {
   "cell_type": "code",
   "execution_count": 3,
   "metadata": {
    "collapsed": false
   },
   "outputs": [],
   "source": [
    "bempp.api.global_parameters.assembly.boundary_operator_assembly_type = 'dense'"
   ]
  },
  {
   "cell_type": "markdown",
   "metadata": {},
   "source": [
    "We need to define the wavenumber of the problem."
   ]
  },
  {
   "cell_type": "code",
   "execution_count": 4,
   "metadata": {
    "collapsed": false
   },
   "outputs": [],
   "source": [
    "wavelength = .5\n",
    "k = 2 * np.pi / wavelength"
   ]
  },
  {
   "cell_type": "markdown",
   "metadata": {},
   "source": [
    "The function `incident_field` defines the incident wave. The function `tangential_trace` computes the tangential trace of the incident field."
   ]
  },
  {
   "cell_type": "code",
   "execution_count": 5,
   "metadata": {
    "collapsed": false
   },
   "outputs": [],
   "source": [
    "def incident_field(x):\n",
    "    return np.array([np.exp(1j * k * x[2]), 0. * x[2], 0. * x[2]])\n",
    "\n",
    "def tangential_trace(x, n, domain_index, result):\n",
    "    result[:] = np.cross(incident_field(x), n, axis=0)    \n"
   ]
  },
  {
   "cell_type": "markdown",
   "metadata": {},
   "source": [
    "We define a structured grid in the x-y plane."
   ]
  },
  {
   "cell_type": "code",
   "execution_count": 6,
   "metadata": {
    "collapsed": false
   },
   "outputs": [],
   "source": [
    "grid = bempp.api.structured_grid((-2, -1), (2, 1), (60, 30))"
   ]
  },
  {
   "cell_type": "markdown",
   "metadata": {},
   "source": [
    "A suitable space for Maxwell problems is the Raviart-Thomas space of order 0. \n",
    "(sometimes called Rao-Wilton-Glisson or **RWG elements**, very commonly used in electromagnetics.)\n",
    "\n",
    "\n",
    "**RWG** are vector basis functions, such that divergence maps RT into piecewise polynomial functions.\n",
    "\n",
    "They are defined by edges between two triangles, $T_{+}$ and $T_{-}$,\n",
    "\n",
    "$$f_n(r) = \\begin{cases}\n",
    "\\frac{l_n}{2 A^{+}_n}(r - p_{+}), \\quad \\mbox{if } r \\in T_{+},  \\\\\n",
    "\\frac{l_n}{2 A^{-}_n}(r - p_{-}), \\quad \\mbox{if } r \\in T_{-}, \\\\\n",
    "0, \\quad \\mbox{otherwise}.\n",
    "\\end{cases}\n",
    "$$\n",
    "\n",
    "$A^{+}, A^{-}$ are triangle areas, $p_{+}$, $p_{-}$ are opposite corners of the triangles (not containing the common edge)."
   ]
  },
  {
   "cell_type": "code",
   "execution_count": 8,
   "metadata": {
    "collapsed": false
   },
   "outputs": [],
   "source": [
    "space = bempp.api.function_space(grid, \"RT\", 0)"
   ]
  },
  {
   "cell_type": "markdown",
   "metadata": {},
   "source": [
    "In the following we define the Maxwell single-layer boundary operator and the Maxwell identity operator. For Maxwell problems the suitable inner product is not the standard $L^2$ inner product but the anti-symmetric pairing $\\langle \\mathbf{\\mu},\\mathbf{\\eta}\\rangle_{\\mathbf{\\tau},\\mathbf{\\Gamma}}:=\\int_{\\Gamma}\\overline{\\mathbf{\\mu}(\\mathbf{x})}\\cdot (\\mathbf{\\eta}(\\mathbf{x})\\times n(\\mathbf{x}))d\\Gamma(\\mathbf{x})$. Hence, the standard identity is not suitable and a specific Maxwell identity operator is defined in BEM++, which implements this pairing."
   ]
  },
  {
   "cell_type": "code",
   "execution_count": 9,
   "metadata": {
    "collapsed": false
   },
   "outputs": [],
   "source": [
    "slp = bempp.api.operators.boundary.maxwell.electric_field(space, space, space, k)\n",
    "identity = bempp.api.operators.boundary.sparse.maxwell_identity(space, space, space)"
   ]
  },
  {
   "cell_type": "markdown",
   "metadata": {},
   "source": [
    "The following command creates a grid function from the tangential trace."
   ]
  },
  {
   "cell_type": "code",
   "execution_count": 10,
   "metadata": {
    "collapsed": false
   },
   "outputs": [],
   "source": [
    "trace_fun = bempp.api.GridFunction(space, fun=tangential_trace)"
   ]
  },
  {
   "cell_type": "markdown",
   "metadata": {},
   "source": [
    "We have to multiply the GridFunction `trace_data` with the Maxwell mass matrix `id` in order to obtain the anti-symmetric dual pairing of the basis functions with the incident wave."
   ]
  },
  {
   "cell_type": "code",
   "execution_count": 11,
   "metadata": {
    "collapsed": false
   },
   "outputs": [],
   "source": [
    "rhs = identity * trace_fun"
   ]
  },
  {
   "cell_type": "markdown",
   "metadata": {},
   "source": [
    "We use a direct solver to solve the system. It is not a large problem and Krylov methods without preconditioning converge poorly for the electric field integral equation."
   ]
  },
  {
   "cell_type": "code",
   "execution_count": 12,
   "metadata": {
    "collapsed": false
   },
   "outputs": [],
   "source": [
    "from bempp.api.linalg import lu\n",
    "lambda_data = lu(slp, rhs)"
   ]
  },
  {
   "cell_type": "markdown",
   "metadata": {},
   "source": [
    "Now that the solution $\\mathbf{\\lambda}$ is computed we want to plot the total field. First, we define a grid of points in the x-z plane."
   ]
  },
  {
   "cell_type": "code",
   "execution_count": null,
   "metadata": {
    "collapsed": false
   },
   "outputs": [],
   "source": [
    "# Create a grid of points\n",
    "\n",
    "nx = 151\n",
    "nz = 151\n",
    "extent = 5\n",
    "x, y, z = np.mgrid[-extent:extent:nx * 1j, 0:0:1j, -extent:extent:nz * 1j]\n",
    "points = np.vstack((x.ravel(), y.ravel(), z.ravel()))\n"
   ]
  },
  {
   "cell_type": "markdown",
   "metadata": {},
   "source": [
    "We now initialize the single-layer potential operator. By default potentials are assembled using accelerated H-Matrix techniques. Here, we set the accuracy of the assembly to 1E-2. This is quite low but sufficient for plotting accuracy."
   ]
  },
  {
   "cell_type": "code",
   "execution_count": null,
   "metadata": {
    "collapsed": false
   },
   "outputs": [],
   "source": [
    "bempp.api.global_parameters.hmat.eps = 1E-2\n",
    "slp_pot = bempp.api.operators.potential.maxwell.electric_field(space, points, k)"
   ]
  },
  {
   "cell_type": "markdown",
   "metadata": {},
   "source": [
    "The following commands now compute the total field by first computing the scattered field from the representation formula and then summing into it the incident field."
   ]
  },
  {
   "cell_type": "code",
   "execution_count": null,
   "metadata": {
    "collapsed": false
   },
   "outputs": [],
   "source": [
    "scattered_field_data = -slp_pot * lambda_data\n",
    "incident_field_data = incident_field(points)\n",
    "field_data = scattered_field_data + incident_field_data"
   ]
  },
  {
   "cell_type": "markdown",
   "metadata": {},
   "source": [
    "In electromagnetic scattering it is often useful to visualize the squared electric field density. This value is computed below."
   ]
  },
  {
   "cell_type": "code",
   "execution_count": null,
   "metadata": {
    "collapsed": false
   },
   "outputs": [],
   "source": [
    "squared_field_density = np.real(np.sum(field_data * field_data.conj(), axis=0))"
   ]
  },
  {
   "cell_type": "markdown",
   "metadata": {},
   "source": [
    "Finally, we can plot everything using a simple Matplotlib plot."
   ]
  },
  {
   "cell_type": "code",
   "execution_count": null,
   "metadata": {
    "collapsed": false
   },
   "outputs": [],
   "source": [
    "%matplotlib inline\n",
    "import matplotlib\n",
    "from matplotlib import pyplot as plt\n",
    "# Adjust the figure size in IPython\n",
    "matplotlib.rcParams['figure.figsize'] = (10.0, 8.0) \n",
    "\n",
    "plt.imshow(squared_field_density.reshape((nx,nz)).T,\n",
    "           cmap='coolwarm', origin='lower',\n",
    "           extent=[-extent, extent, -extent,extent])\n",
    "plt.colorbar()\n",
    "plt.title(\"Squared Electric Field Density\")"
   ]
  },
  {
   "cell_type": "code",
   "execution_count": null,
   "metadata": {
    "collapsed": true
   },
   "outputs": [],
   "source": []
  }
 ],
 "metadata": {
  "celltoolbar": "Slideshow",
  "kernelspec": {
   "display_name": "Python 2",
   "language": "python",
   "name": "python2"
  },
  "language_info": {
   "codemirror_mode": {
    "name": "ipython",
    "version": 2
   },
   "file_extension": ".py",
   "mimetype": "text/x-python",
   "name": "python",
   "nbconvert_exporter": "python",
   "pygments_lexer": "ipython2",
   "version": "2.7.11"
  }
 },
 "nbformat": 4,
 "nbformat_minor": 0
}
